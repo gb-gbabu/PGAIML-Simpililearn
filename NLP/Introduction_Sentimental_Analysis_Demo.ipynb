{
 "cells": [
  {
   "cell_type": "code",
   "execution_count": 8,
   "metadata": {
    "id": "1Pg63URboWpk"
   },
   "outputs": [],
   "source": [
    "# As per NLP theory, \n",
    "# \n",
    "# Sentimental Analysis is defined by 3 Polarity Scores:\n",
    "# 1 Positive\n",
    "# 2 Neutral\n",
    "# 3 Negative\n",
    "#\n",
    "# Two terms in Sentimental Analysis:\n",
    "# 1. Polarity: It defines whether the sentiment is positive and negative\n",
    "# 2. Intensity: It defines how much positive or negative the sentiment\n",
    "#\n",
    "# To judge the intensity of the prediction \n",
    "# most practitioners use compound"
   ]
  },
  {
   "cell_type": "code",
   "execution_count": 2,
   "metadata": {
    "id": "TCl70JJ9pCJH"
   },
   "outputs": [],
   "source": [
    "## VADER module in NLTK"
   ]
  },
  {
   "cell_type": "code",
   "execution_count": 3,
   "metadata": {
    "id": "Wzep4DwQpHJH"
   },
   "outputs": [],
   "source": [
    "#VADER ( Valence Aware Dictionary for Sentiment Reasoning) is a model used for \n",
    "#text sentiment analysis that is sensitive to both polarity (positive/negative) \n",
    "#and intensity (strength) of emotion."
   ]
  },
  {
   "cell_type": "code",
   "execution_count": 5,
   "metadata": {
    "colab": {
     "base_uri": "https://localhost:8080/"
    },
    "id": "nM-y2T4lpyVB",
    "outputId": "45755796-226f-4ddf-f9fa-1515bb0c2de2"
   },
   "outputs": [
    {
     "name": "stdout",
     "output_type": "stream",
     "text": [
      "[nltk_data] Downloading package vader_lexicon to /root/nltk_data...\n"
     ]
    },
    {
     "data": {
      "text/plain": [
       "True"
      ]
     },
     "execution_count": 5,
     "metadata": {},
     "output_type": "execute_result"
    }
   ],
   "source": [
    "import nltk\n",
    "nltk.download('vader_lexicon')"
   ]
  },
  {
   "cell_type": "code",
   "execution_count": 6,
   "metadata": {
    "id": "LSt_6HC7pX76"
   },
   "outputs": [],
   "source": [
    "from nltk.sentiment.vader import SentimentIntensityAnalyzer\n",
    "\n",
    "sentimentAnalyser = SentimentIntensityAnalyzer()"
   ]
  },
  {
   "cell_type": "code",
   "execution_count": 7,
   "metadata": {
    "colab": {
     "base_uri": "https://localhost:8080/"
    },
    "id": "HQInoFNepuCW",
    "outputId": "68be6cd1-c9f2-41ca-8d56-eca33516cc4d"
   },
   "outputs": [
    {
     "data": {
      "text/plain": [
       "{'compound': 0.4404, 'neg': 0.0, 'neu': 0.508, 'pos': 0.492}"
      ]
     },
     "execution_count": 7,
     "metadata": {},
     "output_type": "execute_result"
    }
   ],
   "source": [
    "#Example1: \n",
    "# 1 Positive\n",
    "# 2 Neutral\n",
    "# 3 Negative\n",
    "\n",
    "data = \"This was a good movie\"\n",
    "sentimentAnalyser.polarity_scores(data)"
   ]
  },
  {
   "cell_type": "code",
   "execution_count": null,
   "metadata": {
    "id": "tsyJV2HoqJEZ"
   },
   "outputs": [],
   "source": [
    "# its neu . VADER is only 44% sure about it"
   ]
  },
  {
   "cell_type": "code",
   "execution_count": 9,
   "metadata": {
    "colab": {
     "base_uri": "https://localhost:8080/"
    },
    "id": "DQJp8G7FrfIz",
    "outputId": "c437f1bf-bbe3-45c6-dd60-4322bd82ef82"
   },
   "outputs": [
    {
     "data": {
      "text/plain": [
       "{'compound': 0.5106, 'neg': 0.0, 'neu': 0.0, 'pos': 1.0}"
      ]
     },
     "execution_count": 9,
     "metadata": {},
     "output_type": "execute_result"
    }
   ],
   "source": [
    "data = \":D\"\n",
    "\n",
    "sentimentAnalyser.polarity_scores(data)"
   ]
  },
  {
   "cell_type": "code",
   "execution_count": 10,
   "metadata": {
    "colab": {
     "base_uri": "https://localhost:8080/"
    },
    "id": "taS8U-fZrpB3",
    "outputId": "73dc2653-1351-4768-dd3e-1bd870e7904c"
   },
   "outputs": [
    {
     "data": {
      "text/plain": [
       "{'compound': 0.5622, 'neg': 0.0, 'neu': 0.452, 'pos': 0.548}"
      ]
     },
     "execution_count": 10,
     "metadata": {},
     "output_type": "execute_result"
    }
   ],
   "source": [
    "data = \"This was a GOOD movie\"\n",
    "sentimentAnalyser.polarity_scores(data)"
   ]
  },
  {
   "cell_type": "code",
   "execution_count": 11,
   "metadata": {
    "colab": {
     "base_uri": "https://localhost:8080/"
    },
    "id": "LqwmAZIPr8KA",
    "outputId": "f9a4691f-76fa-4487-e952-df2a30962c74"
   },
   "outputs": [
    {
     "data": {
      "text/plain": [
       "{'compound': 0.9201, 'neg': 0.061, 'neu': 0.805, 'pos': 0.134}"
      ]
     },
     "execution_count": 11,
     "metadata": {},
     "output_type": "execute_result"
    }
   ],
   "source": [
    "data = \"I see no reviews of this phone on Amazon so far. Is mine the First? Looks like not many were interested in this phone after all! :D As usual I end up purchasing not so popular things like I did in 2015 by purchasing Samsung Galaxy S5. I ordered my Oneplus 9RT from Oneplus Store app as soon as it went on sale because there was a small extra discount on old Oneplus phones. It looked like a good deal but when I checked the Amazon website, there were already card offers of about Rs.4000 off using SBI and a few other not so popular cards. I have only HDFC credit card which had no offers. But I still chose to purchase it from Oneplus store because I was getting Rs.500 off on OnePlus Band. I decided to try that too as I own Oneplus Buds Z (See! Getting into the Ecosystem). Another offer was 6 months free Spotify premium (not available to those who completed Spotify free trial or previously purchased Spotify premium as per their T&C. Do re-check if you are buying from there).\"\n",
    "sentimentAnalyser.polarity_scores(data)"
   ]
  },
  {
   "cell_type": "code",
   "execution_count": null,
   "metadata": {
    "id": "LojIQ7jYsZrF"
   },
   "outputs": [],
   "source": []
  }
 ],
 "metadata": {
  "colab": {
   "name": "Introduction: Sentimental Analysis Demo.ipynb",
   "provenance": []
  },
  "kernelspec": {
   "display_name": "Python 3",
   "language": "python",
   "name": "python3"
  },
  "language_info": {
   "codemirror_mode": {
    "name": "ipython",
    "version": 3
   },
   "file_extension": ".py",
   "mimetype": "text/x-python",
   "name": "python",
   "nbconvert_exporter": "python",
   "pygments_lexer": "ipython3",
   "version": "3.8.10"
  }
 },
 "nbformat": 4,
 "nbformat_minor": 4
}
