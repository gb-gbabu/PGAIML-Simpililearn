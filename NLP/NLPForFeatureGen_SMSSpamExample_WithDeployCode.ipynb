{
 "cells": [
  {
   "cell_type": "code",
   "execution_count": 1,
   "metadata": {
    "id": "6SieMKhuezLX"
   },
   "outputs": [],
   "source": [
    "#Use-case: SMS Spam Classification\n",
    "#Goal: You need to create a model that can predict whether the given sms is a spam or ham sms"
   ]
  },
  {
   "cell_type": "code",
   "execution_count": 2,
   "metadata": {
    "id": "80Kak8RTfLDT"
   },
   "outputs": [],
   "source": [
    "import pandas as pd\n",
    "import numpy as np"
   ]
  },
  {
   "cell_type": "code",
   "execution_count": 3,
   "metadata": {
    "id": "sgK0hmegfNaL"
   },
   "outputs": [],
   "source": [
    "data = pd.read_csv('SMSSpamCollection' , sep='\\t', names=['label','message'])"
   ]
  },
  {
   "cell_type": "code",
   "execution_count": 4,
   "metadata": {
    "colab": {
     "base_uri": "https://localhost:8080/",
     "height": 206
    },
    "id": "0OCXThQgfU1A",
    "outputId": "b12025d9-fbc2-481e-ccdc-ed12640a9dbe"
   },
   "outputs": [
    {
     "data": {
      "text/html": [
       "\n",
       "  <div id=\"df-445662d7-98c1-476a-8e1f-8b5428cd7678\">\n",
       "    <div class=\"colab-df-container\">\n",
       "      <div>\n",
       "<style scoped>\n",
       "    .dataframe tbody tr th:only-of-type {\n",
       "        vertical-align: middle;\n",
       "    }\n",
       "\n",
       "    .dataframe tbody tr th {\n",
       "        vertical-align: top;\n",
       "    }\n",
       "\n",
       "    .dataframe thead th {\n",
       "        text-align: right;\n",
       "    }\n",
       "</style>\n",
       "<table border=\"1\" class=\"dataframe\">\n",
       "  <thead>\n",
       "    <tr style=\"text-align: right;\">\n",
       "      <th></th>\n",
       "      <th>label</th>\n",
       "      <th>message</th>\n",
       "    </tr>\n",
       "  </thead>\n",
       "  <tbody>\n",
       "    <tr>\n",
       "      <th>0</th>\n",
       "      <td>ham</td>\n",
       "      <td>Go until jurong point, crazy.. Available only ...</td>\n",
       "    </tr>\n",
       "    <tr>\n",
       "      <th>1</th>\n",
       "      <td>ham</td>\n",
       "      <td>Ok lar... Joking wif u oni...</td>\n",
       "    </tr>\n",
       "    <tr>\n",
       "      <th>2</th>\n",
       "      <td>spam</td>\n",
       "      <td>Free entry in 2 a wkly comp to win FA Cup fina...</td>\n",
       "    </tr>\n",
       "    <tr>\n",
       "      <th>3</th>\n",
       "      <td>ham</td>\n",
       "      <td>U dun say so early hor... U c already then say...</td>\n",
       "    </tr>\n",
       "    <tr>\n",
       "      <th>4</th>\n",
       "      <td>ham</td>\n",
       "      <td>Nah I don't think he goes to usf, he lives aro...</td>\n",
       "    </tr>\n",
       "  </tbody>\n",
       "</table>\n",
       "</div>\n",
       "      <button class=\"colab-df-convert\" onclick=\"convertToInteractive('df-445662d7-98c1-476a-8e1f-8b5428cd7678')\"\n",
       "              title=\"Convert this dataframe to an interactive table.\"\n",
       "              style=\"display:none;\">\n",
       "        \n",
       "  <svg xmlns=\"http://www.w3.org/2000/svg\" height=\"24px\"viewBox=\"0 0 24 24\"\n",
       "       width=\"24px\">\n",
       "    <path d=\"M0 0h24v24H0V0z\" fill=\"none\"/>\n",
       "    <path d=\"M18.56 5.44l.94 2.06.94-2.06 2.06-.94-2.06-.94-.94-2.06-.94 2.06-2.06.94zm-11 1L8.5 8.5l.94-2.06 2.06-.94-2.06-.94L8.5 2.5l-.94 2.06-2.06.94zm10 10l.94 2.06.94-2.06 2.06-.94-2.06-.94-.94-2.06-.94 2.06-2.06.94z\"/><path d=\"M17.41 7.96l-1.37-1.37c-.4-.4-.92-.59-1.43-.59-.52 0-1.04.2-1.43.59L10.3 9.45l-7.72 7.72c-.78.78-.78 2.05 0 2.83L4 21.41c.39.39.9.59 1.41.59.51 0 1.02-.2 1.41-.59l7.78-7.78 2.81-2.81c.8-.78.8-2.07 0-2.86zM5.41 20L4 18.59l7.72-7.72 1.47 1.35L5.41 20z\"/>\n",
       "  </svg>\n",
       "      </button>\n",
       "      \n",
       "  <style>\n",
       "    .colab-df-container {\n",
       "      display:flex;\n",
       "      flex-wrap:wrap;\n",
       "      gap: 12px;\n",
       "    }\n",
       "\n",
       "    .colab-df-convert {\n",
       "      background-color: #E8F0FE;\n",
       "      border: none;\n",
       "      border-radius: 50%;\n",
       "      cursor: pointer;\n",
       "      display: none;\n",
       "      fill: #1967D2;\n",
       "      height: 32px;\n",
       "      padding: 0 0 0 0;\n",
       "      width: 32px;\n",
       "    }\n",
       "\n",
       "    .colab-df-convert:hover {\n",
       "      background-color: #E2EBFA;\n",
       "      box-shadow: 0px 1px 2px rgba(60, 64, 67, 0.3), 0px 1px 3px 1px rgba(60, 64, 67, 0.15);\n",
       "      fill: #174EA6;\n",
       "    }\n",
       "\n",
       "    [theme=dark] .colab-df-convert {\n",
       "      background-color: #3B4455;\n",
       "      fill: #D2E3FC;\n",
       "    }\n",
       "\n",
       "    [theme=dark] .colab-df-convert:hover {\n",
       "      background-color: #434B5C;\n",
       "      box-shadow: 0px 1px 3px 1px rgba(0, 0, 0, 0.15);\n",
       "      filter: drop-shadow(0px 1px 2px rgba(0, 0, 0, 0.3));\n",
       "      fill: #FFFFFF;\n",
       "    }\n",
       "  </style>\n",
       "\n",
       "      <script>\n",
       "        const buttonEl =\n",
       "          document.querySelector('#df-445662d7-98c1-476a-8e1f-8b5428cd7678 button.colab-df-convert');\n",
       "        buttonEl.style.display =\n",
       "          google.colab.kernel.accessAllowed ? 'block' : 'none';\n",
       "\n",
       "        async function convertToInteractive(key) {\n",
       "          const element = document.querySelector('#df-445662d7-98c1-476a-8e1f-8b5428cd7678');\n",
       "          const dataTable =\n",
       "            await google.colab.kernel.invokeFunction('convertToInteractive',\n",
       "                                                     [key], {});\n",
       "          if (!dataTable) return;\n",
       "\n",
       "          const docLinkHtml = 'Like what you see? Visit the ' +\n",
       "            '<a target=\"_blank\" href=https://colab.research.google.com/notebooks/data_table.ipynb>data table notebook</a>'\n",
       "            + ' to learn more about interactive tables.';\n",
       "          element.innerHTML = '';\n",
       "          dataTable['output_type'] = 'display_data';\n",
       "          await google.colab.output.renderOutput(dataTable, element);\n",
       "          const docLink = document.createElement('div');\n",
       "          docLink.innerHTML = docLinkHtml;\n",
       "          element.appendChild(docLink);\n",
       "        }\n",
       "      </script>\n",
       "    </div>\n",
       "  </div>\n",
       "  "
      ],
      "text/plain": [
       "  label                                            message\n",
       "0   ham  Go until jurong point, crazy.. Available only ...\n",
       "1   ham                      Ok lar... Joking wif u oni...\n",
       "2  spam  Free entry in 2 a wkly comp to win FA Cup fina...\n",
       "3   ham  U dun say so early hor... U c already then say...\n",
       "4   ham  Nah I don't think he goes to usf, he lives aro..."
      ]
     },
     "execution_count": 4,
     "metadata": {},
     "output_type": "execute_result"
    }
   ],
   "source": [
    "data.head()"
   ]
  },
  {
   "cell_type": "code",
   "execution_count": 5,
   "metadata": {
    "colab": {
     "base_uri": "https://localhost:8080/"
    },
    "id": "5ASGC9SafV_C",
    "outputId": "6d688750-177c-4dd3-8cc9-9b90bb8a5c6f"
   },
   "outputs": [
    {
     "name": "stdout",
     "output_type": "stream",
     "text": [
      "<class 'pandas.core.frame.DataFrame'>\n",
      "RangeIndex: 5572 entries, 0 to 5571\n",
      "Data columns (total 2 columns):\n",
      " #   Column   Non-Null Count  Dtype \n",
      "---  ------   --------------  ----- \n",
      " 0   label    5572 non-null   object\n",
      " 1   message  5572 non-null   object\n",
      "dtypes: object(2)\n",
      "memory usage: 87.2+ KB\n"
     ]
    }
   ],
   "source": [
    "data.info()"
   ]
  },
  {
   "cell_type": "code",
   "execution_count": 6,
   "metadata": {
    "colab": {
     "base_uri": "https://localhost:8080/"
    },
    "id": "7RleuzeJfX_L",
    "outputId": "c16d9cbf-1dbb-41f5-f94d-89db4fbb2bc8"
   },
   "outputs": [
    {
     "data": {
      "text/plain": [
       "ham     4825\n",
       "spam     747\n",
       "Name: label, dtype: int64"
      ]
     },
     "execution_count": 6,
     "metadata": {},
     "output_type": "execute_result"
    }
   ],
   "source": [
    "data.label.value_counts()"
   ]
  },
  {
   "cell_type": "code",
   "execution_count": 7,
   "metadata": {
    "id": "79H9cLVxfcHm"
   },
   "outputs": [],
   "source": [
    "#Unbalanced Dataset\n",
    "# 1. Test for Generalization : Accuracy\n",
    "# 2. Quality Check (Comparing CL): F1 Score"
   ]
  },
  {
   "cell_type": "code",
   "execution_count": 8,
   "metadata": {
    "id": "HOREIW86frzB"
   },
   "outputs": [],
   "source": [
    "# Seperate data as features and label\n",
    "features = data.iloc[:,[1]].values\n",
    "label = data.iloc[:,0].values"
   ]
  },
  {
   "cell_type": "code",
   "execution_count": 10,
   "metadata": {
    "id": "42dNHk5Wf1tE"
   },
   "outputs": [],
   "source": [
    "# Perform Text Preprocessing\n",
    "# Your creativity can be applied considering it resonates with the dataset.\n",
    "#\n",
    "# We will create a text preprocessing function that can perform the following:\n",
    "# 1. Remove Punctuation\n",
    "# 2. Extract words out of the sentences\n",
    "# 3. Normalize data in lowercase\n",
    "# 4. Remove stopwords\n",
    "# ..."
   ]
  },
  {
   "cell_type": "code",
   "execution_count": 15,
   "metadata": {
    "id": "oXVfNF2vggqz"
   },
   "outputs": [],
   "source": [
    "#Punctuation Removal Logic\n",
    "import string\n",
    "text = \"Welcome to Simplilearn! You are learning NLP !\"\n",
    "processedtext = ''.join([ char for char in text if char not in string.punctuation ])"
   ]
  },
  {
   "cell_type": "code",
   "execution_count": 23,
   "metadata": {
    "id": "BiRxE6Ljg396"
   },
   "outputs": [],
   "source": [
    "#Seperate words from string and normalize it\n",
    "\n",
    "wordsInLowerCase = [word.lower() for word in processedtext.split(\" \")]"
   ]
  },
  {
   "cell_type": "code",
   "execution_count": 19,
   "metadata": {
    "colab": {
     "base_uri": "https://localhost:8080/"
    },
    "id": "5qoFiwAZh-zH",
    "outputId": "b5da9048-8716-4cc5-fac5-823cd33a4fa2"
   },
   "outputs": [
    {
     "name": "stdout",
     "output_type": "stream",
     "text": [
      "[nltk_data] Downloading package stopwords to /root/nltk_data...\n",
      "[nltk_data]   Unzipping corpora/stopwords.zip.\n"
     ]
    },
    {
     "data": {
      "text/plain": [
       "True"
      ]
     },
     "execution_count": 19,
     "metadata": {},
     "output_type": "execute_result"
    }
   ],
   "source": [
    "import nltk\n",
    "nltk.download('stopwords')"
   ]
  },
  {
   "cell_type": "code",
   "execution_count": 22,
   "metadata": {
    "colab": {
     "base_uri": "https://localhost:8080/"
    },
    "id": "0-18RfjYhl3L",
    "outputId": "f63168b4-8b8a-4b1b-ec62-c735c4ef9268"
   },
   "outputs": [
    {
     "data": {
      "text/plain": [
       "['welcome', 'simplilearn', 'learning', 'nlp', '']"
      ]
     },
     "execution_count": 22,
     "metadata": {},
     "output_type": "execute_result"
    }
   ],
   "source": [
    "#Remove Stopwords\n",
    "import nltk\n",
    "from nltk.corpus import stopwords\n",
    "\n",
    "[word for word in wordsInLowerCase if word not in stopwords.words('english')]"
   ]
  },
  {
   "cell_type": "code",
   "execution_count": 27,
   "metadata": {
    "id": "RxRpu0N9h8CD"
   },
   "outputs": [],
   "source": [
    "import string\n",
    "from nltk.corpus import stopwords\n",
    "def textPreprocessing(document):\n",
    "  #Remove Punctuations\n",
    "  processedtext = ''.join([ char for char in document if char not in string.punctuation ])\n",
    "  ##Seperate words from string and normalize it\n",
    "  wordsInLowerCase = [word.lower() for word in processedtext.split(\" \")]\n",
    "  # Generate Vocab\n",
    "  return [word for word in wordsInLowerCase if word not in stopwords.words('english')]"
   ]
  },
  {
   "cell_type": "code",
   "execution_count": 28,
   "metadata": {
    "colab": {
     "base_uri": "https://localhost:8080/"
    },
    "id": "0flQz69oitLu",
    "outputId": "0e7989bf-bdb9-41ef-cbc3-c651d7615521"
   },
   "outputs": [
    {
     "data": {
      "text/plain": [
       "['welcome', 'simplilearn', 'learning', 'nlp', '']"
      ]
     },
     "execution_count": 28,
     "metadata": {},
     "output_type": "execute_result"
    }
   ],
   "source": [
    "textPreprocessing(\"Welcome to Simplilearn! You are learning NLP !\")"
   ]
  },
  {
   "cell_type": "code",
   "execution_count": null,
   "metadata": {
    "id": "jMwkX4OMi2Og"
   },
   "outputs": [],
   "source": []
  },
  {
   "cell_type": "code",
   "execution_count": 29,
   "metadata": {
    "id": "--COqLIPjoB-"
   },
   "outputs": [],
   "source": [
    "#Create BOW using Sklearn\n",
    "\n",
    "from sklearn.feature_extraction.text import CountVectorizer\n",
    "wordVector = CountVectorizer(analyzer=textPreprocessing)\n",
    "\n",
    "#Build the Vocabulary\n",
    "\n",
    "finalWordVectorVocab = wordVector.fit(features)"
   ]
  },
  {
   "cell_type": "code",
   "execution_count": 33,
   "metadata": {
    "colab": {
     "base_uri": "https://localhost:8080/"
    },
    "id": "2RHsh0FbkJGu",
    "outputId": "ee60d35b-bd12-4eda-b385-d427db6a56e4"
   },
   "outputs": [
    {
     "data": {
      "text/plain": [
       "13431"
      ]
     },
     "execution_count": 33,
     "metadata": {},
     "output_type": "execute_result"
    }
   ],
   "source": [
    "len(finalWordVectorVocab.vocabulary_)"
   ]
  },
  {
   "cell_type": "code",
   "execution_count": 32,
   "metadata": {
    "id": "pvz5KnPgkN3o"
   },
   "outputs": [],
   "source": [
    "# THe above shows that punctuation still exists\n",
    "# Figure out how to remove those using Sklearn countvectorizer method !!!"
   ]
  },
  {
   "cell_type": "code",
   "execution_count": null,
   "metadata": {
    "id": "HZuiSl9ClhrA"
   },
   "outputs": [],
   "source": [
    "#fit_transform()"
   ]
  },
  {
   "cell_type": "code",
   "execution_count": 34,
   "metadata": {
    "id": "n8lOni4clH0O"
   },
   "outputs": [],
   "source": [
    "#To create BOW object\n",
    "bagOfWords = finalWordVectorVocab.transform(features)"
   ]
  },
  {
   "cell_type": "code",
   "execution_count": 35,
   "metadata": {
    "colab": {
     "base_uri": "https://localhost:8080/"
    },
    "id": "uTioNLqAleod",
    "outputId": "3ea60409-f142-429c-aaa6-a06f63b35f5b"
   },
   "outputs": [
    {
     "data": {
      "text/plain": [
       "<5572x13431 sparse matrix of type '<class 'numpy.int64'>'\n",
       "\twith 53461 stored elements in Compressed Sparse Row format>"
      ]
     },
     "execution_count": 35,
     "metadata": {},
     "output_type": "execute_result"
    }
   ],
   "source": [
    "bagOfWords"
   ]
  },
  {
   "cell_type": "code",
   "execution_count": 36,
   "metadata": {
    "id": "-7iTPI3AlvkM"
   },
   "outputs": [],
   "source": [
    "#Apply TF IDF algo on BOW to create featureColumn\n",
    "\n",
    "from sklearn.feature_extraction.text import TfidfTransformer\n",
    "tfIdfObject = TfidfTransformer().fit(bagOfWords) #Calc IDF values"
   ]
  },
  {
   "cell_type": "code",
   "execution_count": 37,
   "metadata": {
    "id": "amo5dDzemXn5"
   },
   "outputs": [],
   "source": [
    "processedFeaturesCol = tfIdfObject.transform(bagOfWords)"
   ]
  },
  {
   "cell_type": "code",
   "execution_count": 66,
   "metadata": {
    "id": "2vMAdfrYmf38"
   },
   "outputs": [],
   "source": [
    "# Create Train Test Split\n",
    "from sklearn.model_selection import train_test_split\n",
    "X_train,X_test,y_train,y_test = train_test_split(processedFeaturesCol,\n",
    "                                                 label,\n",
    "                                                 test_size=0.2,\n",
    "                                                 random_state=6)\n"
   ]
  },
  {
   "cell_type": "code",
   "execution_count": 67,
   "metadata": {
    "colab": {
     "base_uri": "https://localhost:8080/"
    },
    "id": "yxafLFGKmkCE",
    "outputId": "9c79d8d4-b20d-470f-9ab9-db94b46679ff"
   },
   "outputs": [
    {
     "data": {
      "text/plain": [
       "LogisticRegression()"
      ]
     },
     "execution_count": 67,
     "metadata": {},
     "output_type": "execute_result"
    }
   ],
   "source": [
    "# Build the model using LogisticRegression\n",
    "\n",
    "from sklearn.linear_model import LogisticRegression\n",
    "model = LogisticRegression()\n",
    "model.fit(X_train,y_train)"
   ]
  },
  {
   "cell_type": "code",
   "execution_count": 68,
   "metadata": {
    "id": "hKXPRPCtmpaY"
   },
   "outputs": [],
   "source": [
    "\n",
    "# Check the Quality of the Model\n",
    "# SL received from the client is 0.35\n",
    "\n"
   ]
  },
  {
   "cell_type": "code",
   "execution_count": 69,
   "metadata": {
    "colab": {
     "base_uri": "https://localhost:8080/"
    },
    "id": "Omvy9Yc-yraY",
    "outputId": "1424aa54-c396-4318-bcda-9d233799d3e3"
   },
   "outputs": [
    {
     "name": "stdout",
     "output_type": "stream",
     "text": [
      "Training Score:  0.9584922593672874\n",
      "Testing Score:  0.9587443946188341\n"
     ]
    }
   ],
   "source": [
    "#1. Test For Generalization\n",
    "\n",
    "print(\"Training Score: \",model.score(X_train,y_train))\n",
    "print(\"Testing Score: \",model.score(X_test,y_test))"
   ]
  },
  {
   "cell_type": "code",
   "execution_count": 70,
   "metadata": {
    "colab": {
     "base_uri": "https://localhost:8080/"
    },
    "id": "0DZKkn6Yzg2x",
    "outputId": "b5e51555-c96a-41ad-83b8-85cf4954e433"
   },
   "outputs": [
    {
     "name": "stdout",
     "output_type": "stream",
     "text": [
      "              precision    recall  f1-score   support\n",
      "\n",
      "         ham       0.95      1.00      0.98      4825\n",
      "        spam       1.00      0.69      0.82       747\n",
      "\n",
      "    accuracy                           0.96      5572\n",
      "   macro avg       0.98      0.85      0.90      5572\n",
      "weighted avg       0.96      0.96      0.96      5572\n",
      "\n"
     ]
    }
   ],
   "source": [
    "# Check the Quality of the Model\n",
    "# SL received from the client is 0.35\n",
    "# CL = 0.65\n",
    "\n",
    "#Use F1 Score\n",
    "\n",
    "from sklearn.metrics import classification_report\n",
    "print(classification_report(label, model.predict(processedFeaturesCol)))"
   ]
  },
  {
   "cell_type": "code",
   "execution_count": null,
   "metadata": {
    "id": "SnQ8K6nHz31U"
   },
   "outputs": [],
   "source": [
    "# Take Avg of F1 Score and compare it with CL\n",
    "# (0.98 + 0.82) / 2 = 0.90 > CL\n",
    "# Model Accepted !!!"
   ]
  },
  {
   "cell_type": "code",
   "execution_count": 75,
   "metadata": {
    "colab": {
     "base_uri": "https://localhost:8080/"
    },
    "id": "RQrF_mWkmsbJ",
    "outputId": "24ef4cae-9c54-44b8-c94d-e5a03c58e674"
   },
   "outputs": [
    {
     "name": "stdout",
     "output_type": "stream",
     "text": [
      "Enter SMS: Win Lottery Guaranteed !\n",
      "Given SMS is a spam sms\n"
     ]
    }
   ],
   "source": [
    "# Deploy the model\n",
    "#\n",
    "# Input\n",
    "smsInput = input(\"Enter SMS: \")\n",
    "# Preprocess the Input\n",
    "\n",
    "preprocessedFeature = textPreprocessing(smsInput)\n",
    "\n",
    "# BOW\n",
    "bowFeature = finalWordVectorVocab.transform(preprocessedFeature)\n",
    "\n",
    "#TFIDF\n",
    "\n",
    "actualFeature = tfIdfObject.transform(bowFeature)\n",
    "\n",
    "#Predict\n",
    "\n",
    "predLabel = model.predict(actualFeature)[0] #display whatever is max(voting)\n",
    "\n",
    "print(\"Given SMS is a {} sms\".format(predLabel))"
   ]
  },
  {
   "cell_type": "code",
   "execution_count": null,
   "metadata": {
    "id": "ISlcTIGE1rtv"
   },
   "outputs": [],
   "source": [
    "# Deployment\n",
    "# finalWordVectorVocab\n",
    "# tfIdfObject\n",
    "# export textPreprocessing()"
   ]
  }
 ],
 "metadata": {
  "colab": {
   "collapsed_sections": [],
   "name": "NLPForFeatureGen_SMSSpamExample_WithDeployCode.ipynb",
   "provenance": []
  },
  "kernelspec": {
   "display_name": "Python 3",
   "language": "python",
   "name": "python3"
  },
  "language_info": {
   "codemirror_mode": {
    "name": "ipython",
    "version": 3
   },
   "file_extension": ".py",
   "mimetype": "text/x-python",
   "name": "python",
   "nbconvert_exporter": "python",
   "pygments_lexer": "ipython3",
   "version": "3.8.10"
  }
 },
 "nbformat": 4,
 "nbformat_minor": 4
}
