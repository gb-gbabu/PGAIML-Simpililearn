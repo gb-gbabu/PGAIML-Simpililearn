{
 "cells": [
  {
   "cell_type": "code",
   "execution_count": 3,
   "metadata": {},
   "outputs": [],
   "source": [
    "%config Completer.use_jedi = False"
   ]
  },
  {
   "cell_type": "code",
   "execution_count": 4,
   "metadata": {},
   "outputs": [],
   "source": [
    "from keras.preprocessing.image import ImageDataGenerator,array_to_img,img_to_array,load_img"
   ]
  },
  {
   "cell_type": "code",
   "execution_count": 5,
   "metadata": {},
   "outputs": [],
   "source": [
    "#img='dataset/training_set/dogs/dog.10.jpg'"
   ]
  },
  {
   "cell_type": "code",
   "execution_count": 6,
   "metadata": {},
   "outputs": [],
   "source": [
    "#datagen=ImageDataGenerator(rotation_range=40,width_shift_range=0.2,shear_range=0.2,horizontal_flip=True,fill_mode='nearest')"
   ]
  },
  {
   "cell_type": "code",
   "execution_count": 7,
   "metadata": {},
   "outputs": [],
   "source": [
    "#dogImg=load_img(img)"
   ]
  },
  {
   "cell_type": "code",
   "execution_count": 8,
   "metadata": {},
   "outputs": [],
   "source": [
    "#x=img_to_array(dogImg)"
   ]
  },
  {
   "cell_type": "code",
   "execution_count": 9,
   "metadata": {},
   "outputs": [],
   "source": [
    "#(1,)+(292, 269, 3)"
   ]
  },
  {
   "cell_type": "code",
   "execution_count": 10,
   "metadata": {},
   "outputs": [],
   "source": [
    "#x.shape"
   ]
  },
  {
   "cell_type": "code",
   "execution_count": 11,
   "metadata": {},
   "outputs": [],
   "source": [
    "#x=x.reshape((1,)+x.shape)"
   ]
  },
  {
   "cell_type": "code",
   "execution_count": 12,
   "metadata": {},
   "outputs": [],
   "source": [
    "#x.shape"
   ]
  },
  {
   "cell_type": "code",
   "execution_count": 13,
   "metadata": {},
   "outputs": [],
   "source": [
    "#i=0\n",
    "#for batch in datagen.flow(x,batch_size=1,save_to_dir='preview',\n",
    "#                          save_prefix='dog',save_format='png'):\n",
    "#    i=i+1\n",
    "#    if i>20:\n",
    "#        break"
   ]
  },
  {
   "cell_type": "code",
   "execution_count": 14,
   "metadata": {},
   "outputs": [],
   "source": [
    "from keras import backend as k\n",
    "import numpy as np"
   ]
  },
  {
   "cell_type": "code",
   "execution_count": 15,
   "metadata": {},
   "outputs": [],
   "source": [
    "k.set_image_data_format(\"channels_last\")"
   ]
  },
  {
   "cell_type": "markdown",
   "metadata": {},
   "source": [
    "## Model Architecture"
   ]
  },
  {
   "cell_type": "code",
   "execution_count": 33,
   "metadata": {},
   "outputs": [],
   "source": [
    "import keras\n",
    "from keras.models import Sequential\n",
    "from keras.layers import Conv2D, MaxPooling2D, Dropout, Activation, Flatten, Dense"
   ]
  },
  {
   "cell_type": "code",
   "execution_count": 34,
   "metadata": {},
   "outputs": [],
   "source": [
    "model=Sequential()\n",
    "model.add(Conv2D(filters=32,kernel_size=(3,3),input_shape=(150,150,3)))\n",
    "model.add(Activation('relu'))\n",
    "model.add(MaxPooling2D(pool_size=(2,2)))\n",
    "\n",
    "model.add(Conv2D(filters=32,kernel_size=(3,3)))\n",
    "model.add(Activation('relu'))\n",
    "model.add(MaxPooling2D(pool_size=(2,2)))\n",
    "\n",
    "model.add(Conv2D(filters=64,kernel_size=(3,3)))\n",
    "model.add(Activation('relu'))\n",
    "model.add(MaxPooling2D(pool_size=(2,2)))\n",
    "\n",
    "model.add(Flatten())\n",
    "model.add(Dense(64,activation='relu'))\n",
    "model.add(Dense(1,activation='sigmoid'))\n",
    "\n",
    "model.compile(loss='binary_crossentropy',optimizer='adam',metrics=['accuracy', keras.metrics.Precision(), keras.metrics.Recall()])"
   ]
  },
  {
   "cell_type": "code",
   "execution_count": 35,
   "metadata": {},
   "outputs": [
    {
     "data": {
      "text/plain": [
       "175232"
      ]
     },
     "execution_count": 35,
     "metadata": {},
     "output_type": "execute_result"
    }
   ],
   "source": [
    "74*74*32"
   ]
  },
  {
   "cell_type": "code",
   "execution_count": 36,
   "metadata": {},
   "outputs": [
    {
     "data": {
      "text/plain": [
       "11214912"
      ]
     },
     "execution_count": 36,
     "metadata": {},
     "output_type": "execute_result"
    }
   ],
   "source": [
    "175232*64+64"
   ]
  },
  {
   "cell_type": "code",
   "execution_count": 37,
   "metadata": {},
   "outputs": [
    {
     "name": "stdout",
     "output_type": "stream",
     "text": [
      "Model: \"sequential_2\"\n",
      "_________________________________________________________________\n",
      "Layer (type)                 Output Shape              Param #   \n",
      "=================================================================\n",
      "conv2d_4 (Conv2D)            (None, 148, 148, 32)      896       \n",
      "_________________________________________________________________\n",
      "activation_4 (Activation)    (None, 148, 148, 32)      0         \n",
      "_________________________________________________________________\n",
      "max_pooling2d_4 (MaxPooling2 (None, 74, 74, 32)        0         \n",
      "_________________________________________________________________\n",
      "conv2d_5 (Conv2D)            (None, 72, 72, 32)        9248      \n",
      "_________________________________________________________________\n",
      "activation_5 (Activation)    (None, 72, 72, 32)        0         \n",
      "_________________________________________________________________\n",
      "max_pooling2d_5 (MaxPooling2 (None, 36, 36, 32)        0         \n",
      "_________________________________________________________________\n",
      "conv2d_6 (Conv2D)            (None, 34, 34, 64)        18496     \n",
      "_________________________________________________________________\n",
      "activation_6 (Activation)    (None, 34, 34, 64)        0         \n",
      "_________________________________________________________________\n",
      "max_pooling2d_6 (MaxPooling2 (None, 17, 17, 64)        0         \n",
      "_________________________________________________________________\n",
      "flatten_2 (Flatten)          (None, 18496)             0         \n",
      "_________________________________________________________________\n",
      "dense_4 (Dense)              (None, 64)                1183808   \n",
      "_________________________________________________________________\n",
      "dense_5 (Dense)              (None, 1)                 65        \n",
      "=================================================================\n",
      "Total params: 1,212,513\n",
      "Trainable params: 1,212,513\n",
      "Non-trainable params: 0\n",
      "_________________________________________________________________\n"
     ]
    }
   ],
   "source": [
    "model.summary()"
   ]
  },
  {
   "cell_type": "code",
   "execution_count": 38,
   "metadata": {},
   "outputs": [],
   "source": [
    "train_datagen=ImageDataGenerator(rotation_range=40,width_shift_range=0.2,shear_range=0.2,\n",
    "                           horizontal_flip=True,fill_mode='nearest',rescale=1./255)"
   ]
  },
  {
   "cell_type": "code",
   "execution_count": 39,
   "metadata": {},
   "outputs": [],
   "source": [
    "test_datagen=ImageDataGenerator(rescale=1./255)"
   ]
  },
  {
   "cell_type": "code",
   "execution_count": 40,
   "metadata": {},
   "outputs": [],
   "source": [
    "batchSize=16"
   ]
  },
  {
   "cell_type": "code",
   "execution_count": 41,
   "metadata": {},
   "outputs": [],
   "source": [
    "import os, shutil"
   ]
  },
  {
   "cell_type": "code",
   "execution_count": 42,
   "metadata": {},
   "outputs": [],
   "source": [
    "#os.listdir('dataset/training_set')"
   ]
  },
  {
   "cell_type": "code",
   "execution_count": 43,
   "metadata": {},
   "outputs": [],
   "source": [
    "#shutil.rmtree('dataset/training_set/.ipynb_checkpoints')"
   ]
  },
  {
   "cell_type": "code",
   "execution_count": 44,
   "metadata": {},
   "outputs": [
    {
     "name": "stdout",
     "output_type": "stream",
     "text": [
      "Found 8000 images belonging to 2 classes.\n",
      "Found 2000 images belonging to 2 classes.\n"
     ]
    }
   ],
   "source": [
    "train_generator=train_datagen.flow_from_directory('dataset/dataset/training_set',\n",
    "                                                  target_size=(150,150),\n",
    "                                                  batch_size=batchSize,\n",
    "                                                  class_mode='binary')\n",
    "validation_generator=train_datagen.flow_from_directory('dataset/dataset/test_set',\n",
    "                                                  target_size=(150,150),\n",
    "                                                  batch_size=batchSize,\n",
    "                                                  class_mode='binary')"
   ]
  },
  {
   "cell_type": "code",
   "execution_count": 47,
   "metadata": {},
   "outputs": [
    {
     "name": "stdout",
     "output_type": "stream",
     "text": [
      "Epoch 1/20\n",
      "250/250 [==============================] - 264s 1s/step - loss: 0.4695 - accuracy: 0.7760 - precision_2: 0.7757 - recall_2: 0.7679 - val_loss: 0.5157 - val_accuracy: 0.7700 - val_precision_2: 0.7775 - val_recall_2: 0.7812\n",
      "Epoch 2/20\n",
      "250/250 [==============================] - 294s 1s/step - loss: 0.4654 - accuracy: 0.7875 - precision_2: 0.7874 - recall_2: 0.7850 - val_loss: 0.5076 - val_accuracy: 0.7538 - val_precision_2: 0.7146 - val_recall_2: 0.8196\n",
      "Epoch 3/20\n",
      "250/250 [==============================] - 254s 1s/step - loss: 0.4583 - accuracy: 0.7832 - precision_2: 0.7874 - recall_2: 0.7839 - val_loss: 0.4513 - val_accuracy: 0.7812 - val_precision_2: 0.7789 - val_recall_2: 0.7649\n",
      "Epoch 4/20\n",
      "250/250 [==============================] - 247s 988ms/step - loss: 0.4371 - accuracy: 0.7908 - precision_2: 0.7899 - recall_2: 0.7879 - val_loss: 0.4327 - val_accuracy: 0.7912 - val_precision_2: 0.8177 - val_recall_2: 0.7640\n",
      "Epoch 5/20\n",
      "250/250 [==============================] - 237s 949ms/step - loss: 0.4424 - accuracy: 0.7925 - precision_2: 0.7896 - recall_2: 0.7904 - val_loss: 0.4212 - val_accuracy: 0.8138 - val_precision_2: 0.7961 - val_recall_2: 0.8308\n",
      "Epoch 6/20\n",
      "250/250 [==============================] - 240s 961ms/step - loss: 0.4416 - accuracy: 0.7915 - precision_2: 0.7939 - recall_2: 0.7860 - val_loss: 0.4508 - val_accuracy: 0.7975 - val_precision_2: 0.8306 - val_recall_2: 0.7574\n",
      "Epoch 7/20\n",
      "250/250 [==============================] - 265s 1s/step - loss: 0.4414 - accuracy: 0.7908 - precision_2: 0.7842 - recall_2: 0.7902 - val_loss: 0.4621 - val_accuracy: 0.7700 - val_precision_2: 0.7967 - val_recall_2: 0.7295\n",
      "Epoch 8/20\n",
      "250/250 [==============================] - 240s 960ms/step - loss: 0.4300 - accuracy: 0.7993 - precision_2: 0.7996 - recall_2: 0.8040 - val_loss: 0.4556 - val_accuracy: 0.7950 - val_precision_2: 0.7877 - val_recall_2: 0.8035\n",
      "Epoch 9/20\n",
      "250/250 [==============================] - 236s 943ms/step - loss: 0.4211 - accuracy: 0.8035 - precision_2: 0.8013 - recall_2: 0.8021 - val_loss: 0.4172 - val_accuracy: 0.8188 - val_precision_2: 0.7785 - val_recall_2: 0.8897\n",
      "Epoch 10/20\n",
      "250/250 [==============================] - 245s 982ms/step - loss: 0.4189 - accuracy: 0.8012 - precision_2: 0.8054 - recall_2: 0.7895 - val_loss: 0.4635 - val_accuracy: 0.7800 - val_precision_2: 0.7124 - val_recall_2: 0.9373\n",
      "Epoch 11/20\n",
      "250/250 [==============================] - 278s 1s/step - loss: 0.4151 - accuracy: 0.8130 - precision_2: 0.8084 - recall_2: 0.8182 - val_loss: 0.4406 - val_accuracy: 0.7975 - val_precision_2: 0.7949 - val_recall_2: 0.7908\n",
      "Epoch 12/20\n",
      "250/250 [==============================] - 280s 1s/step - loss: 0.4052 - accuracy: 0.8263 - precision_2: 0.8267 - recall_2: 0.8288 - val_loss: 0.4039 - val_accuracy: 0.8050 - val_precision_2: 0.7526 - val_recall_2: 0.9043\n",
      "Epoch 13/20\n",
      "250/250 [==============================] - 287s 1s/step - loss: 0.4031 - accuracy: 0.8210 - precision_2: 0.8234 - recall_2: 0.8218 - val_loss: 0.4216 - val_accuracy: 0.8200 - val_precision_2: 0.8386 - val_recall_2: 0.8188\n",
      "Epoch 14/20\n",
      "250/250 [==============================] - 276s 1s/step - loss: 0.4081 - accuracy: 0.8098 - precision_2: 0.8112 - recall_2: 0.8017 - val_loss: 0.3722 - val_accuracy: 0.8275 - val_precision_2: 0.8038 - val_recall_2: 0.8571\n",
      "Epoch 15/20\n",
      "250/250 [==============================] - 347s 1s/step - loss: 0.3887 - accuracy: 0.8288 - precision_2: 0.8343 - recall_2: 0.8231 - val_loss: 0.4254 - val_accuracy: 0.7825 - val_precision_2: 0.7190 - val_recall_2: 0.9016\n",
      "Epoch 16/20\n",
      "250/250 [==============================] - 280s 1s/step - loss: 0.3883 - accuracy: 0.8207 - precision_2: 0.8279 - recall_2: 0.8144 - val_loss: 0.3717 - val_accuracy: 0.8313 - val_precision_2: 0.8139 - val_recall_2: 0.8747\n",
      "Epoch 17/20\n",
      "250/250 [==============================] - 231s 925ms/step - loss: 0.3939 - accuracy: 0.8177 - precision_2: 0.8158 - recall_2: 0.8251 - val_loss: 0.4021 - val_accuracy: 0.8175 - val_precision_2: 0.8410 - val_recall_2: 0.7820\n",
      "Epoch 18/20\n",
      "250/250 [==============================] - 222s 890ms/step - loss: 0.3790 - accuracy: 0.8292 - precision_2: 0.8349 - recall_2: 0.8271 - val_loss: 0.4195 - val_accuracy: 0.8100 - val_precision_2: 0.8455 - val_recall_2: 0.7563\n",
      "Epoch 19/20\n",
      "250/250 [==============================] - 219s 878ms/step - loss: 0.3820 - accuracy: 0.8260 - precision_2: 0.8258 - recall_2: 0.8274 - val_loss: 0.3955 - val_accuracy: 0.8250 - val_precision_2: 0.8663 - val_recall_2: 0.7717\n",
      "Epoch 20/20\n",
      "250/250 [==============================] - 220s 881ms/step - loss: 0.3908 - accuracy: 0.8240 - precision_2: 0.8273 - recall_2: 0.8207 - val_loss: 0.4088 - val_accuracy: 0.8150 - val_precision_2: 0.8522 - val_recall_2: 0.7732\n"
     ]
    }
   ],
   "source": [
    "#model.fit_generator(train_generator,steps_per_epoch=2000//batchSize,\n",
    "model.fit_generator(train_generator,steps_per_epoch=250,\n",
    "                    epochs=20,\n",
    "                    validation_data=validation_generator,\n",
    "                    validation_steps=800//batchSize)\n",
    "model.save_weights('CNNModel.h5')"
   ]
  },
  {
   "cell_type": "code",
   "execution_count": null,
   "metadata": {},
   "outputs": [],
   "source": []
  }
 ],
 "metadata": {
  "kernelspec": {
   "display_name": "Python 3",
   "language": "python",
   "name": "python3"
  },
  "language_info": {
   "codemirror_mode": {
    "name": "ipython",
    "version": 3
   },
   "file_extension": ".py",
   "mimetype": "text/x-python",
   "name": "python",
   "nbconvert_exporter": "python",
   "pygments_lexer": "ipython3",
   "version": "3.8.10"
  }
 },
 "nbformat": 4,
 "nbformat_minor": 4
}
