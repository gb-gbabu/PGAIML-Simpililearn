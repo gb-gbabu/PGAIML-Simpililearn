{
 "cells": [
  {
   "cell_type": "markdown",
   "id": "a184919e-3f73-460e-bc83-11a5cf55f303",
   "metadata": {},
   "source": [
    "Problem Statement: Open and display the image “dog.jpeg”. The image has to be converted in to numpy array, so  that it can be used in further processing. The major challenge is to identify the dominant color in the image\n",
    "[Hint: Refer the following url for image processing documentation:\n",
    "http://omz-software.com/pythonista/docs/ios/PIL.html]\n",
    "\n",
    "Objective: Use K-means clustering for image segmentation, which will include the following steps:\n",
    "Find out the dimensions of the image and convert it in to a two-dimensional array.\n",
    "Use k-means clustering with k set to 3 and cluster the image.  [Hint: Refer to k-means module of scikit learn]\n",
    "Predict the cluster label of every pixel in the image and plot it back as an image.\n",
    "Find out the three dominant color in the image.\n",
    "[Hint: The cluster centers should correspond to three dominant colors]\n",
    "\n",
    "Access: Click the Labs tab in the left side panel of the LMS. Copy or note the username and password that are  generated. Click the Launch Lab button. On the page that appears, enter the username and password in the  respective fields and click Login.\n"
   ]
  }
 ],
 "metadata": {
  "kernelspec": {
   "display_name": "Python 3",
   "language": "python",
   "name": "python3"
  },
  "language_info": {
   "codemirror_mode": {
    "name": "ipython",
    "version": 3
   },
   "file_extension": ".py",
   "mimetype": "text/x-python",
   "name": "python",
   "nbconvert_exporter": "python",
   "pygments_lexer": "ipython3",
   "version": "3.8.8"
  }
 },
 "nbformat": 4,
 "nbformat_minor": 5
}
