{
 "cells": [
  {
   "cell_type": "code",
   "execution_count": 181,
   "id": "558d6f22-f682-4f45-abde-0f4ccbfffc96",
   "metadata": {},
   "outputs": [],
   "source": [
    "from sklearn.metrics import accuracy_score"
   ]
  },
  {
   "cell_type": "code",
   "execution_count": 182,
   "id": "203c798e-e880-4d79-bbd0-cb5f69c5efa5",
   "metadata": {},
   "outputs": [],
   "source": [
    "from sklearn import datasets\n",
    "iris= datasets.load_iris()\n",
    "X = iris.data\n",
    "y= iris.target"
   ]
  },
  {
   "cell_type": "code",
   "execution_count": 183,
   "id": "593a785c-14af-47ba-bd0d-49498477bcd6",
   "metadata": {},
   "outputs": [],
   "source": [
    "from sklearn.model_selection import train_test_split\n",
    "X_train, X_test, y_train, y_test = train_test_split(X, y , test_size =0.3,random_state=10) #,random_state=5"
   ]
  },
  {
   "cell_type": "code",
   "execution_count": 184,
   "id": "07229765-ec69-4237-9cc5-9892ee0a2f10",
   "metadata": {},
   "outputs": [
    {
     "data": {
      "text/plain": [
       "0.9777777777777777"
      ]
     },
     "execution_count": 184,
     "metadata": {},
     "output_type": "execute_result"
    }
   ],
   "source": [
    "from sklearn.tree import DecisionTreeClassifier\n",
    "dt_clf = DecisionTreeClassifier()\n",
    "dt_clf.fit(X_train,y_train)\n",
    "predictions_dt = dt_clf.predict(X_test)\n",
    "accuracy_score(predictions_dt,y_test)"
   ]
  },
  {
   "cell_type": "code",
   "execution_count": 185,
   "id": "0b4284ab-027a-4aec-8a31-a571ee6796fb",
   "metadata": {},
   "outputs": [
    {
     "name": "stdout",
     "output_type": "stream",
     "text": [
      "Accuracy: 0.9777777777777777\n"
     ]
    }
   ],
   "source": [
    "from sklearn.ensemble import AdaBoostClassifier\n",
    "#abc = AdaBoostClassifier(n_estimators = 50, learning_rate= 1)\n",
    "abc = AdaBoostClassifier()\n",
    "model = abc.fit(X_train,y_train)\n",
    "y_pred = model.predict(X_test)\n",
    "print(\"Accuracy:\", accuracy_score(y_test,y_pred))"
   ]
  },
  {
   "cell_type": "code",
   "execution_count": 186,
   "id": "30c870f5-9666-453b-9341-c8208f776a98",
   "metadata": {},
   "outputs": [
    {
     "data": {
      "text/plain": [
       "0.9777777777777777"
      ]
     },
     "execution_count": 186,
     "metadata": {},
     "output_type": "execute_result"
    }
   ],
   "source": [
    "from sklearn.ensemble import GradientBoostingClassifier\n",
    "gbm_clf = GradientBoostingClassifier()\n",
    "gbm_clf.fit(X_train,y_train)\n",
    "predictions_gbm = gbm_clf.predict(X_test)\n",
    "accuracy_score(predictions_gbm,y_test)"
   ]
  },
  {
   "cell_type": "code",
   "execution_count": 187,
   "id": "7af8a15a-31a8-4a53-a980-d220773f3cac",
   "metadata": {},
   "outputs": [
    {
     "name": "stdout",
     "output_type": "stream",
     "text": [
      "[11:50:04] WARNING: C:/Users/Administrator/workspace/xgboost-win64_release_1.4.0/src/learner.cc:573: \n",
      "Parameters: { \"silent\" } might not be used.\n",
      "\n",
      "  This may not be accurate due to some parameters are only used in language bindings but\n",
      "  passed down to XGBoost core.  Or some parameters are not used but slip through this\n",
      "  verification. Please open an issue if you find above cases.\n",
      "\n",
      "\n",
      "[11:50:04] WARNING: C:/Users/Administrator/workspace/xgboost-win64_release_1.4.0/src/learner.cc:1095: Starting in XGBoost 1.3.0, the default evaluation metric used with the objective 'multi:softprob' was changed from 'merror' to 'mlogloss'. Explicitly set eval_metric if you'd like to restore the old behavior.\n"
     ]
    },
    {
     "name": "stderr",
     "output_type": "stream",
     "text": [
      "C:\\Users\\gabab\\Software\\anaconda3\\lib\\site-packages\\xgboost\\sklearn.py:1146: UserWarning: The use of label encoder in XGBClassifier is deprecated and will be removed in a future release. To remove this warning, do the following: 1) Pass option use_label_encoder=False when constructing XGBClassifier object; and 2) Encode your labels (y) as integers starting with 0, i.e. 0, 1, 2, ..., [num_class - 1].\n",
      "  warnings.warn(label_encoder_deprecation_msg, UserWarning)\n"
     ]
    },
    {
     "data": {
      "text/plain": [
       "0.9777777777777777"
      ]
     },
     "execution_count": 187,
     "metadata": {},
     "output_type": "execute_result"
    }
   ],
   "source": [
    "from xgboost import XGBClassifier\n",
    "xgb_xlf = XGBClassifier(booster = 'gbtree', learning_rate=0.5, silent = 1)\n",
    "xgb_xlf.fit(X_train,y_train)\n",
    "predictions_xgb = xgb_xlf.predict(X_test)\n",
    "accuracy_score(predictions_xgb,y_test)"
   ]
  },
  {
   "cell_type": "code",
   "execution_count": 188,
   "id": "598e7c93-ec77-4a7c-8401-53aae4f4d857",
   "metadata": {},
   "outputs": [],
   "source": [
    "import xgboost as xgb"
   ]
  },
  {
   "cell_type": "code",
   "execution_count": 189,
   "id": "8ad2cc1d-8974-49d2-8613-6c89ecef5724",
   "metadata": {},
   "outputs": [],
   "source": [
    "#change the data to a Dmatrix \n",
    "D_train  = xgb.DMatrix(X_train, label = y_train)\n",
    "D_test = xgb. DMatrix(X_test,label = y_test)"
   ]
  },
  {
   "cell_type": "code",
   "execution_count": 190,
   "id": "bc69bee1-7079-4337-a3cf-9af015b6a584",
   "metadata": {},
   "outputs": [],
   "source": [
    "param = {\n",
    "       'eta' : 0.3,\n",
    "    'max_depth' : 3,\n",
    "    'objective': 'multi:softmax',\n",
    "    'num_class' : 3\n",
    "}\n",
    "\n",
    "#params = {}\n",
    "#params['objective'] = 'reg:squarederror' #reg:squarederror #reg:linear\n",
    "#params['eta'] = 0.03\n",
    "#params['max_depth'] = 4"
   ]
  },
  {
   "cell_type": "code",
   "execution_count": 191,
   "id": "77941039-8457-4928-a052-7050dab2b7ef",
   "metadata": {},
   "outputs": [
    {
     "name": "stdout",
     "output_type": "stream",
     "text": [
      "[11:50:05] WARNING: C:/Users/Administrator/workspace/xgboost-win64_release_1.4.0/src/learner.cc:1095: Starting in XGBoost 1.3.0, the default evaluation metric used with the objective 'multi:softmax' was changed from 'merror' to 'mlogloss'. Explicitly set eval_metric if you'd like to restore the old behavior.\n"
     ]
    }
   ],
   "source": [
    "model = xgb.train(param, D_train, 20)\n",
    "#model = xgb.train(param, D_train)\n",
    "#model = xgb.train(D_train)"
   ]
  },
  {
   "cell_type": "code",
   "execution_count": 192,
   "id": "42066b2c-4914-4add-9007-17a2472708ac",
   "metadata": {},
   "outputs": [],
   "source": [
    "y_pred = model.predict(D_test)"
   ]
  },
  {
   "cell_type": "code",
   "execution_count": 193,
   "id": "142cc90c-1c84-49c7-a8e7-483ab2164ffb",
   "metadata": {},
   "outputs": [
    {
     "name": "stdout",
     "output_type": "stream",
     "text": [
      "Accuracy: 1.0\n"
     ]
    }
   ],
   "source": [
    "print(\"Accuracy:\", accuracy_score(y_test,y_pred))"
   ]
  },
  {
   "cell_type": "code",
   "execution_count": null,
   "id": "5e34ceba-10e2-4976-91f6-fbc99372eab9",
   "metadata": {},
   "outputs": [],
   "source": []
  },
  {
   "cell_type": "code",
   "execution_count": null,
   "id": "46f69580-fb82-4f8d-ab73-caa7fe295b70",
   "metadata": {},
   "outputs": [],
   "source": []
  },
  {
   "cell_type": "code",
   "execution_count": null,
   "id": "bab3aea1-6c8c-4c01-b285-506de4bab9f5",
   "metadata": {},
   "outputs": [],
   "source": []
  },
  {
   "cell_type": "code",
   "execution_count": null,
   "id": "0f616791-b557-4697-92c9-4b44569a2ea1",
   "metadata": {},
   "outputs": [],
   "source": []
  },
  {
   "cell_type": "code",
   "execution_count": null,
   "id": "b2e396e7-9d2f-4fb2-b87d-34b4355906bc",
   "metadata": {},
   "outputs": [],
   "source": []
  },
  {
   "cell_type": "code",
   "execution_count": null,
   "id": "6b05829c-9137-433a-be20-6f7e001552de",
   "metadata": {},
   "outputs": [],
   "source": []
  },
  {
   "cell_type": "code",
   "execution_count": null,
   "id": "e6828679-61e0-4c52-9ea9-b9d6e00da52d",
   "metadata": {},
   "outputs": [],
   "source": []
  },
  {
   "cell_type": "code",
   "execution_count": null,
   "id": "26a80c9d-af42-4b9a-be85-4f526ee16f4b",
   "metadata": {},
   "outputs": [],
   "source": []
  },
  {
   "cell_type": "code",
   "execution_count": null,
   "id": "3098dc10-aaf7-4821-9b1c-cff28b861fcf",
   "metadata": {},
   "outputs": [],
   "source": []
  },
  {
   "cell_type": "code",
   "execution_count": null,
   "id": "33df751c-deb2-47ac-af7e-25a9b47c31e3",
   "metadata": {},
   "outputs": [],
   "source": []
  },
  {
   "cell_type": "code",
   "execution_count": null,
   "id": "74256531-cc5e-405c-a23b-48748e77b46a",
   "metadata": {},
   "outputs": [],
   "source": []
  },
  {
   "cell_type": "code",
   "execution_count": null,
   "id": "8559520b-080f-4ed6-84ab-ba5795500f56",
   "metadata": {},
   "outputs": [],
   "source": []
  },
  {
   "cell_type": "code",
   "execution_count": null,
   "id": "510990b6-7830-40ce-9e1f-62d7ac5247fc",
   "metadata": {},
   "outputs": [],
   "source": []
  }
 ],
 "metadata": {
  "kernelspec": {
   "display_name": "Python 3",
   "language": "python",
   "name": "python3"
  },
  "language_info": {
   "codemirror_mode": {
    "name": "ipython",
    "version": 3
   },
   "file_extension": ".py",
   "mimetype": "text/x-python",
   "name": "python",
   "nbconvert_exporter": "python",
   "pygments_lexer": "ipython3",
   "version": "3.8.10"
  }
 },
 "nbformat": 4,
 "nbformat_minor": 5
}
