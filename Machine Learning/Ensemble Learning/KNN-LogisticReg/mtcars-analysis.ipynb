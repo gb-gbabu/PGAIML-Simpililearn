{
 "cells": [
  {
   "cell_type": "code",
   "execution_count": 1,
   "metadata": {
    "_cell_guid": "b1076dfc-b9ad-4769-8c92-a6c4dae69d19",
    "_uuid": "8f2839f25d086af736a60e9eeb907d3b93b6e0e5",
    "execution": {
     "iopub.execute_input": "2020-11-20T07:21:08.633353Z",
     "iopub.status.busy": "2020-11-20T07:21:08.632482Z",
     "iopub.status.idle": "2020-11-20T07:21:08.642508Z",
     "shell.execute_reply": "2020-11-20T07:21:08.641513Z"
    },
    "papermill": {
     "duration": 0.052577,
     "end_time": "2020-11-20T07:21:08.642719",
     "exception": false,
     "start_time": "2020-11-20T07:21:08.590142",
     "status": "completed"
    },
    "tags": []
   },
   "outputs": [
    {
     "name": "stdout",
     "output_type": "stream",
     "text": [
      "/kaggle/input/mt-cars/Lesson 3 Practice/Salaries.csv\n",
      "/kaggle/input/mt-cars/Lesson 3 Practice/mtcars.csv\n"
     ]
    }
   ],
   "source": [
    "# This Python 3 environment comes with many helpful analytics libraries installed\n",
    "# It is defined by the kaggle/python Docker image: https://github.com/kaggle/docker-python\n",
    "# For example, here's several helpful packages to load\n",
    "\n",
    "import numpy as np # linear algebra\n",
    "import pandas as pd # data processing, CSV file I/O (e.g. pd.read_csv)\n",
    "\n",
    "# Input data files are available in the read-only \"../input/\" directory\n",
    "# For example, running this (by clicking run or pressing Shift+Enter) will list all files under the input directory\n",
    "\n",
    "import os\n",
    "for dirname, _, filenames in os.walk('/kaggle/input'):\n",
    "    for filename in filenames:\n",
    "        print(os.path.join(dirname, filename))\n",
    "\n",
    "# You can write up to 20GB to the current directory (/kaggle/working/) that gets preserved as output when you create a version using \"Save & Run All\" \n",
    "# You can also write temporary files to /kaggle/temp/, but they won't be saved outside of the current session"
   ]
  },
  {
   "cell_type": "code",
   "execution_count": 2,
   "metadata": {
    "_cell_guid": "79c7e3d0-c299-4dcb-8224-4455121ee9b0",
    "_uuid": "d629ff2d2480ee46fbb7e2d37f6b5fab8052498a",
    "execution": {
     "iopub.execute_input": "2020-11-20T07:21:08.719396Z",
     "iopub.status.busy": "2020-11-20T07:21:08.718591Z",
     "iopub.status.idle": "2020-11-20T07:21:09.774167Z",
     "shell.execute_reply": "2020-11-20T07:21:09.773527Z"
    },
    "papermill": {
     "duration": 1.095378,
     "end_time": "2020-11-20T07:21:09.774297",
     "exception": false,
     "start_time": "2020-11-20T07:21:08.678919",
     "status": "completed"
    },
    "tags": []
   },
   "outputs": [],
   "source": [
    "# Import analysis libraries\n",
    "import pandas as pd\n",
    "import numpy as np\n",
    "import matplotlib.pyplot as plt\n",
    "import seaborn as sns"
   ]
  },
  {
   "cell_type": "code",
   "execution_count": 3,
   "metadata": {
    "execution": {
     "iopub.execute_input": "2020-11-20T07:21:09.850040Z",
     "iopub.status.busy": "2020-11-20T07:21:09.849140Z",
     "iopub.status.idle": "2020-11-20T07:21:10.132471Z",
     "shell.execute_reply": "2020-11-20T07:21:10.131818Z"
    },
    "papermill": {
     "duration": 0.323525,
     "end_time": "2020-11-20T07:21:10.132637",
     "exception": false,
     "start_time": "2020-11-20T07:21:09.809112",
     "status": "completed"
    },
    "tags": []
   },
   "outputs": [],
   "source": [
    "#import ML libraries\n",
    "from sklearn.model_selection import train_test_split\n",
    "from sklearn.linear_model import LinearRegression\n",
    "from sklearn.neighbors import KNeighborsRegressor\n",
    "from sklearn.metrics import mean_squared_error, r2_score, mean_absolute_error"
   ]
  },
  {
   "cell_type": "code",
   "execution_count": 4,
   "metadata": {
    "execution": {
     "iopub.execute_input": "2020-11-20T07:21:10.209401Z",
     "iopub.status.busy": "2020-11-20T07:21:10.208639Z",
     "iopub.status.idle": "2020-11-20T07:21:10.220405Z",
     "shell.execute_reply": "2020-11-20T07:21:10.219607Z"
    },
    "papermill": {
     "duration": 0.052552,
     "end_time": "2020-11-20T07:21:10.220534",
     "exception": false,
     "start_time": "2020-11-20T07:21:10.167982",
     "status": "completed"
    },
    "tags": []
   },
   "outputs": [],
   "source": [
    "car_data = pd.read_csv(\"../input/mt-cars/Lesson 3 Practice/mtcars.csv\")"
   ]
  },
  {
   "cell_type": "code",
   "execution_count": 5,
   "metadata": {
    "execution": {
     "iopub.execute_input": "2020-11-20T07:21:10.312694Z",
     "iopub.status.busy": "2020-11-20T07:21:10.311447Z",
     "iopub.status.idle": "2020-11-20T07:21:10.325389Z",
     "shell.execute_reply": "2020-11-20T07:21:10.326013Z"
    },
    "papermill": {
     "duration": 0.069962,
     "end_time": "2020-11-20T07:21:10.326176",
     "exception": false,
     "start_time": "2020-11-20T07:21:10.256214",
     "status": "completed"
    },
    "tags": []
   },
   "outputs": [
    {
     "data": {
      "text/html": [
       "<div>\n",
       "<style scoped>\n",
       "    .dataframe tbody tr th:only-of-type {\n",
       "        vertical-align: middle;\n",
       "    }\n",
       "\n",
       "    .dataframe tbody tr th {\n",
       "        vertical-align: top;\n",
       "    }\n",
       "\n",
       "    .dataframe thead th {\n",
       "        text-align: right;\n",
       "    }\n",
       "</style>\n",
       "<table border=\"1\" class=\"dataframe\">\n",
       "  <thead>\n",
       "    <tr style=\"text-align: right;\">\n",
       "      <th></th>\n",
       "      <th>model</th>\n",
       "      <th>mpg</th>\n",
       "      <th>cyl</th>\n",
       "      <th>disp</th>\n",
       "      <th>hp</th>\n",
       "      <th>drat</th>\n",
       "      <th>wt</th>\n",
       "      <th>qsec</th>\n",
       "      <th>vs</th>\n",
       "      <th>am</th>\n",
       "      <th>gear</th>\n",
       "      <th>carb</th>\n",
       "    </tr>\n",
       "  </thead>\n",
       "  <tbody>\n",
       "    <tr>\n",
       "      <th>0</th>\n",
       "      <td>Mazda RX4</td>\n",
       "      <td>21.0</td>\n",
       "      <td>6</td>\n",
       "      <td>160.0</td>\n",
       "      <td>110</td>\n",
       "      <td>3.90</td>\n",
       "      <td>2.620</td>\n",
       "      <td>16.46</td>\n",
       "      <td>0</td>\n",
       "      <td>1</td>\n",
       "      <td>4</td>\n",
       "      <td>4</td>\n",
       "    </tr>\n",
       "    <tr>\n",
       "      <th>1</th>\n",
       "      <td>Mazda RX4 Wag</td>\n",
       "      <td>21.0</td>\n",
       "      <td>6</td>\n",
       "      <td>160.0</td>\n",
       "      <td>110</td>\n",
       "      <td>3.90</td>\n",
       "      <td>2.875</td>\n",
       "      <td>17.02</td>\n",
       "      <td>0</td>\n",
       "      <td>1</td>\n",
       "      <td>4</td>\n",
       "      <td>4</td>\n",
       "    </tr>\n",
       "    <tr>\n",
       "      <th>2</th>\n",
       "      <td>Datsun 710</td>\n",
       "      <td>22.8</td>\n",
       "      <td>4</td>\n",
       "      <td>108.0</td>\n",
       "      <td>93</td>\n",
       "      <td>3.85</td>\n",
       "      <td>2.320</td>\n",
       "      <td>18.61</td>\n",
       "      <td>1</td>\n",
       "      <td>1</td>\n",
       "      <td>4</td>\n",
       "      <td>1</td>\n",
       "    </tr>\n",
       "    <tr>\n",
       "      <th>3</th>\n",
       "      <td>Hornet 4 Drive</td>\n",
       "      <td>21.4</td>\n",
       "      <td>6</td>\n",
       "      <td>258.0</td>\n",
       "      <td>110</td>\n",
       "      <td>3.08</td>\n",
       "      <td>3.215</td>\n",
       "      <td>19.44</td>\n",
       "      <td>1</td>\n",
       "      <td>0</td>\n",
       "      <td>3</td>\n",
       "      <td>1</td>\n",
       "    </tr>\n",
       "    <tr>\n",
       "      <th>4</th>\n",
       "      <td>Hornet Sportabout</td>\n",
       "      <td>18.7</td>\n",
       "      <td>8</td>\n",
       "      <td>360.0</td>\n",
       "      <td>175</td>\n",
       "      <td>3.15</td>\n",
       "      <td>3.440</td>\n",
       "      <td>17.02</td>\n",
       "      <td>0</td>\n",
       "      <td>0</td>\n",
       "      <td>3</td>\n",
       "      <td>2</td>\n",
       "    </tr>\n",
       "  </tbody>\n",
       "</table>\n",
       "</div>"
      ],
      "text/plain": [
       "               model   mpg  cyl   disp   hp  drat     wt   qsec  vs  am  gear  \\\n",
       "0          Mazda RX4  21.0    6  160.0  110  3.90  2.620  16.46   0   1     4   \n",
       "1      Mazda RX4 Wag  21.0    6  160.0  110  3.90  2.875  17.02   0   1     4   \n",
       "2         Datsun 710  22.8    4  108.0   93  3.85  2.320  18.61   1   1     4   \n",
       "3     Hornet 4 Drive  21.4    6  258.0  110  3.08  3.215  19.44   1   0     3   \n",
       "4  Hornet Sportabout  18.7    8  360.0  175  3.15  3.440  17.02   0   0     3   \n",
       "\n",
       "   carb  \n",
       "0     4  \n",
       "1     4  \n",
       "2     1  \n",
       "3     1  \n",
       "4     2  "
      ]
     },
     "execution_count": 5,
     "metadata": {},
     "output_type": "execute_result"
    }
   ],
   "source": [
    "car_data.head()"
   ]
  },
  {
   "cell_type": "code",
   "execution_count": 6,
   "metadata": {
    "execution": {
     "iopub.execute_input": "2020-11-20T07:21:10.414645Z",
     "iopub.status.busy": "2020-11-20T07:21:10.413739Z",
     "iopub.status.idle": "2020-11-20T07:21:10.417256Z",
     "shell.execute_reply": "2020-11-20T07:21:10.417882Z"
    },
    "papermill": {
     "duration": 0.055329,
     "end_time": "2020-11-20T07:21:10.418037",
     "exception": false,
     "start_time": "2020-11-20T07:21:10.362708",
     "status": "completed"
    },
    "tags": []
   },
   "outputs": [
    {
     "name": "stdout",
     "output_type": "stream",
     "text": [
      "<class 'pandas.core.frame.DataFrame'>\n",
      "RangeIndex: 32 entries, 0 to 31\n",
      "Data columns (total 12 columns):\n",
      " #   Column  Non-Null Count  Dtype  \n",
      "---  ------  --------------  -----  \n",
      " 0   model   32 non-null     object \n",
      " 1   mpg     32 non-null     float64\n",
      " 2   cyl     32 non-null     int64  \n",
      " 3   disp    32 non-null     float64\n",
      " 4   hp      32 non-null     int64  \n",
      " 5   drat    32 non-null     float64\n",
      " 6   wt      32 non-null     float64\n",
      " 7   qsec    32 non-null     float64\n",
      " 8   vs      32 non-null     int64  \n",
      " 9   am      32 non-null     int64  \n",
      " 10  gear    32 non-null     int64  \n",
      " 11  carb    32 non-null     int64  \n",
      "dtypes: float64(5), int64(6), object(1)\n",
      "memory usage: 3.1+ KB\n"
     ]
    }
   ],
   "source": [
    "car_data.info()"
   ]
  },
  {
   "cell_type": "code",
   "execution_count": 7,
   "metadata": {
    "execution": {
     "iopub.execute_input": "2020-11-20T07:21:10.499360Z",
     "iopub.status.busy": "2020-11-20T07:21:10.498490Z",
     "iopub.status.idle": "2020-11-20T07:21:10.503185Z",
     "shell.execute_reply": "2020-11-20T07:21:10.502566Z"
    },
    "papermill": {
     "duration": 0.04896,
     "end_time": "2020-11-20T07:21:10.503305",
     "exception": false,
     "start_time": "2020-11-20T07:21:10.454345",
     "status": "completed"
    },
    "tags": []
   },
   "outputs": [
    {
     "data": {
      "text/plain": [
       "model    0\n",
       "mpg      0\n",
       "cyl      0\n",
       "disp     0\n",
       "hp       0\n",
       "drat     0\n",
       "wt       0\n",
       "qsec     0\n",
       "vs       0\n",
       "am       0\n",
       "gear     0\n",
       "carb     0\n",
       "dtype: int64"
      ]
     },
     "execution_count": 7,
     "metadata": {},
     "output_type": "execute_result"
    }
   ],
   "source": [
    "car_data.isnull().sum()"
   ]
  },
  {
   "cell_type": "code",
   "execution_count": 8,
   "metadata": {
    "execution": {
     "iopub.execute_input": "2020-11-20T07:21:10.587329Z",
     "iopub.status.busy": "2020-11-20T07:21:10.586151Z",
     "iopub.status.idle": "2020-11-20T07:21:10.849476Z",
     "shell.execute_reply": "2020-11-20T07:21:10.848727Z"
    },
    "papermill": {
     "duration": 0.309255,
     "end_time": "2020-11-20T07:21:10.849619",
     "exception": false,
     "start_time": "2020-11-20T07:21:10.540364",
     "status": "completed"
    },
    "tags": []
   },
   "outputs": [
    {
     "data": {
      "text/plain": [
       "<matplotlib.lines.Line2D at 0x7fee9533f310>"
      ]
     },
     "execution_count": 8,
     "metadata": {},
     "output_type": "execute_result"
    },
    {
     "data": {
      "image/png": "[encoded data removed]",
      "text/plain": [
       "<Figure size 432x288 with 1 Axes>"
      ]
     },
     "metadata": {
      "needs_background": "light"
     },
     "output_type": "display_data"
    }
   ],
   "source": [
    "sns.distplot(car_data['hp'])\n",
    "plt.axvline(car_data['hp'].values.mean(), linestyle='dashed', color='red')"
   ]
  },
  {
   "cell_type": "markdown",
   "metadata": {
    "papermill": {
     "duration": 0.038117,
     "end_time": "2020-11-20T07:21:10.926646",
     "exception": false,
     "start_time": "2020-11-20T07:21:10.888529",
     "status": "completed"
    },
    "tags": []
   },
   "source": [
    "Average of Horsepower is about 150 HP"
   ]
  },
  {
   "cell_type": "code",
   "execution_count": 9,
   "metadata": {
    "execution": {
     "iopub.execute_input": "2020-11-20T07:21:11.020501Z",
     "iopub.status.busy": "2020-11-20T07:21:11.015366Z",
     "iopub.status.idle": "2020-11-20T07:21:11.773896Z",
     "shell.execute_reply": "2020-11-20T07:21:11.774499Z"
    },
    "papermill": {
     "duration": 0.809727,
     "end_time": "2020-11-20T07:21:11.774700",
     "exception": false,
     "start_time": "2020-11-20T07:21:10.964973",
     "status": "completed"
    },
    "tags": []
   },
   "outputs": [
    {
     "data": {
      "text/plain": [
       "<matplotlib.axes._subplots.AxesSubplot at 0x7fee9520c150>"
      ]
     },
     "execution_count": 9,
     "metadata": {},
     "output_type": "execute_result"
    },
    {
     "data": {
      "image/png": "[encoded data removed]",
      "text/plain": [
       "<Figure size 864x864 with 2 Axes>"
      ]
     },
     "metadata": {
      "needs_background": "light"
     },
     "output_type": "display_data"
    }
   ],
   "source": [
    "plt.figure(figsize=(12,12))\n",
    "sns.heatmap(car_data.corr(), annot=True)"
   ]
  },
  {
   "cell_type": "markdown",
   "metadata": {
    "papermill": {
     "duration": 0.041257,
     "end_time": "2020-11-20T07:21:11.857442",
     "exception": false,
     "start_time": "2020-11-20T07:21:11.816185",
     "status": "completed"
    },
    "tags": []
   },
   "source": [
    "Columns that have positive correlation with horsepower is cyl, disp, wt,carb"
   ]
  },
  {
   "cell_type": "code",
   "execution_count": 10,
   "metadata": {
    "execution": {
     "iopub.execute_input": "2020-11-20T07:21:12.041585Z",
     "iopub.status.busy": "2020-11-20T07:21:12.040669Z",
     "iopub.status.idle": "2020-11-20T07:21:12.185955Z",
     "shell.execute_reply": "2020-11-20T07:21:12.185151Z"
    },
    "papermill": {
     "duration": 0.286787,
     "end_time": "2020-11-20T07:21:12.186085",
     "exception": false,
     "start_time": "2020-11-20T07:21:11.899298",
     "status": "completed"
    },
    "tags": []
   },
   "outputs": [
    {
     "data": {
      "text/plain": [
       "<matplotlib.axes._subplots.AxesSubplot at 0x7fee94c9ed10>"
      ]
     },
     "execution_count": 10,
     "metadata": {},
     "output_type": "execute_result"
    },
    {
     "data": {
      "image/png": "[encoded data removed]",
      "text/plain": [
       "<Figure size 432x288 with 1 Axes>"
      ]
     },
     "metadata": {
      "needs_background": "light"
     },
     "output_type": "display_data"
    }
   ],
   "source": [
    "sns.boxplot(y='cyl', data=car_data)"
   ]
  },
  {
   "cell_type": "code",
   "execution_count": 11,
   "metadata": {
    "execution": {
     "iopub.execute_input": "2020-11-20T07:21:12.284685Z",
     "iopub.status.busy": "2020-11-20T07:21:12.277403Z",
     "iopub.status.idle": "2020-11-20T07:21:12.426626Z",
     "shell.execute_reply": "2020-11-20T07:21:12.425990Z"
    },
    "papermill": {
     "duration": 0.197181,
     "end_time": "2020-11-20T07:21:12.426759",
     "exception": false,
     "start_time": "2020-11-20T07:21:12.229578",
     "status": "completed"
    },
    "tags": []
   },
   "outputs": [
    {
     "data": {
      "text/plain": [
       "<matplotlib.axes._subplots.AxesSubplot at 0x7fee951751d0>"
      ]
     },
     "execution_count": 11,
     "metadata": {},
     "output_type": "execute_result"
    },
    {
     "data": {
      "image/png": "[encoded data removed]",
      "text/plain": [
       "<Figure size 432x288 with 1 Axes>"
      ]
     },
     "metadata": {
      "needs_background": "light"
     },
     "output_type": "display_data"
    }
   ],
   "source": [
    "sns.boxplot(y='disp', data=car_data)"
   ]
  },
  {
   "cell_type": "code",
   "execution_count": 12,
   "metadata": {
    "execution": {
     "iopub.execute_input": "2020-11-20T07:21:12.528398Z",
     "iopub.status.busy": "2020-11-20T07:21:12.527534Z",
     "iopub.status.idle": "2020-11-20T07:21:12.716906Z",
     "shell.execute_reply": "2020-11-20T07:21:12.715956Z"
    },
    "papermill": {
     "duration": 0.245748,
     "end_time": "2020-11-20T07:21:12.717061",
     "exception": false,
     "start_time": "2020-11-20T07:21:12.471313",
     "status": "completed"
    },
    "tags": []
   },
   "outputs": [
    {
     "data": {
      "text/plain": [
       "<matplotlib.axes._subplots.AxesSubplot at 0x7fee94fd0a10>"
      ]
     },
     "execution_count": 12,
     "metadata": {},
     "output_type": "execute_result"
    },
    {
     "data": {
      "image/png": "[encoded data removed]",
      "text/plain": [
       "<Figure size 432x288 with 1 Axes>"
      ]
     },
     "metadata": {
      "needs_background": "light"
     },
     "output_type": "display_data"
    }
   ],
   "source": [
    "sns.boxplot(y='wt', data=car_data)"
   ]
  },
  {
   "cell_type": "code",
   "execution_count": 13,
   "metadata": {
    "execution": {
     "iopub.execute_input": "2020-11-20T07:21:12.842086Z",
     "iopub.status.busy": "2020-11-20T07:21:12.841151Z",
     "iopub.status.idle": "2020-11-20T07:21:12.844567Z",
     "shell.execute_reply": "2020-11-20T07:21:12.843965Z"
    },
    "papermill": {
     "duration": 0.062229,
     "end_time": "2020-11-20T07:21:12.844697",
     "exception": false,
     "start_time": "2020-11-20T07:21:12.782468",
     "status": "completed"
    },
    "tags": []
   },
   "outputs": [],
   "source": [
    "car_wt =  car_data['wt']\n",
    "cwt_Q1 = car_wt.quantile(0.25)\n",
    "cwt_Q3 = car_wt.quantile(0.75)\n",
    "cwt_iqr = cwt_Q3 - cwt_Q1\n",
    "cwt_upper = cwt_Q3 + (1.5 * cwt_iqr)\n",
    "cwt_lower = cwt_Q1 - (1.5 * cwt_iqr)"
   ]
  },
  {
   "cell_type": "code",
   "execution_count": 14,
   "metadata": {
    "execution": {
     "iopub.execute_input": "2020-11-20T07:21:12.950162Z",
     "iopub.status.busy": "2020-11-20T07:21:12.949337Z",
     "iopub.status.idle": "2020-11-20T07:21:12.975762Z",
     "shell.execute_reply": "2020-11-20T07:21:12.974977Z"
    },
    "papermill": {
     "duration": 0.082816,
     "end_time": "2020-11-20T07:21:12.975925",
     "exception": false,
     "start_time": "2020-11-20T07:21:12.893109",
     "status": "completed"
    },
    "tags": []
   },
   "outputs": [],
   "source": [
    "wt_outlier = car_wt[(car_wt < cwt_lower) | (car_wt > cwt_upper)]"
   ]
  },
  {
   "cell_type": "code",
   "execution_count": 15,
   "metadata": {
    "execution": {
     "iopub.execute_input": "2020-11-20T07:21:13.084324Z",
     "iopub.status.busy": "2020-11-20T07:21:13.083352Z",
     "iopub.status.idle": "2020-11-20T07:21:13.088621Z",
     "shell.execute_reply": "2020-11-20T07:21:13.087833Z"
    },
    "papermill": {
     "duration": 0.05979,
     "end_time": "2020-11-20T07:21:13.088754",
     "exception": false,
     "start_time": "2020-11-20T07:21:13.028964",
     "status": "completed"
    },
    "tags": []
   },
   "outputs": [
    {
     "data": {
      "text/plain": [
       "14    5.250\n",
       "15    5.424\n",
       "16    5.345\n",
       "Name: wt, dtype: float64"
      ]
     },
     "execution_count": 15,
     "metadata": {},
     "output_type": "execute_result"
    }
   ],
   "source": [
    "wt_outlier"
   ]
  },
  {
   "cell_type": "code",
   "execution_count": 16,
   "metadata": {
    "execution": {
     "iopub.execute_input": "2020-11-20T07:21:13.215980Z",
     "iopub.status.busy": "2020-11-20T07:21:13.214734Z",
     "iopub.status.idle": "2020-11-20T07:21:13.220098Z",
     "shell.execute_reply": "2020-11-20T07:21:13.219261Z"
    },
    "papermill": {
     "duration": 0.073826,
     "end_time": "2020-11-20T07:21:13.220236",
     "exception": false,
     "start_time": "2020-11-20T07:21:13.146410",
     "status": "completed"
    },
    "tags": []
   },
   "outputs": [
    {
     "data": {
      "text/html": [
       "<div>\n",
       "<style scoped>\n",
       "    .dataframe tbody tr th:only-of-type {\n",
       "        vertical-align: middle;\n",
       "    }\n",
       "\n",
       "    .dataframe tbody tr th {\n",
       "        vertical-align: top;\n",
       "    }\n",
       "\n",
       "    .dataframe thead th {\n",
       "        text-align: right;\n",
       "    }\n",
       "</style>\n",
       "<table border=\"1\" class=\"dataframe\">\n",
       "  <thead>\n",
       "    <tr style=\"text-align: right;\">\n",
       "      <th></th>\n",
       "      <th>model</th>\n",
       "      <th>mpg</th>\n",
       "      <th>cyl</th>\n",
       "      <th>disp</th>\n",
       "      <th>hp</th>\n",
       "      <th>drat</th>\n",
       "      <th>wt</th>\n",
       "      <th>qsec</th>\n",
       "      <th>vs</th>\n",
       "      <th>am</th>\n",
       "      <th>gear</th>\n",
       "      <th>carb</th>\n",
       "    </tr>\n",
       "  </thead>\n",
       "  <tbody>\n",
       "    <tr>\n",
       "      <th>14</th>\n",
       "      <td>Cadillac Fleetwood</td>\n",
       "      <td>10.4</td>\n",
       "      <td>8</td>\n",
       "      <td>472.0</td>\n",
       "      <td>205</td>\n",
       "      <td>2.93</td>\n",
       "      <td>5.250</td>\n",
       "      <td>17.98</td>\n",
       "      <td>0</td>\n",
       "      <td>0</td>\n",
       "      <td>3</td>\n",
       "      <td>4</td>\n",
       "    </tr>\n",
       "    <tr>\n",
       "      <th>15</th>\n",
       "      <td>Lincoln Continental</td>\n",
       "      <td>10.4</td>\n",
       "      <td>8</td>\n",
       "      <td>460.0</td>\n",
       "      <td>215</td>\n",
       "      <td>3.00</td>\n",
       "      <td>5.424</td>\n",
       "      <td>17.82</td>\n",
       "      <td>0</td>\n",
       "      <td>0</td>\n",
       "      <td>3</td>\n",
       "      <td>4</td>\n",
       "    </tr>\n",
       "    <tr>\n",
       "      <th>16</th>\n",
       "      <td>Chrysler Imperial</td>\n",
       "      <td>14.7</td>\n",
       "      <td>8</td>\n",
       "      <td>440.0</td>\n",
       "      <td>230</td>\n",
       "      <td>3.23</td>\n",
       "      <td>5.345</td>\n",
       "      <td>17.42</td>\n",
       "      <td>0</td>\n",
       "      <td>0</td>\n",
       "      <td>3</td>\n",
       "      <td>4</td>\n",
       "    </tr>\n",
       "  </tbody>\n",
       "</table>\n",
       "</div>"
      ],
      "text/plain": [
       "                  model   mpg  cyl   disp   hp  drat     wt   qsec  vs  am  \\\n",
       "14   Cadillac Fleetwood  10.4    8  472.0  205  2.93  5.250  17.98   0   0   \n",
       "15  Lincoln Continental  10.4    8  460.0  215  3.00  5.424  17.82   0   0   \n",
       "16    Chrysler Imperial  14.7    8  440.0  230  3.23  5.345  17.42   0   0   \n",
       "\n",
       "    gear  carb  \n",
       "14     3     4  \n",
       "15     3     4  \n",
       "16     3     4  "
      ]
     },
     "execution_count": 16,
     "metadata": {},
     "output_type": "execute_result"
    }
   ],
   "source": [
    "car_data[14:17]"
   ]
  },
  {
   "cell_type": "code",
   "execution_count": 17,
   "metadata": {
    "execution": {
     "iopub.execute_input": "2020-11-20T07:21:13.342918Z",
     "iopub.status.busy": "2020-11-20T07:21:13.339888Z",
     "iopub.status.idle": "2020-11-20T07:21:13.475885Z",
     "shell.execute_reply": "2020-11-20T07:21:13.475098Z"
    },
    "papermill": {
     "duration": 0.202678,
     "end_time": "2020-11-20T07:21:13.476011",
     "exception": false,
     "start_time": "2020-11-20T07:21:13.273333",
     "status": "completed"
    },
    "tags": []
   },
   "outputs": [
    {
     "data": {
      "text/plain": [
       "<matplotlib.axes._subplots.AxesSubplot at 0x7fee94fccbd0>"
      ]
     },
     "execution_count": 17,
     "metadata": {},
     "output_type": "execute_result"
    },
    {
     "data": {
      "image/png": "[encoded data removed]",
      "text/plain": [
       "<Figure size 432x288 with 1 Axes>"
      ]
     },
     "metadata": {
      "needs_background": "light"
     },
     "output_type": "display_data"
    }
   ],
   "source": [
    "sns.boxplot(y='carb', data=car_data)"
   ]
  },
  {
   "cell_type": "code",
   "execution_count": 18,
   "metadata": {
    "execution": {
     "iopub.execute_input": "2020-11-20T07:21:13.583384Z",
     "iopub.status.busy": "2020-11-20T07:21:13.582635Z",
     "iopub.status.idle": "2020-11-20T07:21:13.586102Z",
     "shell.execute_reply": "2020-11-20T07:21:13.585270Z"
    },
    "papermill": {
     "duration": 0.061619,
     "end_time": "2020-11-20T07:21:13.586231",
     "exception": false,
     "start_time": "2020-11-20T07:21:13.524612",
     "status": "completed"
    },
    "tags": []
   },
   "outputs": [],
   "source": [
    "car_carb =  car_data['carb']\n",
    "ccarb_Q1 = car_carb.quantile(0.25)\n",
    "ccarb_Q3 = car_carb.quantile(0.75)\n",
    "ccarb_iqr = ccarb_Q3 - ccarb_Q1\n",
    "ccarb_upper = ccarb_Q3 + (1.5 * ccarb_iqr)\n",
    "ccarb_lower = ccarb_Q1 - (1.5 * ccarb_iqr)"
   ]
  },
  {
   "cell_type": "code",
   "execution_count": 19,
   "metadata": {
    "execution": {
     "iopub.execute_input": "2020-11-20T07:21:13.693600Z",
     "iopub.status.busy": "2020-11-20T07:21:13.692530Z",
     "iopub.status.idle": "2020-11-20T07:21:13.697287Z",
     "shell.execute_reply": "2020-11-20T07:21:13.696568Z"
    },
    "papermill": {
     "duration": 0.062504,
     "end_time": "2020-11-20T07:21:13.697410",
     "exception": false,
     "start_time": "2020-11-20T07:21:13.634906",
     "status": "completed"
    },
    "tags": []
   },
   "outputs": [
    {
     "data": {
      "text/plain": [
       "30    8\n",
       "Name: carb, dtype: int64"
      ]
     },
     "execution_count": 19,
     "metadata": {},
     "output_type": "execute_result"
    }
   ],
   "source": [
    "carb_outlier = car_carb[(car_carb < ccarb_lower) | (car_carb > ccarb_upper)]\n",
    "carb_outlier"
   ]
  },
  {
   "cell_type": "code",
   "execution_count": 20,
   "metadata": {
    "execution": {
     "iopub.execute_input": "2020-11-20T07:21:13.816932Z",
     "iopub.status.busy": "2020-11-20T07:21:13.815878Z",
     "iopub.status.idle": "2020-11-20T07:21:13.820507Z",
     "shell.execute_reply": "2020-11-20T07:21:13.821094Z"
    },
    "papermill": {
     "duration": 0.073883,
     "end_time": "2020-11-20T07:21:13.821268",
     "exception": false,
     "start_time": "2020-11-20T07:21:13.747385",
     "status": "completed"
    },
    "tags": []
   },
   "outputs": [
    {
     "data": {
      "text/html": [
       "<div>\n",
       "<style scoped>\n",
       "    .dataframe tbody tr th:only-of-type {\n",
       "        vertical-align: middle;\n",
       "    }\n",
       "\n",
       "    .dataframe tbody tr th {\n",
       "        vertical-align: top;\n",
       "    }\n",
       "\n",
       "    .dataframe thead th {\n",
       "        text-align: right;\n",
       "    }\n",
       "</style>\n",
       "<table border=\"1\" class=\"dataframe\">\n",
       "  <thead>\n",
       "    <tr style=\"text-align: right;\">\n",
       "      <th></th>\n",
       "      <th>model</th>\n",
       "      <th>mpg</th>\n",
       "      <th>cyl</th>\n",
       "      <th>disp</th>\n",
       "      <th>hp</th>\n",
       "      <th>drat</th>\n",
       "      <th>wt</th>\n",
       "      <th>qsec</th>\n",
       "      <th>vs</th>\n",
       "      <th>am</th>\n",
       "      <th>gear</th>\n",
       "      <th>carb</th>\n",
       "    </tr>\n",
       "  </thead>\n",
       "  <tbody>\n",
       "    <tr>\n",
       "      <th>30</th>\n",
       "      <td>Maserati Bora</td>\n",
       "      <td>15.0</td>\n",
       "      <td>8</td>\n",
       "      <td>301.0</td>\n",
       "      <td>335</td>\n",
       "      <td>3.54</td>\n",
       "      <td>3.57</td>\n",
       "      <td>14.6</td>\n",
       "      <td>0</td>\n",
       "      <td>1</td>\n",
       "      <td>5</td>\n",
       "      <td>8</td>\n",
       "    </tr>\n",
       "  </tbody>\n",
       "</table>\n",
       "</div>"
      ],
      "text/plain": [
       "            model   mpg  cyl   disp   hp  drat    wt  qsec  vs  am  gear  carb\n",
       "30  Maserati Bora  15.0    8  301.0  335  3.54  3.57  14.6   0   1     5     8"
      ]
     },
     "execution_count": 20,
     "metadata": {},
     "output_type": "execute_result"
    }
   ],
   "source": [
    "car_data[car_data['carb'] == 8]"
   ]
  },
  {
   "cell_type": "code",
   "execution_count": 21,
   "metadata": {
    "execution": {
     "iopub.execute_input": "2020-11-20T07:21:13.929521Z",
     "iopub.status.busy": "2020-11-20T07:21:13.928418Z",
     "iopub.status.idle": "2020-11-20T07:21:13.931782Z",
     "shell.execute_reply": "2020-11-20T07:21:13.931128Z"
    },
    "papermill": {
     "duration": 0.060432,
     "end_time": "2020-11-20T07:21:13.931930",
     "exception": false,
     "start_time": "2020-11-20T07:21:13.871498",
     "status": "completed"
    },
    "tags": []
   },
   "outputs": [],
   "source": [
    "new_car_data = car_data.drop([14,15,16,30])"
   ]
  },
  {
   "cell_type": "code",
   "execution_count": 22,
   "metadata": {
    "execution": {
     "iopub.execute_input": "2020-11-20T07:21:14.069313Z",
     "iopub.status.busy": "2020-11-20T07:21:14.068201Z",
     "iopub.status.idle": "2020-11-20T07:21:14.073926Z",
     "shell.execute_reply": "2020-11-20T07:21:14.074729Z"
    },
    "papermill": {
     "duration": 0.092519,
     "end_time": "2020-11-20T07:21:14.074901",
     "exception": false,
     "start_time": "2020-11-20T07:21:13.982382",
     "status": "completed"
    },
    "tags": []
   },
   "outputs": [
    {
     "data": {
      "text/html": [
       "<div>\n",
       "<style scoped>\n",
       "    .dataframe tbody tr th:only-of-type {\n",
       "        vertical-align: middle;\n",
       "    }\n",
       "\n",
       "    .dataframe tbody tr th {\n",
       "        vertical-align: top;\n",
       "    }\n",
       "\n",
       "    .dataframe thead th {\n",
       "        text-align: right;\n",
       "    }\n",
       "</style>\n",
       "<table border=\"1\" class=\"dataframe\">\n",
       "  <thead>\n",
       "    <tr style=\"text-align: right;\">\n",
       "      <th></th>\n",
       "      <th>model</th>\n",
       "      <th>mpg</th>\n",
       "      <th>cyl</th>\n",
       "      <th>disp</th>\n",
       "      <th>hp</th>\n",
       "      <th>drat</th>\n",
       "      <th>wt</th>\n",
       "      <th>qsec</th>\n",
       "      <th>vs</th>\n",
       "      <th>am</th>\n",
       "      <th>gear</th>\n",
       "      <th>carb</th>\n",
       "    </tr>\n",
       "  </thead>\n",
       "  <tbody>\n",
       "    <tr>\n",
       "      <th>0</th>\n",
       "      <td>Mazda RX4</td>\n",
       "      <td>21.0</td>\n",
       "      <td>6</td>\n",
       "      <td>160.0</td>\n",
       "      <td>110</td>\n",
       "      <td>3.90</td>\n",
       "      <td>2.620</td>\n",
       "      <td>16.46</td>\n",
       "      <td>0</td>\n",
       "      <td>1</td>\n",
       "      <td>4</td>\n",
       "      <td>4</td>\n",
       "    </tr>\n",
       "    <tr>\n",
       "      <th>1</th>\n",
       "      <td>Mazda RX4 Wag</td>\n",
       "      <td>21.0</td>\n",
       "      <td>6</td>\n",
       "      <td>160.0</td>\n",
       "      <td>110</td>\n",
       "      <td>3.90</td>\n",
       "      <td>2.875</td>\n",
       "      <td>17.02</td>\n",
       "      <td>0</td>\n",
       "      <td>1</td>\n",
       "      <td>4</td>\n",
       "      <td>4</td>\n",
       "    </tr>\n",
       "    <tr>\n",
       "      <th>2</th>\n",
       "      <td>Datsun 710</td>\n",
       "      <td>22.8</td>\n",
       "      <td>4</td>\n",
       "      <td>108.0</td>\n",
       "      <td>93</td>\n",
       "      <td>3.85</td>\n",
       "      <td>2.320</td>\n",
       "      <td>18.61</td>\n",
       "      <td>1</td>\n",
       "      <td>1</td>\n",
       "      <td>4</td>\n",
       "      <td>1</td>\n",
       "    </tr>\n",
       "    <tr>\n",
       "      <th>3</th>\n",
       "      <td>Hornet 4 Drive</td>\n",
       "      <td>21.4</td>\n",
       "      <td>6</td>\n",
       "      <td>258.0</td>\n",
       "      <td>110</td>\n",
       "      <td>3.08</td>\n",
       "      <td>3.215</td>\n",
       "      <td>19.44</td>\n",
       "      <td>1</td>\n",
       "      <td>0</td>\n",
       "      <td>3</td>\n",
       "      <td>1</td>\n",
       "    </tr>\n",
       "    <tr>\n",
       "      <th>4</th>\n",
       "      <td>Hornet Sportabout</td>\n",
       "      <td>18.7</td>\n",
       "      <td>8</td>\n",
       "      <td>360.0</td>\n",
       "      <td>175</td>\n",
       "      <td>3.15</td>\n",
       "      <td>3.440</td>\n",
       "      <td>17.02</td>\n",
       "      <td>0</td>\n",
       "      <td>0</td>\n",
       "      <td>3</td>\n",
       "      <td>2</td>\n",
       "    </tr>\n",
       "    <tr>\n",
       "      <th>5</th>\n",
       "      <td>Valiant</td>\n",
       "      <td>18.1</td>\n",
       "      <td>6</td>\n",
       "      <td>225.0</td>\n",
       "      <td>105</td>\n",
       "      <td>2.76</td>\n",
       "      <td>3.460</td>\n",
       "      <td>20.22</td>\n",
       "      <td>1</td>\n",
       "      <td>0</td>\n",
       "      <td>3</td>\n",
       "      <td>1</td>\n",
       "    </tr>\n",
       "    <tr>\n",
       "      <th>6</th>\n",
       "      <td>Duster 360</td>\n",
       "      <td>14.3</td>\n",
       "      <td>8</td>\n",
       "      <td>360.0</td>\n",
       "      <td>245</td>\n",
       "      <td>3.21</td>\n",
       "      <td>3.570</td>\n",
       "      <td>15.84</td>\n",
       "      <td>0</td>\n",
       "      <td>0</td>\n",
       "      <td>3</td>\n",
       "      <td>4</td>\n",
       "    </tr>\n",
       "    <tr>\n",
       "      <th>7</th>\n",
       "      <td>Merc 240D</td>\n",
       "      <td>24.4</td>\n",
       "      <td>4</td>\n",
       "      <td>146.7</td>\n",
       "      <td>62</td>\n",
       "      <td>3.69</td>\n",
       "      <td>3.190</td>\n",
       "      <td>20.00</td>\n",
       "      <td>1</td>\n",
       "      <td>0</td>\n",
       "      <td>4</td>\n",
       "      <td>2</td>\n",
       "    </tr>\n",
       "    <tr>\n",
       "      <th>8</th>\n",
       "      <td>Merc 230</td>\n",
       "      <td>22.8</td>\n",
       "      <td>4</td>\n",
       "      <td>140.8</td>\n",
       "      <td>95</td>\n",
       "      <td>3.92</td>\n",
       "      <td>3.150</td>\n",
       "      <td>22.90</td>\n",
       "      <td>1</td>\n",
       "      <td>0</td>\n",
       "      <td>4</td>\n",
       "      <td>2</td>\n",
       "    </tr>\n",
       "    <tr>\n",
       "      <th>9</th>\n",
       "      <td>Merc 280</td>\n",
       "      <td>19.2</td>\n",
       "      <td>6</td>\n",
       "      <td>167.6</td>\n",
       "      <td>123</td>\n",
       "      <td>3.92</td>\n",
       "      <td>3.440</td>\n",
       "      <td>18.30</td>\n",
       "      <td>1</td>\n",
       "      <td>0</td>\n",
       "      <td>4</td>\n",
       "      <td>4</td>\n",
       "    </tr>\n",
       "    <tr>\n",
       "      <th>10</th>\n",
       "      <td>Merc 280C</td>\n",
       "      <td>17.8</td>\n",
       "      <td>6</td>\n",
       "      <td>167.6</td>\n",
       "      <td>123</td>\n",
       "      <td>3.92</td>\n",
       "      <td>3.440</td>\n",
       "      <td>18.90</td>\n",
       "      <td>1</td>\n",
       "      <td>0</td>\n",
       "      <td>4</td>\n",
       "      <td>4</td>\n",
       "    </tr>\n",
       "    <tr>\n",
       "      <th>11</th>\n",
       "      <td>Merc 450SE</td>\n",
       "      <td>16.4</td>\n",
       "      <td>8</td>\n",
       "      <td>275.8</td>\n",
       "      <td>180</td>\n",
       "      <td>3.07</td>\n",
       "      <td>4.070</td>\n",
       "      <td>17.40</td>\n",
       "      <td>0</td>\n",
       "      <td>0</td>\n",
       "      <td>3</td>\n",
       "      <td>3</td>\n",
       "    </tr>\n",
       "    <tr>\n",
       "      <th>12</th>\n",
       "      <td>Merc 450SL</td>\n",
       "      <td>17.3</td>\n",
       "      <td>8</td>\n",
       "      <td>275.8</td>\n",
       "      <td>180</td>\n",
       "      <td>3.07</td>\n",
       "      <td>3.730</td>\n",
       "      <td>17.60</td>\n",
       "      <td>0</td>\n",
       "      <td>0</td>\n",
       "      <td>3</td>\n",
       "      <td>3</td>\n",
       "    </tr>\n",
       "    <tr>\n",
       "      <th>13</th>\n",
       "      <td>Merc 450SLC</td>\n",
       "      <td>15.2</td>\n",
       "      <td>8</td>\n",
       "      <td>275.8</td>\n",
       "      <td>180</td>\n",
       "      <td>3.07</td>\n",
       "      <td>3.780</td>\n",
       "      <td>18.00</td>\n",
       "      <td>0</td>\n",
       "      <td>0</td>\n",
       "      <td>3</td>\n",
       "      <td>3</td>\n",
       "    </tr>\n",
       "    <tr>\n",
       "      <th>17</th>\n",
       "      <td>Fiat 128</td>\n",
       "      <td>32.4</td>\n",
       "      <td>4</td>\n",
       "      <td>78.7</td>\n",
       "      <td>66</td>\n",
       "      <td>4.08</td>\n",
       "      <td>2.200</td>\n",
       "      <td>19.47</td>\n",
       "      <td>1</td>\n",
       "      <td>1</td>\n",
       "      <td>4</td>\n",
       "      <td>1</td>\n",
       "    </tr>\n",
       "    <tr>\n",
       "      <th>18</th>\n",
       "      <td>Honda Civic</td>\n",
       "      <td>30.4</td>\n",
       "      <td>4</td>\n",
       "      <td>75.7</td>\n",
       "      <td>52</td>\n",
       "      <td>4.93</td>\n",
       "      <td>1.615</td>\n",
       "      <td>18.52</td>\n",
       "      <td>1</td>\n",
       "      <td>1</td>\n",
       "      <td>4</td>\n",
       "      <td>2</td>\n",
       "    </tr>\n",
       "    <tr>\n",
       "      <th>19</th>\n",
       "      <td>Toyota Corolla</td>\n",
       "      <td>33.9</td>\n",
       "      <td>4</td>\n",
       "      <td>71.1</td>\n",
       "      <td>65</td>\n",
       "      <td>4.22</td>\n",
       "      <td>1.835</td>\n",
       "      <td>19.90</td>\n",
       "      <td>1</td>\n",
       "      <td>1</td>\n",
       "      <td>4</td>\n",
       "      <td>1</td>\n",
       "    </tr>\n",
       "    <tr>\n",
       "      <th>20</th>\n",
       "      <td>Toyota Corona</td>\n",
       "      <td>21.5</td>\n",
       "      <td>4</td>\n",
       "      <td>120.1</td>\n",
       "      <td>97</td>\n",
       "      <td>3.70</td>\n",
       "      <td>2.465</td>\n",
       "      <td>20.01</td>\n",
       "      <td>1</td>\n",
       "      <td>0</td>\n",
       "      <td>3</td>\n",
       "      <td>1</td>\n",
       "    </tr>\n",
       "    <tr>\n",
       "      <th>21</th>\n",
       "      <td>Dodge Challenger</td>\n",
       "      <td>15.5</td>\n",
       "      <td>8</td>\n",
       "      <td>318.0</td>\n",
       "      <td>150</td>\n",
       "      <td>2.76</td>\n",
       "      <td>3.520</td>\n",
       "      <td>16.87</td>\n",
       "      <td>0</td>\n",
       "      <td>0</td>\n",
       "      <td>3</td>\n",
       "      <td>2</td>\n",
       "    </tr>\n",
       "    <tr>\n",
       "      <th>22</th>\n",
       "      <td>AMC Javelin</td>\n",
       "      <td>15.2</td>\n",
       "      <td>8</td>\n",
       "      <td>304.0</td>\n",
       "      <td>150</td>\n",
       "      <td>3.15</td>\n",
       "      <td>3.435</td>\n",
       "      <td>17.30</td>\n",
       "      <td>0</td>\n",
       "      <td>0</td>\n",
       "      <td>3</td>\n",
       "      <td>2</td>\n",
       "    </tr>\n",
       "    <tr>\n",
       "      <th>23</th>\n",
       "      <td>Camaro Z28</td>\n",
       "      <td>13.3</td>\n",
       "      <td>8</td>\n",
       "      <td>350.0</td>\n",
       "      <td>245</td>\n",
       "      <td>3.73</td>\n",
       "      <td>3.840</td>\n",
       "      <td>15.41</td>\n",
       "      <td>0</td>\n",
       "      <td>0</td>\n",
       "      <td>3</td>\n",
       "      <td>4</td>\n",
       "    </tr>\n",
       "    <tr>\n",
       "      <th>24</th>\n",
       "      <td>Pontiac Firebird</td>\n",
       "      <td>19.2</td>\n",
       "      <td>8</td>\n",
       "      <td>400.0</td>\n",
       "      <td>175</td>\n",
       "      <td>3.08</td>\n",
       "      <td>3.845</td>\n",
       "      <td>17.05</td>\n",
       "      <td>0</td>\n",
       "      <td>0</td>\n",
       "      <td>3</td>\n",
       "      <td>2</td>\n",
       "    </tr>\n",
       "    <tr>\n",
       "      <th>25</th>\n",
       "      <td>Fiat X1-9</td>\n",
       "      <td>27.3</td>\n",
       "      <td>4</td>\n",
       "      <td>79.0</td>\n",
       "      <td>66</td>\n",
       "      <td>4.08</td>\n",
       "      <td>1.935</td>\n",
       "      <td>18.90</td>\n",
       "      <td>1</td>\n",
       "      <td>1</td>\n",
       "      <td>4</td>\n",
       "      <td>1</td>\n",
       "    </tr>\n",
       "    <tr>\n",
       "      <th>26</th>\n",
       "      <td>Porsche 914-2</td>\n",
       "      <td>26.0</td>\n",
       "      <td>4</td>\n",
       "      <td>120.3</td>\n",
       "      <td>91</td>\n",
       "      <td>4.43</td>\n",
       "      <td>2.140</td>\n",
       "      <td>16.70</td>\n",
       "      <td>0</td>\n",
       "      <td>1</td>\n",
       "      <td>5</td>\n",
       "      <td>2</td>\n",
       "    </tr>\n",
       "    <tr>\n",
       "      <th>27</th>\n",
       "      <td>Lotus Europa</td>\n",
       "      <td>30.4</td>\n",
       "      <td>4</td>\n",
       "      <td>95.1</td>\n",
       "      <td>113</td>\n",
       "      <td>3.77</td>\n",
       "      <td>1.513</td>\n",
       "      <td>16.90</td>\n",
       "      <td>1</td>\n",
       "      <td>1</td>\n",
       "      <td>5</td>\n",
       "      <td>2</td>\n",
       "    </tr>\n",
       "    <tr>\n",
       "      <th>28</th>\n",
       "      <td>Ford Pantera L</td>\n",
       "      <td>15.8</td>\n",
       "      <td>8</td>\n",
       "      <td>351.0</td>\n",
       "      <td>264</td>\n",
       "      <td>4.22</td>\n",
       "      <td>3.170</td>\n",
       "      <td>14.50</td>\n",
       "      <td>0</td>\n",
       "      <td>1</td>\n",
       "      <td>5</td>\n",
       "      <td>4</td>\n",
       "    </tr>\n",
       "    <tr>\n",
       "      <th>29</th>\n",
       "      <td>Ferrari Dino</td>\n",
       "      <td>19.7</td>\n",
       "      <td>6</td>\n",
       "      <td>145.0</td>\n",
       "      <td>175</td>\n",
       "      <td>3.62</td>\n",
       "      <td>2.770</td>\n",
       "      <td>15.50</td>\n",
       "      <td>0</td>\n",
       "      <td>1</td>\n",
       "      <td>5</td>\n",
       "      <td>6</td>\n",
       "    </tr>\n",
       "    <tr>\n",
       "      <th>31</th>\n",
       "      <td>Volvo 142E</td>\n",
       "      <td>21.4</td>\n",
       "      <td>4</td>\n",
       "      <td>121.0</td>\n",
       "      <td>109</td>\n",
       "      <td>4.11</td>\n",
       "      <td>2.780</td>\n",
       "      <td>18.60</td>\n",
       "      <td>1</td>\n",
       "      <td>1</td>\n",
       "      <td>4</td>\n",
       "      <td>2</td>\n",
       "    </tr>\n",
       "  </tbody>\n",
       "</table>\n",
       "</div>"
      ],
      "text/plain": [
       "                model   mpg  cyl   disp   hp  drat     wt   qsec  vs  am  \\\n",
       "0           Mazda RX4  21.0    6  160.0  110  3.90  2.620  16.46   0   1   \n",
       "1       Mazda RX4 Wag  21.0    6  160.0  110  3.90  2.875  17.02   0   1   \n",
       "2          Datsun 710  22.8    4  108.0   93  3.85  2.320  18.61   1   1   \n",
       "3      Hornet 4 Drive  21.4    6  258.0  110  3.08  3.215  19.44   1   0   \n",
       "4   Hornet Sportabout  18.7    8  360.0  175  3.15  3.440  17.02   0   0   \n",
       "5             Valiant  18.1    6  225.0  105  2.76  3.460  20.22   1   0   \n",
       "6          Duster 360  14.3    8  360.0  245  3.21  3.570  15.84   0   0   \n",
       "7           Merc 240D  24.4    4  146.7   62  3.69  3.190  20.00   1   0   \n",
       "8            Merc 230  22.8    4  140.8   95  3.92  3.150  22.90   1   0   \n",
       "9            Merc 280  19.2    6  167.6  123  3.92  3.440  18.30   1   0   \n",
       "10          Merc 280C  17.8    6  167.6  123  3.92  3.440  18.90   1   0   \n",
       "11         Merc 450SE  16.4    8  275.8  180  3.07  4.070  17.40   0   0   \n",
       "12         Merc 450SL  17.3    8  275.8  180  3.07  3.730  17.60   0   0   \n",
       "13        Merc 450SLC  15.2    8  275.8  180  3.07  3.780  18.00   0   0   \n",
       "17           Fiat 128  32.4    4   78.7   66  4.08  2.200  19.47   1   1   \n",
       "18        Honda Civic  30.4    4   75.7   52  4.93  1.615  18.52   1   1   \n",
       "19     Toyota Corolla  33.9    4   71.1   65  4.22  1.835  19.90   1   1   \n",
       "20      Toyota Corona  21.5    4  120.1   97  3.70  2.465  20.01   1   0   \n",
       "21   Dodge Challenger  15.5    8  318.0  150  2.76  3.520  16.87   0   0   \n",
       "22        AMC Javelin  15.2    8  304.0  150  3.15  3.435  17.30   0   0   \n",
       "23         Camaro Z28  13.3    8  350.0  245  3.73  3.840  15.41   0   0   \n",
       "24   Pontiac Firebird  19.2    8  400.0  175  3.08  3.845  17.05   0   0   \n",
       "25          Fiat X1-9  27.3    4   79.0   66  4.08  1.935  18.90   1   1   \n",
       "26      Porsche 914-2  26.0    4  120.3   91  4.43  2.140  16.70   0   1   \n",
       "27       Lotus Europa  30.4    4   95.1  113  3.77  1.513  16.90   1   1   \n",
       "28     Ford Pantera L  15.8    8  351.0  264  4.22  3.170  14.50   0   1   \n",
       "29       Ferrari Dino  19.7    6  145.0  175  3.62  2.770  15.50   0   1   \n",
       "31         Volvo 142E  21.4    4  121.0  109  4.11  2.780  18.60   1   1   \n",
       "\n",
       "    gear  carb  \n",
       "0      4     4  \n",
       "1      4     4  \n",
       "2      4     1  \n",
       "3      3     1  \n",
       "4      3     2  \n",
       "5      3     1  \n",
       "6      3     4  \n",
       "7      4     2  \n",
       "8      4     2  \n",
       "9      4     4  \n",
       "10     4     4  \n",
       "11     3     3  \n",
       "12     3     3  \n",
       "13     3     3  \n",
       "17     4     1  \n",
       "18     4     2  \n",
       "19     4     1  \n",
       "20     3     1  \n",
       "21     3     2  \n",
       "22     3     2  \n",
       "23     3     4  \n",
       "24     3     2  \n",
       "25     4     1  \n",
       "26     5     2  \n",
       "27     5     2  \n",
       "28     5     4  \n",
       "29     5     6  \n",
       "31     4     2  "
      ]
     },
     "execution_count": 22,
     "metadata": {},
     "output_type": "execute_result"
    }
   ],
   "source": [
    "new_car_data"
   ]
  },
  {
   "cell_type": "code",
   "execution_count": 23,
   "metadata": {
    "execution": {
     "iopub.execute_input": "2020-11-20T07:21:14.194971Z",
     "iopub.status.busy": "2020-11-20T07:21:14.189532Z",
     "iopub.status.idle": "2020-11-20T07:21:14.239553Z",
     "shell.execute_reply": "2020-11-20T07:21:14.238719Z"
    },
    "papermill": {
     "duration": 0.112742,
     "end_time": "2020-11-20T07:21:14.239683",
     "exception": false,
     "start_time": "2020-11-20T07:21:14.126941",
     "status": "completed"
    },
    "tags": []
   },
   "outputs": [
    {
     "data": {
      "text/html": [
       "<div>\n",
       "<style scoped>\n",
       "    .dataframe tbody tr th:only-of-type {\n",
       "        vertical-align: middle;\n",
       "    }\n",
       "\n",
       "    .dataframe tbody tr th {\n",
       "        vertical-align: top;\n",
       "    }\n",
       "\n",
       "    .dataframe thead th {\n",
       "        text-align: right;\n",
       "    }\n",
       "</style>\n",
       "<table border=\"1\" class=\"dataframe\">\n",
       "  <thead>\n",
       "    <tr style=\"text-align: right;\">\n",
       "      <th></th>\n",
       "      <th>count</th>\n",
       "      <th>mean</th>\n",
       "      <th>std</th>\n",
       "      <th>min</th>\n",
       "      <th>25%</th>\n",
       "      <th>50%</th>\n",
       "      <th>75%</th>\n",
       "      <th>max</th>\n",
       "    </tr>\n",
       "  </thead>\n",
       "  <tbody>\n",
       "    <tr>\n",
       "      <th>mpg</th>\n",
       "      <td>32.0</td>\n",
       "      <td>20.090625</td>\n",
       "      <td>6.026948</td>\n",
       "      <td>10.400</td>\n",
       "      <td>15.42500</td>\n",
       "      <td>19.200</td>\n",
       "      <td>22.80</td>\n",
       "      <td>33.900</td>\n",
       "    </tr>\n",
       "    <tr>\n",
       "      <th>cyl</th>\n",
       "      <td>32.0</td>\n",
       "      <td>6.187500</td>\n",
       "      <td>1.785922</td>\n",
       "      <td>4.000</td>\n",
       "      <td>4.00000</td>\n",
       "      <td>6.000</td>\n",
       "      <td>8.00</td>\n",
       "      <td>8.000</td>\n",
       "    </tr>\n",
       "    <tr>\n",
       "      <th>disp</th>\n",
       "      <td>32.0</td>\n",
       "      <td>230.721875</td>\n",
       "      <td>123.938694</td>\n",
       "      <td>71.100</td>\n",
       "      <td>120.82500</td>\n",
       "      <td>196.300</td>\n",
       "      <td>326.00</td>\n",
       "      <td>472.000</td>\n",
       "    </tr>\n",
       "    <tr>\n",
       "      <th>hp</th>\n",
       "      <td>32.0</td>\n",
       "      <td>146.687500</td>\n",
       "      <td>68.562868</td>\n",
       "      <td>52.000</td>\n",
       "      <td>96.50000</td>\n",
       "      <td>123.000</td>\n",
       "      <td>180.00</td>\n",
       "      <td>335.000</td>\n",
       "    </tr>\n",
       "    <tr>\n",
       "      <th>drat</th>\n",
       "      <td>32.0</td>\n",
       "      <td>3.596563</td>\n",
       "      <td>0.534679</td>\n",
       "      <td>2.760</td>\n",
       "      <td>3.08000</td>\n",
       "      <td>3.695</td>\n",
       "      <td>3.92</td>\n",
       "      <td>4.930</td>\n",
       "    </tr>\n",
       "    <tr>\n",
       "      <th>wt</th>\n",
       "      <td>32.0</td>\n",
       "      <td>3.217250</td>\n",
       "      <td>0.978457</td>\n",
       "      <td>1.513</td>\n",
       "      <td>2.58125</td>\n",
       "      <td>3.325</td>\n",
       "      <td>3.61</td>\n",
       "      <td>5.424</td>\n",
       "    </tr>\n",
       "    <tr>\n",
       "      <th>qsec</th>\n",
       "      <td>32.0</td>\n",
       "      <td>17.848750</td>\n",
       "      <td>1.786943</td>\n",
       "      <td>14.500</td>\n",
       "      <td>16.89250</td>\n",
       "      <td>17.710</td>\n",
       "      <td>18.90</td>\n",
       "      <td>22.900</td>\n",
       "    </tr>\n",
       "    <tr>\n",
       "      <th>vs</th>\n",
       "      <td>32.0</td>\n",
       "      <td>0.437500</td>\n",
       "      <td>0.504016</td>\n",
       "      <td>0.000</td>\n",
       "      <td>0.00000</td>\n",
       "      <td>0.000</td>\n",
       "      <td>1.00</td>\n",
       "      <td>1.000</td>\n",
       "    </tr>\n",
       "    <tr>\n",
       "      <th>am</th>\n",
       "      <td>32.0</td>\n",
       "      <td>0.406250</td>\n",
       "      <td>0.498991</td>\n",
       "      <td>0.000</td>\n",
       "      <td>0.00000</td>\n",
       "      <td>0.000</td>\n",
       "      <td>1.00</td>\n",
       "      <td>1.000</td>\n",
       "    </tr>\n",
       "    <tr>\n",
       "      <th>gear</th>\n",
       "      <td>32.0</td>\n",
       "      <td>3.687500</td>\n",
       "      <td>0.737804</td>\n",
       "      <td>3.000</td>\n",
       "      <td>3.00000</td>\n",
       "      <td>4.000</td>\n",
       "      <td>4.00</td>\n",
       "      <td>5.000</td>\n",
       "    </tr>\n",
       "    <tr>\n",
       "      <th>carb</th>\n",
       "      <td>32.0</td>\n",
       "      <td>2.812500</td>\n",
       "      <td>1.615200</td>\n",
       "      <td>1.000</td>\n",
       "      <td>2.00000</td>\n",
       "      <td>2.000</td>\n",
       "      <td>4.00</td>\n",
       "      <td>8.000</td>\n",
       "    </tr>\n",
       "  </tbody>\n",
       "</table>\n",
       "</div>"
      ],
      "text/plain": [
       "      count        mean         std     min        25%      50%     75%  \\\n",
       "mpg    32.0   20.090625    6.026948  10.400   15.42500   19.200   22.80   \n",
       "cyl    32.0    6.187500    1.785922   4.000    4.00000    6.000    8.00   \n",
       "disp   32.0  230.721875  123.938694  71.100  120.82500  196.300  326.00   \n",
       "hp     32.0  146.687500   68.562868  52.000   96.50000  123.000  180.00   \n",
       "drat   32.0    3.596563    0.534679   2.760    3.08000    3.695    3.92   \n",
       "wt     32.0    3.217250    0.978457   1.513    2.58125    3.325    3.61   \n",
       "qsec   32.0   17.848750    1.786943  14.500   16.89250   17.710   18.90   \n",
       "vs     32.0    0.437500    0.504016   0.000    0.00000    0.000    1.00   \n",
       "am     32.0    0.406250    0.498991   0.000    0.00000    0.000    1.00   \n",
       "gear   32.0    3.687500    0.737804   3.000    3.00000    4.000    4.00   \n",
       "carb   32.0    2.812500    1.615200   1.000    2.00000    2.000    4.00   \n",
       "\n",
       "          max  \n",
       "mpg    33.900  \n",
       "cyl     8.000  \n",
       "disp  472.000  \n",
       "hp    335.000  \n",
       "drat    4.930  \n",
       "wt      5.424  \n",
       "qsec   22.900  \n",
       "vs      1.000  \n",
       "am      1.000  \n",
       "gear    5.000  \n",
       "carb    8.000  "
      ]
     },
     "execution_count": 23,
     "metadata": {},
     "output_type": "execute_result"
    }
   ],
   "source": [
    "car_data.describe().T"
   ]
  },
  {
   "cell_type": "code",
   "execution_count": 24,
   "metadata": {
    "execution": {
     "iopub.execute_input": "2020-11-20T07:21:14.379731Z",
     "iopub.status.busy": "2020-11-20T07:21:14.372272Z",
     "iopub.status.idle": "2020-11-20T07:21:14.415159Z",
     "shell.execute_reply": "2020-11-20T07:21:14.414392Z"
    },
    "papermill": {
     "duration": 0.117661,
     "end_time": "2020-11-20T07:21:14.415281",
     "exception": false,
     "start_time": "2020-11-20T07:21:14.297620",
     "status": "completed"
    },
    "tags": []
   },
   "outputs": [
    {
     "data": {
      "text/html": [
       "<div>\n",
       "<style scoped>\n",
       "    .dataframe tbody tr th:only-of-type {\n",
       "        vertical-align: middle;\n",
       "    }\n",
       "\n",
       "    .dataframe tbody tr th {\n",
       "        vertical-align: top;\n",
       "    }\n",
       "\n",
       "    .dataframe thead th {\n",
       "        text-align: right;\n",
       "    }\n",
       "</style>\n",
       "<table border=\"1\" class=\"dataframe\">\n",
       "  <thead>\n",
       "    <tr style=\"text-align: right;\">\n",
       "      <th></th>\n",
       "      <th>count</th>\n",
       "      <th>mean</th>\n",
       "      <th>std</th>\n",
       "      <th>min</th>\n",
       "      <th>25%</th>\n",
       "      <th>50%</th>\n",
       "      <th>75%</th>\n",
       "      <th>max</th>\n",
       "    </tr>\n",
       "  </thead>\n",
       "  <tbody>\n",
       "    <tr>\n",
       "      <th>mpg</th>\n",
       "      <td>28.0</td>\n",
       "      <td>21.157143</td>\n",
       "      <td>5.615483</td>\n",
       "      <td>13.300</td>\n",
       "      <td>17.07500</td>\n",
       "      <td>20.35</td>\n",
       "      <td>23.200</td>\n",
       "      <td>33.90</td>\n",
       "    </tr>\n",
       "    <tr>\n",
       "      <th>cyl</th>\n",
       "      <td>28.0</td>\n",
       "      <td>5.928571</td>\n",
       "      <td>1.762334</td>\n",
       "      <td>4.000</td>\n",
       "      <td>4.00000</td>\n",
       "      <td>6.00</td>\n",
       "      <td>8.000</td>\n",
       "      <td>8.00</td>\n",
       "    </tr>\n",
       "    <tr>\n",
       "      <th>disp</th>\n",
       "      <td>28.0</td>\n",
       "      <td>203.932143</td>\n",
       "      <td>104.804852</td>\n",
       "      <td>71.100</td>\n",
       "      <td>120.25000</td>\n",
       "      <td>163.80</td>\n",
       "      <td>282.850</td>\n",
       "      <td>400.00</td>\n",
       "    </tr>\n",
       "    <tr>\n",
       "      <th>hp</th>\n",
       "      <td>28.0</td>\n",
       "      <td>132.464286</td>\n",
       "      <td>57.604322</td>\n",
       "      <td>52.000</td>\n",
       "      <td>94.50000</td>\n",
       "      <td>111.50</td>\n",
       "      <td>175.000</td>\n",
       "      <td>264.00</td>\n",
       "    </tr>\n",
       "    <tr>\n",
       "      <th>drat</th>\n",
       "      <td>28.0</td>\n",
       "      <td>3.656786</td>\n",
       "      <td>0.538276</td>\n",
       "      <td>2.760</td>\n",
       "      <td>3.13250</td>\n",
       "      <td>3.75</td>\n",
       "      <td>3.960</td>\n",
       "      <td>4.93</td>\n",
       "    </tr>\n",
       "    <tr>\n",
       "      <th>wt</th>\n",
       "      <td>28.0</td>\n",
       "      <td>2.977250</td>\n",
       "      <td>0.730611</td>\n",
       "      <td>1.513</td>\n",
       "      <td>2.42875</td>\n",
       "      <td>3.18</td>\n",
       "      <td>3.475</td>\n",
       "      <td>4.07</td>\n",
       "    </tr>\n",
       "    <tr>\n",
       "      <th>qsec</th>\n",
       "      <td>28.0</td>\n",
       "      <td>17.976429</td>\n",
       "      <td>1.803037</td>\n",
       "      <td>14.500</td>\n",
       "      <td>16.89250</td>\n",
       "      <td>17.80</td>\n",
       "      <td>19.035</td>\n",
       "      <td>22.90</td>\n",
       "    </tr>\n",
       "    <tr>\n",
       "      <th>vs</th>\n",
       "      <td>28.0</td>\n",
       "      <td>0.500000</td>\n",
       "      <td>0.509175</td>\n",
       "      <td>0.000</td>\n",
       "      <td>0.00000</td>\n",
       "      <td>0.50</td>\n",
       "      <td>1.000</td>\n",
       "      <td>1.00</td>\n",
       "    </tr>\n",
       "    <tr>\n",
       "      <th>am</th>\n",
       "      <td>28.0</td>\n",
       "      <td>0.428571</td>\n",
       "      <td>0.503953</td>\n",
       "      <td>0.000</td>\n",
       "      <td>0.00000</td>\n",
       "      <td>0.00</td>\n",
       "      <td>1.000</td>\n",
       "      <td>1.00</td>\n",
       "    </tr>\n",
       "    <tr>\n",
       "      <th>gear</th>\n",
       "      <td>28.0</td>\n",
       "      <td>3.714286</td>\n",
       "      <td>0.712697</td>\n",
       "      <td>3.000</td>\n",
       "      <td>3.00000</td>\n",
       "      <td>4.00</td>\n",
       "      <td>4.000</td>\n",
       "      <td>5.00</td>\n",
       "    </tr>\n",
       "    <tr>\n",
       "      <th>carb</th>\n",
       "      <td>28.0</td>\n",
       "      <td>2.500000</td>\n",
       "      <td>1.319371</td>\n",
       "      <td>1.000</td>\n",
       "      <td>1.75000</td>\n",
       "      <td>2.00</td>\n",
       "      <td>4.000</td>\n",
       "      <td>6.00</td>\n",
       "    </tr>\n",
       "  </tbody>\n",
       "</table>\n",
       "</div>"
      ],
      "text/plain": [
       "      count        mean         std     min        25%     50%      75%  \\\n",
       "mpg    28.0   21.157143    5.615483  13.300   17.07500   20.35   23.200   \n",
       "cyl    28.0    5.928571    1.762334   4.000    4.00000    6.00    8.000   \n",
       "disp   28.0  203.932143  104.804852  71.100  120.25000  163.80  282.850   \n",
       "hp     28.0  132.464286   57.604322  52.000   94.50000  111.50  175.000   \n",
       "drat   28.0    3.656786    0.538276   2.760    3.13250    3.75    3.960   \n",
       "wt     28.0    2.977250    0.730611   1.513    2.42875    3.18    3.475   \n",
       "qsec   28.0   17.976429    1.803037  14.500   16.89250   17.80   19.035   \n",
       "vs     28.0    0.500000    0.509175   0.000    0.00000    0.50    1.000   \n",
       "am     28.0    0.428571    0.503953   0.000    0.00000    0.00    1.000   \n",
       "gear   28.0    3.714286    0.712697   3.000    3.00000    4.00    4.000   \n",
       "carb   28.0    2.500000    1.319371   1.000    1.75000    2.00    4.000   \n",
       "\n",
       "         max  \n",
       "mpg    33.90  \n",
       "cyl     8.00  \n",
       "disp  400.00  \n",
       "hp    264.00  \n",
       "drat    4.93  \n",
       "wt      4.07  \n",
       "qsec   22.90  \n",
       "vs      1.00  \n",
       "am      1.00  \n",
       "gear    5.00  \n",
       "carb    6.00  "
      ]
     },
     "execution_count": 24,
     "metadata": {},
     "output_type": "execute_result"
    }
   ],
   "source": [
    "new_car_data.describe().T"
   ]
  },
  {
   "cell_type": "code",
   "execution_count": 25,
   "metadata": {
    "execution": {
     "iopub.execute_input": "2020-11-20T07:21:14.530325Z",
     "iopub.status.busy": "2020-11-20T07:21:14.529262Z",
     "iopub.status.idle": "2020-11-20T07:21:14.534156Z",
     "shell.execute_reply": "2020-11-20T07:21:14.533327Z"
    },
    "papermill": {
     "duration": 0.064884,
     "end_time": "2020-11-20T07:21:14.534293",
     "exception": false,
     "start_time": "2020-11-20T07:21:14.469409",
     "status": "completed"
    },
    "tags": []
   },
   "outputs": [
    {
     "data": {
      "text/plain": [
       "Index(['model', 'mpg', 'cyl', 'disp', 'hp', 'drat', 'wt', 'qsec', 'vs', 'am',\n",
       "       'gear', 'carb'],\n",
       "      dtype='object')"
      ]
     },
     "execution_count": 25,
     "metadata": {},
     "output_type": "execute_result"
    }
   ],
   "source": [
    "car_data.columns"
   ]
  },
  {
   "cell_type": "markdown",
   "metadata": {
    "papermill": {
     "duration": 0.057281,
     "end_time": "2020-11-20T07:21:14.650225",
     "exception": false,
     "start_time": "2020-11-20T07:21:14.592944",
     "status": "completed"
    },
    "tags": []
   },
   "source": [
    "# Create and Evaluate Model with some outlier"
   ]
  },
  {
   "cell_type": "code",
   "execution_count": 26,
   "metadata": {
    "execution": {
     "iopub.execute_input": "2020-11-20T07:21:14.765497Z",
     "iopub.status.busy": "2020-11-20T07:21:14.764611Z",
     "iopub.status.idle": "2020-11-20T07:21:14.767862Z",
     "shell.execute_reply": "2020-11-20T07:21:14.767277Z"
    },
    "papermill": {
     "duration": 0.063653,
     "end_time": "2020-11-20T07:21:14.767988",
     "exception": false,
     "start_time": "2020-11-20T07:21:14.704335",
     "status": "completed"
    },
    "tags": []
   },
   "outputs": [],
   "source": [
    "selected_columns = ['cyl', 'disp', 'wt', 'carb']\n",
    "X = car_data[selected_columns]"
   ]
  },
  {
   "cell_type": "code",
   "execution_count": 27,
   "metadata": {
    "execution": {
     "iopub.execute_input": "2020-11-20T07:21:14.891183Z",
     "iopub.status.busy": "2020-11-20T07:21:14.890038Z",
     "iopub.status.idle": "2020-11-20T07:21:14.895122Z",
     "shell.execute_reply": "2020-11-20T07:21:14.894492Z"
    },
    "papermill": {
     "duration": 0.072835,
     "end_time": "2020-11-20T07:21:14.895253",
     "exception": false,
     "start_time": "2020-11-20T07:21:14.822418",
     "status": "completed"
    },
    "tags": []
   },
   "outputs": [
    {
     "data": {
      "text/html": [
       "<div>\n",
       "<style scoped>\n",
       "    .dataframe tbody tr th:only-of-type {\n",
       "        vertical-align: middle;\n",
       "    }\n",
       "\n",
       "    .dataframe tbody tr th {\n",
       "        vertical-align: top;\n",
       "    }\n",
       "\n",
       "    .dataframe thead th {\n",
       "        text-align: right;\n",
       "    }\n",
       "</style>\n",
       "<table border=\"1\" class=\"dataframe\">\n",
       "  <thead>\n",
       "    <tr style=\"text-align: right;\">\n",
       "      <th></th>\n",
       "      <th>cyl</th>\n",
       "      <th>disp</th>\n",
       "      <th>wt</th>\n",
       "      <th>carb</th>\n",
       "    </tr>\n",
       "  </thead>\n",
       "  <tbody>\n",
       "    <tr>\n",
       "      <th>0</th>\n",
       "      <td>6</td>\n",
       "      <td>160.0</td>\n",
       "      <td>2.620</td>\n",
       "      <td>4</td>\n",
       "    </tr>\n",
       "    <tr>\n",
       "      <th>1</th>\n",
       "      <td>6</td>\n",
       "      <td>160.0</td>\n",
       "      <td>2.875</td>\n",
       "      <td>4</td>\n",
       "    </tr>\n",
       "    <tr>\n",
       "      <th>2</th>\n",
       "      <td>4</td>\n",
       "      <td>108.0</td>\n",
       "      <td>2.320</td>\n",
       "      <td>1</td>\n",
       "    </tr>\n",
       "    <tr>\n",
       "      <th>3</th>\n",
       "      <td>6</td>\n",
       "      <td>258.0</td>\n",
       "      <td>3.215</td>\n",
       "      <td>1</td>\n",
       "    </tr>\n",
       "    <tr>\n",
       "      <th>4</th>\n",
       "      <td>8</td>\n",
       "      <td>360.0</td>\n",
       "      <td>3.440</td>\n",
       "      <td>2</td>\n",
       "    </tr>\n",
       "  </tbody>\n",
       "</table>\n",
       "</div>"
      ],
      "text/plain": [
       "   cyl   disp     wt  carb\n",
       "0    6  160.0  2.620     4\n",
       "1    6  160.0  2.875     4\n",
       "2    4  108.0  2.320     1\n",
       "3    6  258.0  3.215     1\n",
       "4    8  360.0  3.440     2"
      ]
     },
     "execution_count": 27,
     "metadata": {},
     "output_type": "execute_result"
    }
   ],
   "source": [
    "X.head()"
   ]
  },
  {
   "cell_type": "code",
   "execution_count": 28,
   "metadata": {
    "execution": {
     "iopub.execute_input": "2020-11-20T07:21:15.021758Z",
     "iopub.status.busy": "2020-11-20T07:21:15.020391Z",
     "iopub.status.idle": "2020-11-20T07:21:15.024085Z",
     "shell.execute_reply": "2020-11-20T07:21:15.023461Z"
    },
    "papermill": {
     "duration": 0.067735,
     "end_time": "2020-11-20T07:21:15.024215",
     "exception": false,
     "start_time": "2020-11-20T07:21:14.956480",
     "status": "completed"
    },
    "tags": []
   },
   "outputs": [],
   "source": [
    "y = car_data['hp']"
   ]
  },
  {
   "cell_type": "code",
   "execution_count": 29,
   "metadata": {
    "execution": {
     "iopub.execute_input": "2020-11-20T07:21:15.146699Z",
     "iopub.status.busy": "2020-11-20T07:21:15.145531Z",
     "iopub.status.idle": "2020-11-20T07:21:15.150194Z",
     "shell.execute_reply": "2020-11-20T07:21:15.149348Z"
    },
    "papermill": {
     "duration": 0.066099,
     "end_time": "2020-11-20T07:21:15.150326",
     "exception": false,
     "start_time": "2020-11-20T07:21:15.084227",
     "status": "completed"
    },
    "tags": []
   },
   "outputs": [
    {
     "data": {
      "text/plain": [
       "0    110\n",
       "1    110\n",
       "2     93\n",
       "3    110\n",
       "4    175\n",
       "Name: hp, dtype: int64"
      ]
     },
     "execution_count": 29,
     "metadata": {},
     "output_type": "execute_result"
    }
   ],
   "source": [
    "y.head()"
   ]
  },
  {
   "cell_type": "code",
   "execution_count": 30,
   "metadata": {
    "execution": {
     "iopub.execute_input": "2020-11-20T07:21:15.270896Z",
     "iopub.status.busy": "2020-11-20T07:21:15.269866Z",
     "iopub.status.idle": "2020-11-20T07:21:15.273110Z",
     "shell.execute_reply": "2020-11-20T07:21:15.272333Z"
    },
    "papermill": {
     "duration": 0.067507,
     "end_time": "2020-11-20T07:21:15.273242",
     "exception": false,
     "start_time": "2020-11-20T07:21:15.205735",
     "status": "completed"
    },
    "tags": []
   },
   "outputs": [],
   "source": [
    "X_train, X_test, y_train, y_test = train_test_split(X,\n",
    "                                                    y,\n",
    "                                                    test_size = 0.3,\n",
    "                                                    random_state = 41)"
   ]
  },
  {
   "cell_type": "code",
   "execution_count": 31,
   "metadata": {
    "execution": {
     "iopub.execute_input": "2020-11-20T07:21:15.393963Z",
     "iopub.status.busy": "2020-11-20T07:21:15.392846Z",
     "iopub.status.idle": "2020-11-20T07:21:15.396310Z",
     "shell.execute_reply": "2020-11-20T07:21:15.395686Z"
    },
    "papermill": {
     "duration": 0.066275,
     "end_time": "2020-11-20T07:21:15.396432",
     "exception": false,
     "start_time": "2020-11-20T07:21:15.330157",
     "status": "completed"
    },
    "tags": []
   },
   "outputs": [],
   "source": [
    "linreg = LinearRegression()"
   ]
  },
  {
   "cell_type": "code",
   "execution_count": 32,
   "metadata": {
    "execution": {
     "iopub.execute_input": "2020-11-20T07:21:15.549123Z",
     "iopub.status.busy": "2020-11-20T07:21:15.527351Z",
     "iopub.status.idle": "2020-11-20T07:21:15.555999Z",
     "shell.execute_reply": "2020-11-20T07:21:15.555114Z"
    },
    "papermill": {
     "duration": 0.102478,
     "end_time": "2020-11-20T07:21:15.556146",
     "exception": false,
     "start_time": "2020-11-20T07:21:15.453668",
     "status": "completed"
    },
    "tags": []
   },
   "outputs": [
    {
     "data": {
      "text/plain": [
       "LinearRegression()"
      ]
     },
     "execution_count": 32,
     "metadata": {},
     "output_type": "execute_result"
    }
   ],
   "source": [
    "linreg.fit(X_train,y_train)"
   ]
  },
  {
   "cell_type": "code",
   "execution_count": 33,
   "metadata": {
    "execution": {
     "iopub.execute_input": "2020-11-20T07:21:15.685937Z",
     "iopub.status.busy": "2020-11-20T07:21:15.684812Z",
     "iopub.status.idle": "2020-11-20T07:21:15.688555Z",
     "shell.execute_reply": "2020-11-20T07:21:15.689312Z"
    },
    "papermill": {
     "duration": 0.068993,
     "end_time": "2020-11-20T07:21:15.689505",
     "exception": false,
     "start_time": "2020-11-20T07:21:15.620512",
     "status": "completed"
    },
    "tags": []
   },
   "outputs": [
    {
     "name": "stdout",
     "output_type": "stream",
     "text": [
      "Model Intercept :  63.444739715938496\n",
      "Model coefficient :  [ -9.34665106   0.64213349 -22.39759     24.55050587]\n"
     ]
    }
   ],
   "source": [
    "print(\"Model Intercept : \", linreg.intercept_)\n",
    "print(\"Model coefficient : \", linreg.coef_)"
   ]
  },
  {
   "cell_type": "code",
   "execution_count": 34,
   "metadata": {
    "execution": {
     "iopub.execute_input": "2020-11-20T07:21:15.814029Z",
     "iopub.status.busy": "2020-11-20T07:21:15.813093Z",
     "iopub.status.idle": "2020-11-20T07:21:15.816244Z",
     "shell.execute_reply": "2020-11-20T07:21:15.815485Z"
    },
    "papermill": {
     "duration": 0.067094,
     "end_time": "2020-11-20T07:21:15.816373",
     "exception": false,
     "start_time": "2020-11-20T07:21:15.749279",
     "status": "completed"
    },
    "tags": []
   },
   "outputs": [],
   "source": [
    "hp_pred = linreg.predict(X_test)"
   ]
  },
  {
   "cell_type": "code",
   "execution_count": 35,
   "metadata": {
    "execution": {
     "iopub.execute_input": "2020-11-20T07:21:15.943158Z",
     "iopub.status.busy": "2020-11-20T07:21:15.942040Z",
     "iopub.status.idle": "2020-11-20T07:21:15.945970Z",
     "shell.execute_reply": "2020-11-20T07:21:15.946769Z"
    },
    "papermill": {
     "duration": 0.070776,
     "end_time": "2020-11-20T07:21:15.946952",
     "exception": false,
     "start_time": "2020-11-20T07:21:15.876176",
     "status": "completed"
    },
    "tags": []
   },
   "outputs": [
    {
     "name": "stdout",
     "output_type": "stream",
     "text": [
      "Result with not removing outlier\n",
      "MAE : 28.816132039437843\n",
      "MSE : 1130.095662484194\n",
      "R2 : 0.6974057652752453\n"
     ]
    }
   ],
   "source": [
    "print(\"Result with not removing outlier\")\n",
    "print(\"MAE :\", mean_absolute_error(y_test,hp_pred))\n",
    "print(\"MSE :\", mean_squared_error(y_test, hp_pred))\n",
    "print(\"R2 :\", r2_score(y_test,hp_pred))"
   ]
  },
  {
   "cell_type": "markdown",
   "metadata": {
    "papermill": {
     "duration": 0.064993,
     "end_time": "2020-11-20T07:21:16.074289",
     "exception": false,
     "start_time": "2020-11-20T07:21:16.009296",
     "status": "completed"
    },
    "tags": []
   },
   "source": [
    "# Model with Cleaning outlier"
   ]
  },
  {
   "cell_type": "code",
   "execution_count": 36,
   "metadata": {
    "execution": {
     "iopub.execute_input": "2020-11-20T07:21:16.220445Z",
     "iopub.status.busy": "2020-11-20T07:21:16.219500Z",
     "iopub.status.idle": "2020-11-20T07:21:16.228658Z",
     "shell.execute_reply": "2020-11-20T07:21:16.227701Z"
    },
    "papermill": {
     "duration": 0.086471,
     "end_time": "2020-11-20T07:21:16.228848",
     "exception": false,
     "start_time": "2020-11-20T07:21:16.142377",
     "status": "completed"
    },
    "tags": []
   },
   "outputs": [],
   "source": [
    "new_X = new_car_data[selected_columns]\n",
    "new_y = new_car_data['hp']"
   ]
  },
  {
   "cell_type": "code",
   "execution_count": 37,
   "metadata": {
    "execution": {
     "iopub.execute_input": "2020-11-20T07:21:16.368067Z",
     "iopub.status.busy": "2020-11-20T07:21:16.366762Z",
     "iopub.status.idle": "2020-11-20T07:21:16.370006Z",
     "shell.execute_reply": "2020-11-20T07:21:16.369215Z"
    },
    "papermill": {
     "duration": 0.07945,
     "end_time": "2020-11-20T07:21:16.370181",
     "exception": false,
     "start_time": "2020-11-20T07:21:16.290731",
     "status": "completed"
    },
    "tags": []
   },
   "outputs": [],
   "source": [
    "X_train, X_test, y_train, y_test = train_test_split(new_X,\n",
    "                                                    new_y,\n",
    "                                                    test_size = 0.3,\n",
    "                                                    random_state = 41)"
   ]
  },
  {
   "cell_type": "code",
   "execution_count": 38,
   "metadata": {
    "execution": {
     "iopub.execute_input": "2020-11-20T07:21:16.499023Z",
     "iopub.status.busy": "2020-11-20T07:21:16.497852Z",
     "iopub.status.idle": "2020-11-20T07:21:16.501503Z",
     "shell.execute_reply": "2020-11-20T07:21:16.500864Z"
    },
    "papermill": {
     "duration": 0.071203,
     "end_time": "2020-11-20T07:21:16.501659",
     "exception": false,
     "start_time": "2020-11-20T07:21:16.430456",
     "status": "completed"
    },
    "tags": []
   },
   "outputs": [],
   "source": [
    "new_lr = LinearRegression()"
   ]
  },
  {
   "cell_type": "code",
   "execution_count": 39,
   "metadata": {
    "execution": {
     "iopub.execute_input": "2020-11-20T07:21:16.632697Z",
     "iopub.status.busy": "2020-11-20T07:21:16.631466Z",
     "iopub.status.idle": "2020-11-20T07:21:16.637006Z",
     "shell.execute_reply": "2020-11-20T07:21:16.636304Z"
    },
    "papermill": {
     "duration": 0.076356,
     "end_time": "2020-11-20T07:21:16.637160",
     "exception": false,
     "start_time": "2020-11-20T07:21:16.560804",
     "status": "completed"
    },
    "tags": []
   },
   "outputs": [
    {
     "data": {
      "text/plain": [
       "LinearRegression()"
      ]
     },
     "execution_count": 39,
     "metadata": {},
     "output_type": "execute_result"
    }
   ],
   "source": [
    "new_lr.fit(X_train,y_train)"
   ]
  },
  {
   "cell_type": "code",
   "execution_count": 40,
   "metadata": {
    "execution": {
     "iopub.execute_input": "2020-11-20T07:21:16.770972Z",
     "iopub.status.busy": "2020-11-20T07:21:16.769929Z",
     "iopub.status.idle": "2020-11-20T07:21:16.775728Z",
     "shell.execute_reply": "2020-11-20T07:21:16.774424Z"
    },
    "papermill": {
     "duration": 0.071625,
     "end_time": "2020-11-20T07:21:16.775914",
     "exception": false,
     "start_time": "2020-11-20T07:21:16.704289",
     "status": "completed"
    },
    "tags": []
   },
   "outputs": [
    {
     "name": "stdout",
     "output_type": "stream",
     "text": [
      "Model Intercept :  64.82323793168368\n",
      "Model coefficient :  [-11.35155798   0.6497602  -15.08694084  19.8208859 ]\n"
     ]
    }
   ],
   "source": [
    "print(\"Model Intercept : \", new_lr.intercept_)\n",
    "print(\"Model coefficient : \", new_lr.coef_)"
   ]
  },
  {
   "cell_type": "code",
   "execution_count": 41,
   "metadata": {
    "execution": {
     "iopub.execute_input": "2020-11-20T07:21:16.910218Z",
     "iopub.status.busy": "2020-11-20T07:21:16.908960Z",
     "iopub.status.idle": "2020-11-20T07:21:16.912637Z",
     "shell.execute_reply": "2020-11-20T07:21:16.911830Z"
    },
    "papermill": {
     "duration": 0.073474,
     "end_time": "2020-11-20T07:21:16.912770",
     "exception": false,
     "start_time": "2020-11-20T07:21:16.839296",
     "status": "completed"
    },
    "tags": []
   },
   "outputs": [],
   "source": [
    "new_hp_pred = new_lr.predict(X_test)"
   ]
  },
  {
   "cell_type": "code",
   "execution_count": 42,
   "metadata": {
    "execution": {
     "iopub.execute_input": "2020-11-20T07:21:17.052197Z",
     "iopub.status.busy": "2020-11-20T07:21:17.051204Z",
     "iopub.status.idle": "2020-11-20T07:21:17.055050Z",
     "shell.execute_reply": "2020-11-20T07:21:17.055749Z"
    },
    "papermill": {
     "duration": 0.075452,
     "end_time": "2020-11-20T07:21:17.055936",
     "exception": false,
     "start_time": "2020-11-20T07:21:16.980484",
     "status": "completed"
    },
    "tags": []
   },
   "outputs": [
    {
     "name": "stdout",
     "output_type": "stream",
     "text": [
      "Result with remove outlier\n",
      "MAE : 22.528539399589608\n",
      "MSE : 701.5446499125713\n",
      "R2 : 0.810109484170805\n"
     ]
    }
   ],
   "source": [
    "print(\"Result with remove outlier\")\n",
    "print(\"MAE :\", mean_absolute_error(y_test,new_hp_pred))\n",
    "print(\"MSE :\", mean_squared_error(y_test, new_hp_pred))\n",
    "print(\"R2 :\", r2_score(y_test,new_hp_pred))"
   ]
  },
  {
   "cell_type": "code",
   "execution_count": null,
   "metadata": {
    "papermill": {
     "duration": 0.060127,
     "end_time": "2020-11-20T07:21:17.179456",
     "exception": false,
     "start_time": "2020-11-20T07:21:17.119329",
     "status": "completed"
    },
    "tags": []
   },
   "outputs": [],
   "source": []
  }
 ],
 "metadata": {
  "kernelspec": {
   "display_name": "Python 3",
   "language": "python",
   "name": "python3"
  },
  "language_info": {
   "codemirror_mode": {
    "name": "ipython",
    "version": 3
   },
   "file_extension": ".py",
   "mimetype": "text/x-python",
   "name": "python",
   "nbconvert_exporter": "python",
   "pygments_lexer": "ipython3",
   "version": "3.7.6"
  },
  "papermill": {
   "duration": 13.773736,
   "end_time": "2020-11-20T07:21:17.348527",
   "environment_variables": {},
   "exception": null,
   "input_path": "__notebook__.ipynb",
   "output_path": "__notebook__.ipynb",
   "parameters": {},
   "start_time": "2020-11-20T07:21:03.574791",
   "version": "2.1.0"
  }
 },
 "nbformat": 4,
 "nbformat_minor": 4
}
