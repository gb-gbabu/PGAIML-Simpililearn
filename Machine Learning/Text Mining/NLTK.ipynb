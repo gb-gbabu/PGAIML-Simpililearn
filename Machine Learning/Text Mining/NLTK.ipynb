{
 "cells": [
  {
   "cell_type": "code",
   "execution_count": 8,
   "id": "e58b8db6-7c2b-40d1-becb-0d23c9ab4e11",
   "metadata": {},
   "outputs": [],
   "source": [
    "#https://www.kaggle.com/alvations/basic-nlp-with-nltk"
   ]
  },
  {
   "cell_type": "code",
   "execution_count": 1,
   "id": "49794a47-6c7d-46a6-a6a5-cfe767998014",
   "metadata": {},
   "outputs": [],
   "source": [
    "import nltk"
   ]
  },
  {
   "cell_type": "code",
   "execution_count": 2,
   "id": "f3b1036b-8054-44f6-813b-dc989aa54840",
   "metadata": {},
   "outputs": [],
   "source": [
    "#nltk.download('brown')\n",
    "from nltk.corpus import brown"
   ]
  },
  {
   "cell_type": "code",
   "execution_count": 3,
   "id": "7bb42ac3-68e4-4328-b0b5-fdb7d2b45ec1",
   "metadata": {},
   "outputs": [
    {
     "data": {
      "text/plain": [
       "['The', 'Fulton', 'County', 'Grand', 'Jury', 'said', ...]"
      ]
     },
     "execution_count": 3,
     "metadata": {},
     "output_type": "execute_result"
    }
   ],
   "source": [
    "brown.words()"
   ]
  },
  {
   "cell_type": "code",
   "execution_count": 6,
   "id": "0ead01b4-874f-4fea-a062-f9b6b082a976",
   "metadata": {},
   "outputs": [
    {
     "data": {
      "text/plain": [
       "['adventure',\n",
       " 'belles_lettres',\n",
       " 'editorial',\n",
       " 'fiction',\n",
       " 'government',\n",
       " 'hobbies',\n",
       " 'humor',\n",
       " 'learned',\n",
       " 'lore',\n",
       " 'mystery',\n",
       " 'news',\n",
       " 'religion',\n",
       " 'reviews',\n",
       " 'romance',\n",
       " 'science_fiction']"
      ]
     },
     "execution_count": 6,
     "metadata": {},
     "output_type": "execute_result"
    }
   ],
   "source": [
    "brown.categories()"
   ]
  },
  {
   "cell_type": "code",
   "execution_count": 7,
   "id": "934596f9-28d6-4188-b6f5-41cf8a779940",
   "metadata": {},
   "outputs": [
    {
     "data": {
      "text/plain": [
       "['Thirty-three', 'Scotty', 'did', 'not', 'go', 'back', ...]"
      ]
     },
     "execution_count": 7,
     "metadata": {},
     "output_type": "execute_result"
    }
   ],
   "source": [
    "brown.words(categories='fiction')"
   ]
  },
  {
   "cell_type": "code",
   "execution_count": 13,
   "id": "aa5c876b-3a33-45f7-9a70-32f71ecf4ecd",
   "metadata": {},
   "outputs": [],
   "source": [
    "#Text Pre-Processing  - Tokenization\n",
    "sample_sentence = \"I love machine learning and the implimentation using python. I am now good with python and learning Machine Learning concepts. I can't bare with this tutor or simpili-learn's peopel's\"\n",
    "\n",
    "from nltk.tokenize import sent_tokenize, word_tokenize\n",
    "\n"
   ]
  },
  {
   "cell_type": "code",
   "execution_count": 14,
   "id": "2b29c4a8-5e5d-4a2a-93b6-412551ae1c95",
   "metadata": {},
   "outputs": [
    {
     "data": {
      "text/plain": [
       "['I love machine learning and the implimentation using python.',\n",
       " 'I am now good with python and learning Machine Learning concepts.',\n",
       " \"I can't bare with this tutor or simpili-learn's peopel's\"]"
      ]
     },
     "execution_count": 14,
     "metadata": {},
     "output_type": "execute_result"
    }
   ],
   "source": [
    "sent_tokenize(sample_sentence)"
   ]
  },
  {
   "cell_type": "code",
   "execution_count": 15,
   "id": "4b202161-f002-4c98-a990-cc21b9dc7099",
   "metadata": {},
   "outputs": [
    {
     "data": {
      "text/plain": [
       "['I',\n",
       " 'love',\n",
       " 'machine',\n",
       " 'learning',\n",
       " 'and',\n",
       " 'the',\n",
       " 'implimentation',\n",
       " 'using',\n",
       " 'python',\n",
       " '.',\n",
       " 'I',\n",
       " 'am',\n",
       " 'now',\n",
       " 'good',\n",
       " 'with',\n",
       " 'python',\n",
       " 'and',\n",
       " 'learning',\n",
       " 'Machine',\n",
       " 'Learning',\n",
       " 'concepts',\n",
       " '.',\n",
       " 'I',\n",
       " 'ca',\n",
       " \"n't\",\n",
       " 'bare',\n",
       " 'with',\n",
       " 'this',\n",
       " 'tutor',\n",
       " 'or',\n",
       " 'simpili-learn',\n",
       " \"'s\",\n",
       " 'peopel',\n",
       " \"'s\"]"
      ]
     },
     "execution_count": 15,
     "metadata": {},
     "output_type": "execute_result"
    }
   ],
   "source": [
    "word_tokenize(sample_sentence)"
   ]
  },
  {
   "cell_type": "code",
   "execution_count": 18,
   "id": "21cb2575-a962-42a2-a812-6a8aa581ed4f",
   "metadata": {},
   "outputs": [
    {
     "data": {
      "text/plain": [
       "[('I', 'love', 'machine', 'learning', 'and', 'the'),\n",
       " ('love', 'machine', 'learning', 'and', 'the', 'implimentation'),\n",
       " ('machine', 'learning', 'and', 'the', 'implimentation', 'using'),\n",
       " ('learning', 'and', 'the', 'implimentation', 'using', 'python'),\n",
       " ('and', 'the', 'implimentation', 'using', 'python', '.'),\n",
       " ('the', 'implimentation', 'using', 'python', '.', 'I'),\n",
       " ('implimentation', 'using', 'python', '.', 'I', 'am'),\n",
       " ('using', 'python', '.', 'I', 'am', 'now'),\n",
       " ('python', '.', 'I', 'am', 'now', 'good'),\n",
       " ('.', 'I', 'am', 'now', 'good', 'with'),\n",
       " ('I', 'am', 'now', 'good', 'with', 'python'),\n",
       " ('am', 'now', 'good', 'with', 'python', 'and'),\n",
       " ('now', 'good', 'with', 'python', 'and', 'learning'),\n",
       " ('good', 'with', 'python', 'and', 'learning', 'Machine'),\n",
       " ('with', 'python', 'and', 'learning', 'Machine', 'Learning'),\n",
       " ('python', 'and', 'learning', 'Machine', 'Learning', 'concepts'),\n",
       " ('and', 'learning', 'Machine', 'Learning', 'concepts', '.'),\n",
       " ('learning', 'Machine', 'Learning', 'concepts', '.', 'I'),\n",
       " ('Machine', 'Learning', 'concepts', '.', 'I', 'ca'),\n",
       " ('Learning', 'concepts', '.', 'I', 'ca', \"n't\"),\n",
       " ('concepts', '.', 'I', 'ca', \"n't\", 'bare'),\n",
       " ('.', 'I', 'ca', \"n't\", 'bare', 'with'),\n",
       " ('I', 'ca', \"n't\", 'bare', 'with', 'this'),\n",
       " ('ca', \"n't\", 'bare', 'with', 'this', 'tutor'),\n",
       " (\"n't\", 'bare', 'with', 'this', 'tutor', 'or'),\n",
       " ('bare', 'with', 'this', 'tutor', 'or', 'simpili-learn'),\n",
       " ('with', 'this', 'tutor', 'or', 'simpili-learn', \"'s\"),\n",
       " ('this', 'tutor', 'or', 'simpili-learn', \"'s\", 'peopel'),\n",
       " ('tutor', 'or', 'simpili-learn', \"'s\", 'peopel', \"'s\")]"
      ]
     },
     "execution_count": 18,
     "metadata": {},
     "output_type": "execute_result"
    }
   ],
   "source": [
    "#Ngrams \n",
    "\n",
    "from nltk.util import ngrams\n",
    "list(ngrams(word_tokenize(sample_sentence), n =6))"
   ]
  },
  {
   "cell_type": "code",
   "execution_count": 19,
   "id": "6b9c6483-ed3b-47a6-835b-f0ad2b7bcee3",
   "metadata": {
    "collapsed": true,
    "jupyter": {
     "outputs_hidden": true
    },
    "tags": []
   },
   "outputs": [
    {
     "data": {
      "text/plain": [
       "['i',\n",
       " 'me',\n",
       " 'my',\n",
       " 'myself',\n",
       " 'we',\n",
       " 'our',\n",
       " 'ours',\n",
       " 'ourselves',\n",
       " 'you',\n",
       " \"you're\",\n",
       " \"you've\",\n",
       " \"you'll\",\n",
       " \"you'd\",\n",
       " 'your',\n",
       " 'yours',\n",
       " 'yourself',\n",
       " 'yourselves',\n",
       " 'he',\n",
       " 'him',\n",
       " 'his',\n",
       " 'himself',\n",
       " 'she',\n",
       " \"she's\",\n",
       " 'her',\n",
       " 'hers',\n",
       " 'herself',\n",
       " 'it',\n",
       " \"it's\",\n",
       " 'its',\n",
       " 'itself',\n",
       " 'they',\n",
       " 'them',\n",
       " 'their',\n",
       " 'theirs',\n",
       " 'themselves',\n",
       " 'what',\n",
       " 'which',\n",
       " 'who',\n",
       " 'whom',\n",
       " 'this',\n",
       " 'that',\n",
       " \"that'll\",\n",
       " 'these',\n",
       " 'those',\n",
       " 'am',\n",
       " 'is',\n",
       " 'are',\n",
       " 'was',\n",
       " 'were',\n",
       " 'be',\n",
       " 'been',\n",
       " 'being',\n",
       " 'have',\n",
       " 'has',\n",
       " 'had',\n",
       " 'having',\n",
       " 'do',\n",
       " 'does',\n",
       " 'did',\n",
       " 'doing',\n",
       " 'a',\n",
       " 'an',\n",
       " 'the',\n",
       " 'and',\n",
       " 'but',\n",
       " 'if',\n",
       " 'or',\n",
       " 'because',\n",
       " 'as',\n",
       " 'until',\n",
       " 'while',\n",
       " 'of',\n",
       " 'at',\n",
       " 'by',\n",
       " 'for',\n",
       " 'with',\n",
       " 'about',\n",
       " 'against',\n",
       " 'between',\n",
       " 'into',\n",
       " 'through',\n",
       " 'during',\n",
       " 'before',\n",
       " 'after',\n",
       " 'above',\n",
       " 'below',\n",
       " 'to',\n",
       " 'from',\n",
       " 'up',\n",
       " 'down',\n",
       " 'in',\n",
       " 'out',\n",
       " 'on',\n",
       " 'off',\n",
       " 'over',\n",
       " 'under',\n",
       " 'again',\n",
       " 'further',\n",
       " 'then',\n",
       " 'once',\n",
       " 'here',\n",
       " 'there',\n",
       " 'when',\n",
       " 'where',\n",
       " 'why',\n",
       " 'how',\n",
       " 'all',\n",
       " 'any',\n",
       " 'both',\n",
       " 'each',\n",
       " 'few',\n",
       " 'more',\n",
       " 'most',\n",
       " 'other',\n",
       " 'some',\n",
       " 'such',\n",
       " 'no',\n",
       " 'nor',\n",
       " 'not',\n",
       " 'only',\n",
       " 'own',\n",
       " 'same',\n",
       " 'so',\n",
       " 'than',\n",
       " 'too',\n",
       " 'very',\n",
       " 's',\n",
       " 't',\n",
       " 'can',\n",
       " 'will',\n",
       " 'just',\n",
       " 'don',\n",
       " \"don't\",\n",
       " 'should',\n",
       " \"should've\",\n",
       " 'now',\n",
       " 'd',\n",
       " 'll',\n",
       " 'm',\n",
       " 'o',\n",
       " 're',\n",
       " 've',\n",
       " 'y',\n",
       " 'ain',\n",
       " 'aren',\n",
       " \"aren't\",\n",
       " 'couldn',\n",
       " \"couldn't\",\n",
       " 'didn',\n",
       " \"didn't\",\n",
       " 'doesn',\n",
       " \"doesn't\",\n",
       " 'hadn',\n",
       " \"hadn't\",\n",
       " 'hasn',\n",
       " \"hasn't\",\n",
       " 'haven',\n",
       " \"haven't\",\n",
       " 'isn',\n",
       " \"isn't\",\n",
       " 'ma',\n",
       " 'mightn',\n",
       " \"mightn't\",\n",
       " 'mustn',\n",
       " \"mustn't\",\n",
       " 'needn',\n",
       " \"needn't\",\n",
       " 'shan',\n",
       " \"shan't\",\n",
       " 'shouldn',\n",
       " \"shouldn't\",\n",
       " 'wasn',\n",
       " \"wasn't\",\n",
       " 'weren',\n",
       " \"weren't\",\n",
       " 'won',\n",
       " \"won't\",\n",
       " 'wouldn',\n",
       " \"wouldn't\"]"
      ]
     },
     "execution_count": 19,
     "metadata": {},
     "output_type": "execute_result"
    }
   ],
   "source": [
    "from nltk.corpus import stopwords\n",
    "stop_words = stopwords.words('english')\n",
    "stop_words"
   ]
  },
  {
   "cell_type": "code",
   "execution_count": 21,
   "id": "200578e4-33bc-49e1-9eb9-24a272147672",
   "metadata": {
    "tags": []
   },
   "outputs": [],
   "source": [
    "sample_sentence = sample_sentence.lower()\n",
    "#sample_sentence.upper()\n",
    "#sample_sentence.title()\n"
   ]
  },
  {
   "cell_type": "code",
   "execution_count": 32,
   "id": "938fcd2d-8124-45b4-9b6b-1d98431cf009",
   "metadata": {},
   "outputs": [
    {
     "data": {
      "text/plain": [
       "['love',\n",
       " 'machine',\n",
       " 'learning',\n",
       " 'implimentation',\n",
       " 'using',\n",
       " 'python',\n",
       " '.',\n",
       " 'good',\n",
       " 'python',\n",
       " 'learning',\n",
       " 'machine',\n",
       " 'learning',\n",
       " 'concepts',\n",
       " '.',\n",
       " 'ca',\n",
       " \"n't\",\n",
       " 'bare',\n",
       " 'tutor',\n",
       " 'simpili-learn',\n",
       " \"'s\",\n",
       " 'peopel',\n",
       " \"'s\"]"
      ]
     },
     "execution_count": 32,
     "metadata": {},
     "output_type": "execute_result"
    }
   ],
   "source": [
    "sample_sentence_rmstpw = [w for w in word_tokenize(sample_sentence) if not w in stop_words]\n",
    "sample_sentence_rmstpw"
   ]
  },
  {
   "cell_type": "code",
   "execution_count": 26,
   "id": "12ddb17c-bb13-489e-af6d-f77c49f401d3",
   "metadata": {},
   "outputs": [
    {
     "data": {
      "text/plain": [
       "('call', 'import', \"can't\")"
      ]
     },
     "execution_count": 26,
     "metadata": {},
     "output_type": "execute_result"
    }
   ],
   "source": [
    "#stemming\n",
    "from nltk.stem import PorterStemmer\n",
    "ps = PorterStemmer()\n",
    "ps.stem('calling'), ps.stem('importance'), ps.stem(\"can't\")"
   ]
  },
  {
   "cell_type": "code",
   "execution_count": 28,
   "id": "9826e3a0-9154-4f15-bff8-7d91653a0d34",
   "metadata": {},
   "outputs": [
    {
     "data": {
      "text/plain": [
       "('foot', 'love', 'loving')"
      ]
     },
     "execution_count": 28,
     "metadata": {},
     "output_type": "execute_result"
    }
   ],
   "source": [
    "#Lemma\n",
    "from nltk.stem import WordNetLemmatizer\n",
    "lemmatizer = WordNetLemmatizer()\n",
    "lemmatizer.lemmatize('feet'), lemmatizer.lemmatize('loving','v'), lemmatizer.lemmatize('loving')"
   ]
  },
  {
   "cell_type": "code",
   "execution_count": 34,
   "id": "c8c26874-0823-4b5d-9ec8-cc294f6320fe",
   "metadata": {},
   "outputs": [
    {
     "data": {
      "text/plain": [
       "[('love', 'NN'),\n",
       " ('machine', 'NN'),\n",
       " ('learning', 'VBG'),\n",
       " ('implimentation', 'NN'),\n",
       " ('using', 'VBG'),\n",
       " ('python', 'NN'),\n",
       " ('.', '.'),\n",
       " ('good', 'JJ'),\n",
       " ('python', 'NN'),\n",
       " ('learning', 'VBG'),\n",
       " ('machine', 'NN'),\n",
       " ('learning', 'VBG'),\n",
       " ('concepts', 'NNS'),\n",
       " ('.', '.'),\n",
       " ('ca', 'MD'),\n",
       " (\"n't\", 'RB'),\n",
       " ('bare', 'VB'),\n",
       " ('tutor', 'JJ'),\n",
       " ('simpili-learn', 'NN'),\n",
       " (\"'s\", 'POS'),\n",
       " ('peopel', 'NN'),\n",
       " (\"'s\", 'POS')]"
      ]
     },
     "execution_count": 34,
     "metadata": {},
     "output_type": "execute_result"
    }
   ],
   "source": [
    "nltk.pos_tag(sample_sentence_rmstpw)"
   ]
  },
  {
   "cell_type": "code",
   "execution_count": 40,
   "id": "9c50d448-4122-402e-b27d-ccbd49a02fe3",
   "metadata": {},
   "outputs": [
    {
     "data": {
      "text/plain": [
       "[('IPsoft', 'ORGANIZATION'),\n",
       " ('IPsoft', 'ORGANIZATION'),\n",
       " ('Amelia', 'GPE'),\n",
       " ('CEO', 'ORGANIZATION'),\n",
       " ('Chetan Dube', 'GPE')]"
      ]
     },
     "execution_count": 40,
     "metadata": {},
     "output_type": "execute_result"
    }
   ],
   "source": [
    "sample_sentence = \"IPsoft is a big company for artifical intelligience. IPsoft recently renamed to Amelia US LLC, who's CEO is Chetan Dube\"\n",
    "word_tokenized = word_tokenize(sample_sentence)\n",
    "tagged_sent = nltk.pos_tag(word_tokenized)\n",
    "ne_chunk_sent = nltk.ne_chunk(tagged_sent)\n",
    "\n",
    "entities = []\n",
    "for tagged_tree in ne_chunk_sent:\n",
    "    if hasattr(tagged_tree, 'label'):\n",
    "        ent_name = ' '.join(c[0] for c in tagged_tree.leaves())\n",
    "        ent_type = tagged_tree.label()\n",
    "        entities.append((ent_name,ent_type))\n",
    "entities"
   ]
  },
  {
   "cell_type": "code",
   "execution_count": 54,
   "id": "dd9c004b-da42-45e5-91ed-433f5dce5d11",
   "metadata": {},
   "outputs": [
    {
     "data": {
      "text/plain": [
       "'C:\\\\Users\\\\gabab\\\\Software\\\\anaconda3;C:\\\\Users\\\\gabab\\\\Software\\\\anaconda3\\\\Library\\\\mingw-w64\\\\bin;C:\\\\Users\\\\gabab\\\\Software\\\\anaconda3\\\\Library\\\\usr\\\\bin;C:\\\\Users\\\\gabab\\\\Software\\\\anaconda3\\\\Library\\\\bin;C:\\\\Users\\\\gabab\\\\Software\\\\anaconda3\\\\Scripts;C:\\\\Users\\\\gabab\\\\Software\\\\anaconda3\\\\bin;C:\\\\Users\\\\gabab\\\\Software\\\\anaconda3\\\\condabin;C:\\\\Program Files (x86)\\\\Common Files\\\\Oracle\\\\Java\\\\javapath;C:\\\\Windows\\\\system32;C:\\\\Windows;C:\\\\Windows\\\\System32\\\\Wbem;C:\\\\Windows\\\\System32\\\\WindowsPowerShell\\\\v1.0;C:\\\\Windows\\\\System32\\\\OpenSSH;C:\\\\Users\\\\gabab\\\\AppData\\\\Local\\\\Programs\\\\Python\\\\Python39\\\\Scripts;C:\\\\Users\\\\gabab\\\\AppData\\\\Local\\\\Programs\\\\Python\\\\Python39;C:\\\\Users\\\\gabab\\\\AppData\\\\Local\\\\Microsoft\\\\WindowsApps;.;C:\\\\Program Files\\\\gs\\\\gs9.23\\\\bin;C:\\\\Program Files\\\\gs\\\\gs9.54.0\\\\bin;C:\\\\Program Files\\\\gs\\\\gs9.54.0\\\\bin'"
      ]
     },
     "execution_count": 54,
     "metadata": {},
     "output_type": "execute_result"
    }
   ],
   "source": [
    "import os\n",
    "path_to_gs = \"C:\\\\Program Files\\\\gs\\\\gs9.54.0\\\\bin\"\n",
    "os.environ['PATH']+=os.pathsep + path_to_gs \n",
    "#modifying environment  variable\n",
    "os.environ['PATH']"
   ]
  },
  {
   "cell_type": "code",
   "execution_count": 55,
   "id": "3d4e1141-c459-42be-aeb2-22c92296eb91",
   "metadata": {},
   "outputs": [
    {
     "data": {
      "text/plain": [
       "[('The', 'DT'),\n",
       " ('little', 'JJ'),\n",
       " ('mouse', 'NN'),\n",
       " ('ate', 'VB'),\n",
       " ('the', 'DT'),\n",
       " ('fresh', 'JJ'),\n",
       " ('cheese', 'NN')]"
      ]
     },
     "execution_count": 55,
     "metadata": {},
     "output_type": "execute_result"
    }
   ],
   "source": [
    "sent = \"The little mouse ate the fresh cheese\"\n",
    "sent_tokens = nltk.pos_tag(word_tokenize(sent))  \n",
    "sent_tokens"
   ]
  },
  {
   "cell_type": "code",
   "execution_count": 56,
   "id": "dd865079-5f35-4a25-9bba-dcdedf65d225",
   "metadata": {},
   "outputs": [
    {
     "data": {
      "text/plain": [
       "('NP: {<DT>?<JJ>*<NN>}', <chunk.RegexpParser with 1 stages>)"
      ]
     },
     "execution_count": 56,
     "metadata": {},
     "output_type": "execute_result"
    }
   ],
   "source": [
    "grammar_np = r\"NP: {<DT>?<JJ>*<NN>}\"\n",
    "chunk_parser = nltk.RegexpParser(grammar_np)\n",
    "grammar_np , chunk_parser"
   ]
  },
  {
   "cell_type": "code",
   "execution_count": 57,
   "id": "494eb9b3-8c97-4da2-87cd-31d8ddf0ecdc",
   "metadata": {},
   "outputs": [
    {
     "data": {
      "image/png": "[encoded data removed]",
      "text/plain": [
       "Tree('S', [Tree('NP', [('The', 'DT'), ('little', 'JJ'), ('mouse', 'NN')]), ('ate', 'VB'), Tree('NP', [('the', 'DT'), ('fresh', 'JJ'), ('cheese', 'NN')])])"
      ]
     },
     "execution_count": 57,
     "metadata": {},
     "output_type": "execute_result"
    }
   ],
   "source": [
    "chunk_result = chunk_parser.parse(sent_tokens)  \n",
    "chunk_result"
   ]
  },
  {
   "cell_type": "code",
   "execution_count": 62,
   "id": "bb51a8b8-0de9-4f0e-ad22-9c0e7ce877ea",
   "metadata": {},
   "outputs": [
    {
     "ename": "ValueError",
     "evalue": "range() arg 3 must not be zero",
     "output_type": "error",
     "traceback": [
      "\u001b[1;31m---------------------------------------------------------------------------\u001b[0m",
      "\u001b[1;31mValueError\u001b[0m                                Traceback (most recent call last)",
      "\u001b[1;32m~\\Software\\anaconda3\\lib\\site-packages\\IPython\\core\\formatters.py\u001b[0m in \u001b[0;36m__call__\u001b[1;34m(self, obj)\u001b[0m\n\u001b[0;32m    343\u001b[0m             \u001b[0mmethod\u001b[0m \u001b[1;33m=\u001b[0m \u001b[0mget_real_method\u001b[0m\u001b[1;33m(\u001b[0m\u001b[0mobj\u001b[0m\u001b[1;33m,\u001b[0m \u001b[0mself\u001b[0m\u001b[1;33m.\u001b[0m\u001b[0mprint_method\u001b[0m\u001b[1;33m)\u001b[0m\u001b[1;33m\u001b[0m\u001b[1;33m\u001b[0m\u001b[0m\n\u001b[0;32m    344\u001b[0m             \u001b[1;32mif\u001b[0m \u001b[0mmethod\u001b[0m \u001b[1;32mis\u001b[0m \u001b[1;32mnot\u001b[0m \u001b[1;32mNone\u001b[0m\u001b[1;33m:\u001b[0m\u001b[1;33m\u001b[0m\u001b[1;33m\u001b[0m\u001b[0m\n\u001b[1;32m--> 345\u001b[1;33m                 \u001b[1;32mreturn\u001b[0m \u001b[0mmethod\u001b[0m\u001b[1;33m(\u001b[0m\u001b[1;33m)\u001b[0m\u001b[1;33m\u001b[0m\u001b[1;33m\u001b[0m\u001b[0m\n\u001b[0m\u001b[0;32m    346\u001b[0m             \u001b[1;32mreturn\u001b[0m \u001b[1;32mNone\u001b[0m\u001b[1;33m\u001b[0m\u001b[1;33m\u001b[0m\u001b[0m\n\u001b[0;32m    347\u001b[0m         \u001b[1;32melse\u001b[0m\u001b[1;33m:\u001b[0m\u001b[1;33m\u001b[0m\u001b[1;33m\u001b[0m\u001b[0m\n",
      "\u001b[1;32m~\\Software\\anaconda3\\lib\\site-packages\\nltk\\tree.py\u001b[0m in \u001b[0;36m_repr_png_\u001b[1;34m(self)\u001b[0m\n\u001b[0;32m    804\u001b[0m         \u001b[0m_canvas_frame\u001b[0m \u001b[1;33m=\u001b[0m \u001b[0mCanvasFrame\u001b[0m\u001b[1;33m(\u001b[0m\u001b[1;33m)\u001b[0m\u001b[1;33m\u001b[0m\u001b[1;33m\u001b[0m\u001b[0m\n\u001b[0;32m    805\u001b[0m         \u001b[0mwidget\u001b[0m \u001b[1;33m=\u001b[0m \u001b[0mtree_to_treesegment\u001b[0m\u001b[1;33m(\u001b[0m\u001b[0m_canvas_frame\u001b[0m\u001b[1;33m.\u001b[0m\u001b[0mcanvas\u001b[0m\u001b[1;33m(\u001b[0m\u001b[1;33m)\u001b[0m\u001b[1;33m,\u001b[0m \u001b[0mself\u001b[0m\u001b[1;33m)\u001b[0m\u001b[1;33m\u001b[0m\u001b[1;33m\u001b[0m\u001b[0m\n\u001b[1;32m--> 806\u001b[1;33m         \u001b[0m_canvas_frame\u001b[0m\u001b[1;33m.\u001b[0m\u001b[0madd_widget\u001b[0m\u001b[1;33m(\u001b[0m\u001b[0mwidget\u001b[0m\u001b[1;33m)\u001b[0m\u001b[1;33m\u001b[0m\u001b[1;33m\u001b[0m\u001b[0m\n\u001b[0m\u001b[0;32m    807\u001b[0m         \u001b[0mx\u001b[0m\u001b[1;33m,\u001b[0m \u001b[0my\u001b[0m\u001b[1;33m,\u001b[0m \u001b[0mw\u001b[0m\u001b[1;33m,\u001b[0m \u001b[0mh\u001b[0m \u001b[1;33m=\u001b[0m \u001b[0mwidget\u001b[0m\u001b[1;33m.\u001b[0m\u001b[0mbbox\u001b[0m\u001b[1;33m(\u001b[0m\u001b[1;33m)\u001b[0m\u001b[1;33m\u001b[0m\u001b[1;33m\u001b[0m\u001b[0m\n\u001b[0;32m    808\u001b[0m         \u001b[1;31m# print_to_file uses scrollregion to set the width and height of the pdf.\u001b[0m\u001b[1;33m\u001b[0m\u001b[1;33m\u001b[0m\u001b[1;33m\u001b[0m\u001b[0m\n",
      "\u001b[1;32m~\\Software\\anaconda3\\lib\\site-packages\\nltk\\draw\\util.py\u001b[0m in \u001b[0;36madd_widget\u001b[1;34m(self, canvaswidget, x, y)\u001b[0m\n\u001b[0;32m   1907\u001b[0m         \"\"\"\n\u001b[0;32m   1908\u001b[0m         \u001b[1;32mif\u001b[0m \u001b[0mx\u001b[0m \u001b[1;32mis\u001b[0m \u001b[1;32mNone\u001b[0m \u001b[1;32mor\u001b[0m \u001b[0my\u001b[0m \u001b[1;32mis\u001b[0m \u001b[1;32mNone\u001b[0m\u001b[1;33m:\u001b[0m\u001b[1;33m\u001b[0m\u001b[1;33m\u001b[0m\u001b[0m\n\u001b[1;32m-> 1909\u001b[1;33m             \u001b[1;33m(\u001b[0m\u001b[0mx\u001b[0m\u001b[1;33m,\u001b[0m \u001b[0my\u001b[0m\u001b[1;33m)\u001b[0m \u001b[1;33m=\u001b[0m \u001b[0mself\u001b[0m\u001b[1;33m.\u001b[0m\u001b[0m_find_room\u001b[0m\u001b[1;33m(\u001b[0m\u001b[0mcanvaswidget\u001b[0m\u001b[1;33m,\u001b[0m \u001b[0mx\u001b[0m\u001b[1;33m,\u001b[0m \u001b[0my\u001b[0m\u001b[1;33m)\u001b[0m\u001b[1;33m\u001b[0m\u001b[1;33m\u001b[0m\u001b[0m\n\u001b[0m\u001b[0;32m   1910\u001b[0m \u001b[1;33m\u001b[0m\u001b[0m\n\u001b[0;32m   1911\u001b[0m         \u001b[1;31m# Move to (x,y)\u001b[0m\u001b[1;33m\u001b[0m\u001b[1;33m\u001b[0m\u001b[1;33m\u001b[0m\u001b[0m\n",
      "\u001b[1;32m~\\Software\\anaconda3\\lib\\site-packages\\nltk\\draw\\util.py\u001b[0m in \u001b[0;36m_find_room\u001b[1;34m(self, widget, desired_x, desired_y)\u001b[0m\n\u001b[0;32m   1950\u001b[0m \u001b[1;33m\u001b[0m\u001b[0m\n\u001b[0;32m   1951\u001b[0m         \u001b[1;32mfor\u001b[0m \u001b[0my\u001b[0m \u001b[1;32min\u001b[0m \u001b[0mrange\u001b[0m\u001b[1;33m(\u001b[0m\u001b[0mtop\u001b[0m\u001b[1;33m,\u001b[0m \u001b[0mbot\u001b[0m \u001b[1;33m-\u001b[0m \u001b[0mh\u001b[0m\u001b[1;33m,\u001b[0m \u001b[0mint\u001b[0m\u001b[1;33m(\u001b[0m\u001b[1;33m(\u001b[0m\u001b[0mbot\u001b[0m \u001b[1;33m-\u001b[0m \u001b[0mtop\u001b[0m \u001b[1;33m-\u001b[0m \u001b[0mh\u001b[0m\u001b[1;33m)\u001b[0m \u001b[1;33m/\u001b[0m \u001b[1;36m10\u001b[0m\u001b[1;33m)\u001b[0m\u001b[1;33m)\u001b[0m\u001b[1;33m:\u001b[0m\u001b[1;33m\u001b[0m\u001b[1;33m\u001b[0m\u001b[0m\n\u001b[1;32m-> 1952\u001b[1;33m             \u001b[1;32mfor\u001b[0m \u001b[0mx\u001b[0m \u001b[1;32min\u001b[0m \u001b[0mrange\u001b[0m\u001b[1;33m(\u001b[0m\u001b[0mleft\u001b[0m\u001b[1;33m,\u001b[0m \u001b[0mright\u001b[0m \u001b[1;33m-\u001b[0m \u001b[0mw\u001b[0m\u001b[1;33m,\u001b[0m \u001b[0mint\u001b[0m\u001b[1;33m(\u001b[0m\u001b[1;33m(\u001b[0m\u001b[0mright\u001b[0m \u001b[1;33m-\u001b[0m \u001b[0mleft\u001b[0m \u001b[1;33m-\u001b[0m \u001b[0mw\u001b[0m\u001b[1;33m)\u001b[0m \u001b[1;33m/\u001b[0m \u001b[1;36m10\u001b[0m\u001b[1;33m)\u001b[0m\u001b[1;33m)\u001b[0m\u001b[1;33m:\u001b[0m\u001b[1;33m\u001b[0m\u001b[1;33m\u001b[0m\u001b[0m\n\u001b[0m\u001b[0;32m   1953\u001b[0m                 if not self._canvas.find_overlapping(\n\u001b[0;32m   1954\u001b[0m                     \u001b[0mx\u001b[0m \u001b[1;33m-\u001b[0m \u001b[1;36m5\u001b[0m\u001b[1;33m,\u001b[0m \u001b[0my\u001b[0m \u001b[1;33m-\u001b[0m \u001b[1;36m5\u001b[0m\u001b[1;33m,\u001b[0m \u001b[0mx\u001b[0m \u001b[1;33m+\u001b[0m \u001b[0mw\u001b[0m \u001b[1;33m+\u001b[0m \u001b[1;36m5\u001b[0m\u001b[1;33m,\u001b[0m \u001b[0my\u001b[0m \u001b[1;33m+\u001b[0m \u001b[0mh\u001b[0m \u001b[1;33m+\u001b[0m \u001b[1;36m5\u001b[0m\u001b[1;33m\u001b[0m\u001b[1;33m\u001b[0m\u001b[0m\n",
      "\u001b[1;31mValueError\u001b[0m: range() arg 3 must not be zero"
     ]
    },
    {
     "data": {
      "text/plain": [
       "Tree('S', [Tree('vp', [('She', 'PRP'), ('is', 'VBZ'), ('walking', 'VBG'), ('quickly', 'RB')]), ('to', 'TO'), ('the', 'DT'), ('mall', 'NN')])"
      ]
     },
     "execution_count": 62,
     "metadata": {},
     "output_type": "execute_result"
    }
   ],
   "source": [
    "grammar_vp = r\"vp: {<PRP>?<VB|VBD|VBZ|VBG>*<RB|RBR>?}\"\n",
    "chunk_parser2 = nltk.RegexpParser(grammar_vp)\n",
    "sent3 = \"She is walking quickly to the mall\"\n",
    "\n",
    "sent_tokens3 = nltk.pos_tag(word_tokenize(sent3))\n",
    "chunk_result3 = chunk_parser2.parse(sent_tokens3)  \n",
    "\n",
    "chunk_result3"
   ]
  },
  {
   "cell_type": "code",
   "execution_count": 63,
   "id": "4b97f677-c390-4b76-ab3d-81baf4400ca2",
   "metadata": {},
   "outputs": [],
   "source": [
    "chink_grammar = r\"\"\"  chk_name: #chunk name\n",
    "\n",
    "{<PRP>?<VB|VBD|VBZ|VBG>*<RB|RBR>?} #chunk regex sequence\n",
    "\n",
    "}<RB>+{ #chink regex sequence - adverb\n",
    "\"\"\""
   ]
  },
  {
   "cell_type": "code",
   "execution_count": 64,
   "id": "7a343989-90ca-4820-b439-63ed9dd2a64a",
   "metadata": {},
   "outputs": [
    {
     "ename": "ValueError",
     "evalue": "range() arg 3 must not be zero",
     "output_type": "error",
     "traceback": [
      "\u001b[1;31m---------------------------------------------------------------------------\u001b[0m",
      "\u001b[1;31mValueError\u001b[0m                                Traceback (most recent call last)",
      "\u001b[1;32m~\\Software\\anaconda3\\lib\\site-packages\\IPython\\core\\formatters.py\u001b[0m in \u001b[0;36m__call__\u001b[1;34m(self, obj)\u001b[0m\n\u001b[0;32m    343\u001b[0m             \u001b[0mmethod\u001b[0m \u001b[1;33m=\u001b[0m \u001b[0mget_real_method\u001b[0m\u001b[1;33m(\u001b[0m\u001b[0mobj\u001b[0m\u001b[1;33m,\u001b[0m \u001b[0mself\u001b[0m\u001b[1;33m.\u001b[0m\u001b[0mprint_method\u001b[0m\u001b[1;33m)\u001b[0m\u001b[1;33m\u001b[0m\u001b[1;33m\u001b[0m\u001b[0m\n\u001b[0;32m    344\u001b[0m             \u001b[1;32mif\u001b[0m \u001b[0mmethod\u001b[0m \u001b[1;32mis\u001b[0m \u001b[1;32mnot\u001b[0m \u001b[1;32mNone\u001b[0m\u001b[1;33m:\u001b[0m\u001b[1;33m\u001b[0m\u001b[1;33m\u001b[0m\u001b[0m\n\u001b[1;32m--> 345\u001b[1;33m                 \u001b[1;32mreturn\u001b[0m \u001b[0mmethod\u001b[0m\u001b[1;33m(\u001b[0m\u001b[1;33m)\u001b[0m\u001b[1;33m\u001b[0m\u001b[1;33m\u001b[0m\u001b[0m\n\u001b[0m\u001b[0;32m    346\u001b[0m             \u001b[1;32mreturn\u001b[0m \u001b[1;32mNone\u001b[0m\u001b[1;33m\u001b[0m\u001b[1;33m\u001b[0m\u001b[0m\n\u001b[0;32m    347\u001b[0m         \u001b[1;32melse\u001b[0m\u001b[1;33m:\u001b[0m\u001b[1;33m\u001b[0m\u001b[1;33m\u001b[0m\u001b[0m\n",
      "\u001b[1;32m~\\Software\\anaconda3\\lib\\site-packages\\nltk\\tree.py\u001b[0m in \u001b[0;36m_repr_png_\u001b[1;34m(self)\u001b[0m\n\u001b[0;32m    804\u001b[0m         \u001b[0m_canvas_frame\u001b[0m \u001b[1;33m=\u001b[0m \u001b[0mCanvasFrame\u001b[0m\u001b[1;33m(\u001b[0m\u001b[1;33m)\u001b[0m\u001b[1;33m\u001b[0m\u001b[1;33m\u001b[0m\u001b[0m\n\u001b[0;32m    805\u001b[0m         \u001b[0mwidget\u001b[0m \u001b[1;33m=\u001b[0m \u001b[0mtree_to_treesegment\u001b[0m\u001b[1;33m(\u001b[0m\u001b[0m_canvas_frame\u001b[0m\u001b[1;33m.\u001b[0m\u001b[0mcanvas\u001b[0m\u001b[1;33m(\u001b[0m\u001b[1;33m)\u001b[0m\u001b[1;33m,\u001b[0m \u001b[0mself\u001b[0m\u001b[1;33m)\u001b[0m\u001b[1;33m\u001b[0m\u001b[1;33m\u001b[0m\u001b[0m\n\u001b[1;32m--> 806\u001b[1;33m         \u001b[0m_canvas_frame\u001b[0m\u001b[1;33m.\u001b[0m\u001b[0madd_widget\u001b[0m\u001b[1;33m(\u001b[0m\u001b[0mwidget\u001b[0m\u001b[1;33m)\u001b[0m\u001b[1;33m\u001b[0m\u001b[1;33m\u001b[0m\u001b[0m\n\u001b[0m\u001b[0;32m    807\u001b[0m         \u001b[0mx\u001b[0m\u001b[1;33m,\u001b[0m \u001b[0my\u001b[0m\u001b[1;33m,\u001b[0m \u001b[0mw\u001b[0m\u001b[1;33m,\u001b[0m \u001b[0mh\u001b[0m \u001b[1;33m=\u001b[0m \u001b[0mwidget\u001b[0m\u001b[1;33m.\u001b[0m\u001b[0mbbox\u001b[0m\u001b[1;33m(\u001b[0m\u001b[1;33m)\u001b[0m\u001b[1;33m\u001b[0m\u001b[1;33m\u001b[0m\u001b[0m\n\u001b[0;32m    808\u001b[0m         \u001b[1;31m# print_to_file uses scrollregion to set the width and height of the pdf.\u001b[0m\u001b[1;33m\u001b[0m\u001b[1;33m\u001b[0m\u001b[1;33m\u001b[0m\u001b[0m\n",
      "\u001b[1;32m~\\Software\\anaconda3\\lib\\site-packages\\nltk\\draw\\util.py\u001b[0m in \u001b[0;36madd_widget\u001b[1;34m(self, canvaswidget, x, y)\u001b[0m\n\u001b[0;32m   1907\u001b[0m         \"\"\"\n\u001b[0;32m   1908\u001b[0m         \u001b[1;32mif\u001b[0m \u001b[0mx\u001b[0m \u001b[1;32mis\u001b[0m \u001b[1;32mNone\u001b[0m \u001b[1;32mor\u001b[0m \u001b[0my\u001b[0m \u001b[1;32mis\u001b[0m \u001b[1;32mNone\u001b[0m\u001b[1;33m:\u001b[0m\u001b[1;33m\u001b[0m\u001b[1;33m\u001b[0m\u001b[0m\n\u001b[1;32m-> 1909\u001b[1;33m             \u001b[1;33m(\u001b[0m\u001b[0mx\u001b[0m\u001b[1;33m,\u001b[0m \u001b[0my\u001b[0m\u001b[1;33m)\u001b[0m \u001b[1;33m=\u001b[0m \u001b[0mself\u001b[0m\u001b[1;33m.\u001b[0m\u001b[0m_find_room\u001b[0m\u001b[1;33m(\u001b[0m\u001b[0mcanvaswidget\u001b[0m\u001b[1;33m,\u001b[0m \u001b[0mx\u001b[0m\u001b[1;33m,\u001b[0m \u001b[0my\u001b[0m\u001b[1;33m)\u001b[0m\u001b[1;33m\u001b[0m\u001b[1;33m\u001b[0m\u001b[0m\n\u001b[0m\u001b[0;32m   1910\u001b[0m \u001b[1;33m\u001b[0m\u001b[0m\n\u001b[0;32m   1911\u001b[0m         \u001b[1;31m# Move to (x,y)\u001b[0m\u001b[1;33m\u001b[0m\u001b[1;33m\u001b[0m\u001b[1;33m\u001b[0m\u001b[0m\n",
      "\u001b[1;32m~\\Software\\anaconda3\\lib\\site-packages\\nltk\\draw\\util.py\u001b[0m in \u001b[0;36m_find_room\u001b[1;34m(self, widget, desired_x, desired_y)\u001b[0m\n\u001b[0;32m   1950\u001b[0m \u001b[1;33m\u001b[0m\u001b[0m\n\u001b[0;32m   1951\u001b[0m         \u001b[1;32mfor\u001b[0m \u001b[0my\u001b[0m \u001b[1;32min\u001b[0m \u001b[0mrange\u001b[0m\u001b[1;33m(\u001b[0m\u001b[0mtop\u001b[0m\u001b[1;33m,\u001b[0m \u001b[0mbot\u001b[0m \u001b[1;33m-\u001b[0m \u001b[0mh\u001b[0m\u001b[1;33m,\u001b[0m \u001b[0mint\u001b[0m\u001b[1;33m(\u001b[0m\u001b[1;33m(\u001b[0m\u001b[0mbot\u001b[0m \u001b[1;33m-\u001b[0m \u001b[0mtop\u001b[0m \u001b[1;33m-\u001b[0m \u001b[0mh\u001b[0m\u001b[1;33m)\u001b[0m \u001b[1;33m/\u001b[0m \u001b[1;36m10\u001b[0m\u001b[1;33m)\u001b[0m\u001b[1;33m)\u001b[0m\u001b[1;33m:\u001b[0m\u001b[1;33m\u001b[0m\u001b[1;33m\u001b[0m\u001b[0m\n\u001b[1;32m-> 1952\u001b[1;33m             \u001b[1;32mfor\u001b[0m \u001b[0mx\u001b[0m \u001b[1;32min\u001b[0m \u001b[0mrange\u001b[0m\u001b[1;33m(\u001b[0m\u001b[0mleft\u001b[0m\u001b[1;33m,\u001b[0m \u001b[0mright\u001b[0m \u001b[1;33m-\u001b[0m \u001b[0mw\u001b[0m\u001b[1;33m,\u001b[0m \u001b[0mint\u001b[0m\u001b[1;33m(\u001b[0m\u001b[1;33m(\u001b[0m\u001b[0mright\u001b[0m \u001b[1;33m-\u001b[0m \u001b[0mleft\u001b[0m \u001b[1;33m-\u001b[0m \u001b[0mw\u001b[0m\u001b[1;33m)\u001b[0m \u001b[1;33m/\u001b[0m \u001b[1;36m10\u001b[0m\u001b[1;33m)\u001b[0m\u001b[1;33m)\u001b[0m\u001b[1;33m:\u001b[0m\u001b[1;33m\u001b[0m\u001b[1;33m\u001b[0m\u001b[0m\n\u001b[0m\u001b[0;32m   1953\u001b[0m                 if not self._canvas.find_overlapping(\n\u001b[0;32m   1954\u001b[0m                     \u001b[0mx\u001b[0m \u001b[1;33m-\u001b[0m \u001b[1;36m5\u001b[0m\u001b[1;33m,\u001b[0m \u001b[0my\u001b[0m \u001b[1;33m-\u001b[0m \u001b[1;36m5\u001b[0m\u001b[1;33m,\u001b[0m \u001b[0mx\u001b[0m \u001b[1;33m+\u001b[0m \u001b[0mw\u001b[0m \u001b[1;33m+\u001b[0m \u001b[1;36m5\u001b[0m\u001b[1;33m,\u001b[0m \u001b[0my\u001b[0m \u001b[1;33m+\u001b[0m \u001b[0mh\u001b[0m \u001b[1;33m+\u001b[0m \u001b[1;36m5\u001b[0m\u001b[1;33m\u001b[0m\u001b[1;33m\u001b[0m\u001b[0m\n",
      "\u001b[1;31mValueError\u001b[0m: range() arg 3 must not be zero"
     ]
    },
    {
     "data": {
      "text/plain": [
       "Tree('S', [Tree('chk_name', [('She', 'PRP'), ('is', 'VBZ'), ('walking', 'VBG')]), ('quickly', 'RB'), ('to', 'TO'), ('the', 'DT'), ('mall', 'NN')])"
      ]
     },
     "execution_count": 64,
     "metadata": {},
     "output_type": "execute_result"
    }
   ],
   "source": [
    "chink_parser = nltk.RegexpParser(chink_grammar)\n",
    "chink_parser.parse(sent_tokens3)"
   ]
  },
  {
   "cell_type": "code",
   "execution_count": 72,
   "id": "6e703a72-f648-4f70-94e9-4525cad7f27f",
   "metadata": {},
   "outputs": [
    {
     "name": "stdout",
     "output_type": "stream",
     "text": [
      "John saw dog\n",
      "John saw cat\n",
      "John met dog\n",
      "John met cat\n",
      "Jim saw dog\n",
      "Jim saw cat\n",
      "Jim met dog\n",
      "Jim met cat\n"
     ]
    }
   ],
   "source": [
    "from nltk.parse.generate import generate\n",
    "CFG_grammar = nltk.CFG.fromstring(\"\"\"\n",
    "S -> NP VP  \n",
    "VP -> V N\n",
    "V -> \"saw\"|\"met\"\n",
    "NP -> \"John\"|\"Jim\"\n",
    "N -> \"dog\"|\"cat\"\n",
    "\"\"\")\n",
    "\n",
    "for sentence in generate(CFG_grammar):  \n",
    "    print(\" \".join(sentence))\n"
   ]
  },
  {
   "cell_type": "code",
   "execution_count": null,
   "id": "efa54918-8c2b-4b36-9189-58a33558e1d2",
   "metadata": {},
   "outputs": [],
   "source": []
  }
 ],
 "metadata": {
  "kernelspec": {
   "display_name": "Python 3",
   "language": "python",
   "name": "python3"
  },
  "language_info": {
   "codemirror_mode": {
    "name": "ipython",
    "version": 3
   },
   "file_extension": ".py",
   "mimetype": "text/x-python",
   "name": "python",
   "nbconvert_exporter": "python",
   "pygments_lexer": "ipython3",
   "version": "3.8.8"
  }
 },
 "nbformat": 4,
 "nbformat_minor": 5
}
