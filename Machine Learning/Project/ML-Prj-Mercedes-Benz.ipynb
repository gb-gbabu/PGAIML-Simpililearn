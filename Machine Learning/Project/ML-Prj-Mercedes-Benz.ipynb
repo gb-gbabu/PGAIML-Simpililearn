{
 "cells": [
  {
   "cell_type": "markdown",
   "metadata": {},
   "source": [
    "# Mercedes-Benz Greener Manufacturing.\n",
    "<pre>\n",
    "DESCRIPTION\n",
    "\n",
    "Reduce the time a Mercedes-Benz spends on the test bench.\n",
    "\n",
    "Problem Statement Scenario:\n",
    "Since the first automobile, the Benz Patent Motor Car in 1886, Mercedes-Benz has stood for important automotive innovations. These include the passenger safety cell with a crumple zone, the airbag, and intelligent assistance systems. Mercedes-Benz applies for nearly 2000 patents per year, making the brand the European leader among premium carmakers. Mercedes-Benz is the leader in the premium car industry. With a huge selection of features and options, customers can choose the customized Mercedes-Benz of their dreams.\n",
    "\n",
    "To ensure the safety and reliability of every unique car configuration before they hit the road, the company’s engineers have developed a robust testing system. As one of the world’s biggest manufacturers of premium cars, safety and efficiency are paramount on Mercedes-Benz’s production lines. However, optimizing the speed of their testing system for many possible feature combinations is complex and time-consuming without a powerful algorithmic approach.\n",
    "\n",
    "You are required to reduce the time that cars spend on the test bench. Others will work with a dataset representing different permutations of features in a Mercedes-Benz car to predict the time it takes to pass testing. Optimal algorithms will contribute to faster testing, resulting in lower carbon dioxide emissions without reducing Mercedes-Benz’s standards.\n",
    "</pre>\n",
    "### Following actions should be performed:\n",
    "\n",
    "<li>If for any column(s), the variance is equal to zero, then you need to remove those variable(s).\n",
    "<li>Check for null and unique values for test and train sets.\n",
    "<li>Apply label encoder.\n",
    "<li>Perform dimensionality reduction.\n",
    "<li>Predict your test_df values using XGBoost"
   ]
  },
  {
   "cell_type": "markdown",
   "metadata": {},
   "source": [
    "<h4>Importing Modules"
   ]
  },
  {
   "cell_type": "code",
   "execution_count": 1,
   "metadata": {},
   "outputs": [],
   "source": [
    "import numpy as np\n",
    "import pandas as pd\n",
    "\n",
    "#Import Label Encoder / PCA / Train-Test Split\n",
    "from sklearn.preprocessing import LabelEncoder\n",
    "from sklearn.decomposition import PCA\n",
    "from sklearn.model_selection import train_test_split\n",
    "\n",
    "#Linear Regression / Lasso Regression / Ridge Regression / XGB \n",
    "from sklearn.linear_model import LinearRegression, Ridge, Lasso\n",
    "from xgboost import XGBRegressor\n",
    "import xgboost as xgb\n",
    "\n",
    "#for Measuring Accuracy\n",
    "from sklearn.metrics import r2_score, mean_squared_error\n",
    "from math import sqrt\n",
    "\n",
    "#Import Matplot and Seaborn\n",
    "import matplotlib.pyplot as plt \n",
    "import seaborn as sns \n",
    "%matplotlib inline\n",
    "\n",
    "#Ignore Warnings\n",
    "import warnings\n",
    "warnings.filterwarnings('ignore')"
   ]
  },
  {
   "cell_type": "markdown",
   "metadata": {},
   "source": [
    "<h4>Reading Train and Test Data"
   ]
  },
  {
   "cell_type": "code",
   "execution_count": 2,
   "metadata": {
    "tags": []
   },
   "outputs": [
    {
     "name": "stdout",
     "output_type": "stream",
     "text": [
      "Train shape :  (4209, 378)\n",
      "\n",
      "\n",
      "Train Head\n",
      "    ID       y  X0 X1  X2 X3 X4 X5 X6 X8  ...  X375  X376  X377  X378  X379  \\\n",
      "0   0  130.81   k  v  at  a  d  u  j  o  ...     0     0     1     0     0   \n",
      "1   6   88.53   k  t  av  e  d  y  l  o  ...     1     0     0     0     0   \n",
      "2   7   76.26  az  w   n  c  d  x  j  x  ...     0     0     0     0     0   \n",
      "3   9   80.62  az  t   n  f  d  x  l  e  ...     0     0     0     0     0   \n",
      "4  13   78.02  az  v   n  f  d  h  d  n  ...     0     0     0     0     0   \n",
      "\n",
      "   X380  X382  X383  X384  X385  \n",
      "0     0     0     0     0     0  \n",
      "1     0     0     0     0     0  \n",
      "2     0     1     0     0     0  \n",
      "3     0     0     0     0     0  \n",
      "4     0     0     0     0     0  \n",
      "\n",
      "[5 rows x 378 columns]\n",
      "\n",
      "\n",
      "Test shape :  (4209, 377)\n",
      "\n",
      "\n",
      "Test Head\n",
      "    ID  X0 X1  X2 X3 X4 X5 X6 X8  X10  ...  X375  X376  X377  X378  X379  X380  \\\n",
      "0   1  az  v   n  f  d  t  a  w    0  ...     0     0     0     1     0     0   \n",
      "1   2   t  b  ai  a  d  b  g  y    0  ...     0     0     1     0     0     0   \n",
      "2   3  az  v  as  f  d  a  j  j    0  ...     0     0     0     1     0     0   \n",
      "3   4  az  l   n  f  d  z  l  n    0  ...     0     0     0     1     0     0   \n",
      "4   5   w  s  as  c  d  y  i  m    0  ...     1     0     0     0     0     0   \n",
      "\n",
      "   X382  X383  X384  X385  \n",
      "0     0     0     0     0  \n",
      "1     0     0     0     0  \n",
      "2     0     0     0     0  \n",
      "3     0     0     0     0  \n",
      "4     0     0     0     0  \n",
      "\n",
      "[5 rows x 377 columns]\n"
     ]
    }
   ],
   "source": [
    "train_df = pd.read_csv(\"train.csv\")\n",
    "test_df = pd.read_csv(\"test.csv\")\n",
    "print(\"Train shape : \", train_df.shape)\n",
    "print(\"\\n\\nTrain Head\\n\", train_df.head())\n",
    "print(\"\\n\\nTest shape : \", test_df.shape)\n",
    "print(\"\\n\\nTest Head\\n\", test_df.head())"
   ]
  },
  {
   "cell_type": "markdown",
   "metadata": {},
   "source": [
    "<h4>List Objects of Train Data"
   ]
  },
  {
   "cell_type": "code",
   "execution_count": 3,
   "metadata": {},
   "outputs": [
    {
     "data": {
      "text/html": [
       "<div>\n",
       "<style scoped>\n",
       "    .dataframe tbody tr th:only-of-type {\n",
       "        vertical-align: middle;\n",
       "    }\n",
       "\n",
       "    .dataframe tbody tr th {\n",
       "        vertical-align: top;\n",
       "    }\n",
       "\n",
       "    .dataframe thead th {\n",
       "        text-align: right;\n",
       "    }\n",
       "</style>\n",
       "<table border=\"1\" class=\"dataframe\">\n",
       "  <thead>\n",
       "    <tr style=\"text-align: right;\">\n",
       "      <th></th>\n",
       "      <th>Column Type</th>\n",
       "      <th>Count</th>\n",
       "    </tr>\n",
       "  </thead>\n",
       "  <tbody>\n",
       "    <tr>\n",
       "      <th>0</th>\n",
       "      <td>int64</td>\n",
       "      <td>369</td>\n",
       "    </tr>\n",
       "    <tr>\n",
       "      <th>1</th>\n",
       "      <td>float64</td>\n",
       "      <td>1</td>\n",
       "    </tr>\n",
       "    <tr>\n",
       "      <th>2</th>\n",
       "      <td>object</td>\n",
       "      <td>8</td>\n",
       "    </tr>\n",
       "  </tbody>\n",
       "</table>\n",
       "</div>"
      ],
      "text/plain": [
       "  Column Type  Count\n",
       "0       int64    369\n",
       "1     float64      1\n",
       "2      object      8"
      ]
     },
     "execution_count": 3,
     "metadata": {},
     "output_type": "execute_result"
    }
   ],
   "source": [
    "#List Features and Data Types of Train\n",
    "dtype_df = train_df.dtypes.reset_index()\n",
    "dtype_df.columns = [\"Count\", \"Column Type\"]\n",
    "dtype_df.groupby(\"Column Type\").aggregate('count').reset_index()"
   ]
  },
  {
   "cell_type": "markdown",
   "metadata": {},
   "source": [
    "<h4>List Constant, Binary and Categorical  features of Train Data"
   ]
  },
  {
   "cell_type": "code",
   "execution_count": 4,
   "metadata": {},
   "outputs": [
    {
     "name": "stdout",
     "output_type": "stream",
     "text": [
      "Constant features: 12, Binary features: 356, Categorical features: 8\n",
      "\n",
      "Constant/Unique features: ['X11', 'X93', 'X107', 'X233', 'X235', 'X268', 'X289', 'X290', 'X293', 'X297', 'X330', 'X347']\n",
      "Categorical features: ['X0', 'X1', 'X2', 'X3', 'X4', 'X5', 'X6', 'X8']\n"
     ]
    }
   ],
   "source": [
    "#Count the data in each of the column\n",
    "cols = [c for c in train_df.columns if 'X' in c]\n",
    "counts = [[], [], []]\n",
    "for c in cols:\n",
    "    typ = train_df[c].dtype\n",
    "    uniq = len(np.unique(train_df[c]))\n",
    "    if uniq == 1:\n",
    "        counts[0].append(c)\n",
    "    elif uniq == 2 and typ == np.int64:\n",
    "        counts[1].append(c)\n",
    "    else:\n",
    "        counts[2].append(c)\n",
    "print('Constant features: {}, Binary features: {}, Categorical features: {}\\n'.format(*[len(c) for c in counts]))\n",
    "print('Constant/Unique features:', counts[0])\n",
    "print('Categorical features:', counts[2])"
   ]
  },
  {
   "cell_type": "markdown",
   "metadata": {},
   "source": [
    "### Fetching Categorical for later user"
   ]
  },
  {
   "cell_type": "code",
   "execution_count": 5,
   "metadata": {},
   "outputs": [
    {
     "name": "stdout",
     "output_type": "stream",
     "text": [
      "Categorical features: ['X0', 'X1', 'X2', 'X3', 'X4', 'X5', 'X6', 'X8']\n"
     ]
    }
   ],
   "source": [
    "categorical_objects = counts[2]\n",
    "print('Categorical features:', categorical_objects)"
   ]
  },
  {
   "cell_type": "markdown",
   "metadata": {},
   "source": [
    "<h4>Check for Missing values in Train"
   ]
  },
  {
   "cell_type": "code",
   "execution_count": 6,
   "metadata": {},
   "outputs": [
    {
     "data": {
      "text/html": [
       "<div>\n",
       "<style scoped>\n",
       "    .dataframe tbody tr th:only-of-type {\n",
       "        vertical-align: middle;\n",
       "    }\n",
       "\n",
       "    .dataframe tbody tr th {\n",
       "        vertical-align: top;\n",
       "    }\n",
       "\n",
       "    .dataframe thead th {\n",
       "        text-align: right;\n",
       "    }\n",
       "</style>\n",
       "<table border=\"1\" class=\"dataframe\">\n",
       "  <thead>\n",
       "    <tr style=\"text-align: right;\">\n",
       "      <th></th>\n",
       "      <th>column_name</th>\n",
       "      <th>missing_count</th>\n",
       "    </tr>\n",
       "  </thead>\n",
       "  <tbody>\n",
       "  </tbody>\n",
       "</table>\n",
       "</div>"
      ],
      "text/plain": [
       "Empty DataFrame\n",
       "Columns: [column_name, missing_count]\n",
       "Index: []"
      ]
     },
     "execution_count": 6,
     "metadata": {},
     "output_type": "execute_result"
    }
   ],
   "source": [
    "#Missing Values\n",
    "missing_df = train_df.isnull().sum(axis=0).reset_index()\n",
    "missing_df.columns = ['column_name', 'missing_count']\n",
    "missing_df = missing_df.loc[missing_df['missing_count']>0]\n",
    "missing_df = missing_df.sort_values(by='missing_count')\n",
    "missing_df"
   ]
  },
  {
   "cell_type": "markdown",
   "metadata": {},
   "source": [
    "<h4>Check for Varince values in Train"
   ]
  },
  {
   "cell_type": "code",
   "execution_count": 7,
   "metadata": {},
   "outputs": [
    {
     "data": {
      "text/plain": [
       "array(['X11', 'X93', 'X107', 'X233', 'X235', 'X268', 'X289', 'X290',\n",
       "       'X293', 'X297', 'X330', 'X347'], dtype=object)"
      ]
     },
     "execution_count": 7,
     "metadata": {},
     "output_type": "execute_result"
    }
   ],
   "source": [
    "#Columns with Varince = 0\n",
    "train_df.var()[train_df.var()==0].index.values"
   ]
  },
  {
   "cell_type": "markdown",
   "metadata": {},
   "source": [
    "<h4>List Objects of Test Data"
   ]
  },
  {
   "cell_type": "code",
   "execution_count": 8,
   "metadata": {},
   "outputs": [
    {
     "data": {
      "text/html": [
       "<div>\n",
       "<style scoped>\n",
       "    .dataframe tbody tr th:only-of-type {\n",
       "        vertical-align: middle;\n",
       "    }\n",
       "\n",
       "    .dataframe tbody tr th {\n",
       "        vertical-align: top;\n",
       "    }\n",
       "\n",
       "    .dataframe thead th {\n",
       "        text-align: right;\n",
       "    }\n",
       "</style>\n",
       "<table border=\"1\" class=\"dataframe\">\n",
       "  <thead>\n",
       "    <tr style=\"text-align: right;\">\n",
       "      <th></th>\n",
       "      <th>Column Type</th>\n",
       "      <th>Count</th>\n",
       "    </tr>\n",
       "  </thead>\n",
       "  <tbody>\n",
       "    <tr>\n",
       "      <th>0</th>\n",
       "      <td>int64</td>\n",
       "      <td>369</td>\n",
       "    </tr>\n",
       "    <tr>\n",
       "      <th>1</th>\n",
       "      <td>object</td>\n",
       "      <td>8</td>\n",
       "    </tr>\n",
       "  </tbody>\n",
       "</table>\n",
       "</div>"
      ],
      "text/plain": [
       "  Column Type  Count\n",
       "0       int64    369\n",
       "1      object      8"
      ]
     },
     "execution_count": 8,
     "metadata": {},
     "output_type": "execute_result"
    }
   ],
   "source": [
    "#List Features and Data Types of Test\n",
    "dtype_df_test = test_df.dtypes.reset_index()\n",
    "dtype_df_test.columns = [\"Count\", \"Column Type\"]\n",
    "dtype_df_test.groupby(\"Column Type\").aggregate('count').reset_index()"
   ]
  },
  {
   "cell_type": "markdown",
   "metadata": {},
   "source": [
    "<h4>List Constant, Binary and Categorical  features of Test Data"
   ]
  },
  {
   "cell_type": "code",
   "execution_count": 9,
   "metadata": {},
   "outputs": [
    {
     "name": "stdout",
     "output_type": "stream",
     "text": [
      "Constant features: 5, Binary features: 363, Categorical features: 8\n",
      "\n",
      "Constant/Unique features: ['X257', 'X258', 'X295', 'X296', 'X369']\n",
      "Categorical features: ['X0', 'X1', 'X2', 'X3', 'X4', 'X5', 'X6', 'X8']\n"
     ]
    }
   ],
   "source": [
    "#Count the data in each of the column\n",
    "cols = [c for c in test_df.columns if 'X' in c]\n",
    "counts = [[], [], []]\n",
    "for c in cols:\n",
    "    typ = test_df[c].dtype\n",
    "    uniq = len(np.unique(test_df[c]))\n",
    "    if uniq == 1:\n",
    "        counts[0].append(c)\n",
    "    elif uniq == 2 and typ == np.int64:\n",
    "        counts[1].append(c)\n",
    "    else:\n",
    "        counts[2].append(c)\n",
    "print('Constant features: {}, Binary features: {}, Categorical features: {}\\n'.format(*[len(c) for c in counts]))\n",
    "print('Constant/Unique features:', counts[0])\n",
    "print('Categorical features:', counts[2])"
   ]
  },
  {
   "cell_type": "markdown",
   "metadata": {},
   "source": [
    "<h4>Check for Missing values in Test"
   ]
  },
  {
   "cell_type": "code",
   "execution_count": 10,
   "metadata": {},
   "outputs": [
    {
     "data": {
      "text/html": [
       "<div>\n",
       "<style scoped>\n",
       "    .dataframe tbody tr th:only-of-type {\n",
       "        vertical-align: middle;\n",
       "    }\n",
       "\n",
       "    .dataframe tbody tr th {\n",
       "        vertical-align: top;\n",
       "    }\n",
       "\n",
       "    .dataframe thead th {\n",
       "        text-align: right;\n",
       "    }\n",
       "</style>\n",
       "<table border=\"1\" class=\"dataframe\">\n",
       "  <thead>\n",
       "    <tr style=\"text-align: right;\">\n",
       "      <th></th>\n",
       "      <th>column_name</th>\n",
       "      <th>missing_count</th>\n",
       "    </tr>\n",
       "  </thead>\n",
       "  <tbody>\n",
       "  </tbody>\n",
       "</table>\n",
       "</div>"
      ],
      "text/plain": [
       "Empty DataFrame\n",
       "Columns: [column_name, missing_count]\n",
       "Index: []"
      ]
     },
     "execution_count": 10,
     "metadata": {},
     "output_type": "execute_result"
    }
   ],
   "source": [
    "#Missing Values\n",
    "missing_df_test = test_df.isnull().sum(axis=0).reset_index()\n",
    "missing_df_test.columns = ['column_name', 'missing_count']\n",
    "missing_df_test = missing_df_test.loc[missing_df_test['missing_count']>0]\n",
    "missing_df_test = missing_df_test.sort_values(by='missing_count')\n",
    "missing_df_test"
   ]
  },
  {
   "cell_type": "markdown",
   "metadata": {},
   "source": [
    "<h4>Check for Varince values in Test"
   ]
  },
  {
   "cell_type": "code",
   "execution_count": 11,
   "metadata": {},
   "outputs": [
    {
     "data": {
      "text/plain": [
       "array(['X257', 'X258', 'X295', 'X296', 'X369'], dtype=object)"
      ]
     },
     "execution_count": 11,
     "metadata": {},
     "output_type": "execute_result"
    }
   ],
   "source": [
    "#Columns with Varince = 0\n",
    "test_df.var()[test_df.var()==0].index.values"
   ]
  },
  {
   "cell_type": "markdown",
   "metadata": {},
   "source": [
    "<h4>Drop zero Variance variables in both Train and Test"
   ]
  },
  {
   "cell_type": "code",
   "execution_count": 12,
   "metadata": {},
   "outputs": [],
   "source": [
    "train_df = train_df.drop(train_df.var()[train_df.var()==0].index.values, axis=1)\n",
    "test_df = test_df.drop(test_df.var()[test_df.var()==0].index.values, axis=1)"
   ]
  },
  {
   "cell_type": "markdown",
   "metadata": {},
   "source": [
    "<h4>Check and confiorm if Variance removed"
   ]
  },
  {
   "cell_type": "code",
   "execution_count": 13,
   "metadata": {},
   "outputs": [
    {
     "name": "stdout",
     "output_type": "stream",
     "text": [
      "Variance in Train still ? : []\n",
      "Variance in Test still ? : []\n"
     ]
    }
   ],
   "source": [
    "#Listing Variance\n",
    "print('Variance in Train still ? :', train_df.var()[train_df.var()==0].index.values)\n",
    "print('Variance in Test still ? :', test_df.var()[test_df.var()==0].index.values)"
   ]
  },
  {
   "cell_type": "markdown",
   "metadata": {},
   "source": [
    "<h4>List Unique Objects in both Train and Test"
   ]
  },
  {
   "cell_type": "code",
   "execution_count": 14,
   "metadata": {},
   "outputs": [
    {
     "name": "stdout",
     "output_type": "stream",
     "text": [
      "X0 ['k' 'az' 't' 'al' 'o' 'w' 'j' 'h' 's' 'n' 'ay' 'f' 'x' 'y' 'aj' 'ak' 'am'\n",
      " 'z' 'q' 'at' 'ap' 'v' 'af' 'a' 'e' 'ai' 'd' 'aq' 'c' 'aa' 'ba' 'as' 'i'\n",
      " 'r' 'b' 'ax' 'bc' 'u' 'ad' 'au' 'm' 'l' 'aw' 'ao' 'ac' 'g' 'ab']\n",
      "X1 ['v' 't' 'w' 'b' 'r' 'l' 's' 'aa' 'c' 'a' 'e' 'h' 'z' 'j' 'o' 'u' 'p' 'n'\n",
      " 'i' 'y' 'd' 'f' 'm' 'k' 'g' 'q' 'ab']\n",
      "X2 ['at' 'av' 'n' 'e' 'as' 'aq' 'r' 'ai' 'ak' 'm' 'a' 'k' 'ae' 's' 'f' 'd'\n",
      " 'ag' 'ay' 'ac' 'ap' 'g' 'i' 'aw' 'y' 'b' 'ao' 'al' 'h' 'x' 'au' 't' 'an'\n",
      " 'z' 'ah' 'p' 'am' 'j' 'q' 'af' 'l' 'aa' 'c' 'o' 'ar']\n",
      "X3 ['a' 'e' 'c' 'f' 'd' 'b' 'g']\n",
      "X4 ['d' 'b' 'c' 'a']\n",
      "X5 ['u' 'y' 'x' 'h' 'g' 'f' 'j' 'i' 'd' 'c' 'af' 'ag' 'ab' 'ac' 'ad' 'ae'\n",
      " 'ah' 'l' 'k' 'n' 'm' 'p' 'q' 's' 'r' 'v' 'w' 'o' 'aa']\n",
      "X6 ['j' 'l' 'd' 'h' 'i' 'a' 'g' 'c' 'k' 'e' 'f' 'b']\n",
      "X8 ['o' 'x' 'e' 'n' 's' 'a' 'h' 'p' 'm' 'k' 'd' 'i' 'v' 'j' 'b' 'q' 'w' 'g'\n",
      " 'y' 'l' 'f' 'u' 'r' 't' 'c']\n"
     ]
    }
   ],
   "source": [
    "obj_dtype = train_df.dtypes[train_df.dtypes=='object'].index\n",
    "for i in obj_dtype:\n",
    "    print(i, train_df[i].unique())"
   ]
  },
  {
   "cell_type": "code",
   "execution_count": 15,
   "metadata": {},
   "outputs": [
    {
     "name": "stdout",
     "output_type": "stream",
     "text": [
      "X0 ['az' 't' 'w' 'y' 'x' 'f' 'ap' 'o' 'ay' 'al' 'h' 'z' 'aj' 'd' 'v' 'ak'\n",
      " 'ba' 'n' 'j' 's' 'af' 'ax' 'at' 'aq' 'av' 'm' 'k' 'a' 'e' 'ai' 'i' 'ag'\n",
      " 'b' 'am' 'aw' 'as' 'r' 'ao' 'u' 'l' 'c' 'ad' 'au' 'bc' 'g' 'an' 'ae' 'p'\n",
      " 'bb']\n",
      "X1 ['v' 'b' 'l' 's' 'aa' 'r' 'a' 'i' 'p' 'c' 'o' 'm' 'z' 'e' 'h' 'w' 'g' 'k'\n",
      " 'y' 't' 'u' 'd' 'j' 'q' 'n' 'f' 'ab']\n",
      "X2 ['n' 'ai' 'as' 'ae' 's' 'b' 'e' 'ak' 'm' 'a' 'aq' 'ag' 'r' 'k' 'aj' 'ay'\n",
      " 'ao' 'an' 'ac' 'af' 'ax' 'h' 'i' 'f' 'ap' 'p' 'au' 't' 'z' 'y' 'aw' 'd'\n",
      " 'at' 'g' 'am' 'j' 'x' 'ab' 'w' 'q' 'ah' 'ad' 'al' 'av' 'u']\n",
      "X3 ['f' 'a' 'c' 'e' 'd' 'g' 'b']\n",
      "X4 ['d' 'b' 'a' 'c']\n",
      "X5 ['t' 'b' 'a' 'z' 'y' 'x' 'h' 'g' 'f' 'j' 'i' 'd' 'c' 'af' 'ag' 'ab' 'ac'\n",
      " 'ad' 'ae' 'ah' 'l' 'k' 'n' 'm' 'p' 'q' 's' 'r' 'v' 'w' 'o' 'aa']\n",
      "X6 ['a' 'g' 'j' 'l' 'i' 'd' 'f' 'h' 'c' 'k' 'e' 'b']\n",
      "X8 ['w' 'y' 'j' 'n' 'm' 's' 'a' 'v' 'r' 'o' 't' 'h' 'c' 'k' 'p' 'u' 'd' 'g'\n",
      " 'b' 'q' 'e' 'l' 'f' 'i' 'x']\n"
     ]
    }
   ],
   "source": [
    "obj_dtype_test = test_df.dtypes[test_df.dtypes=='object'].index\n",
    "for i in obj_dtype:\n",
    "    print(i, test_df[i].unique())"
   ]
  },
  {
   "cell_type": "markdown",
   "metadata": {},
   "source": [
    "<h4>Remove Rows where Objects not present in either Test or Train"
   ]
  },
  {
   "cell_type": "code",
   "execution_count": 16,
   "metadata": {
    "tags": []
   },
   "outputs": [],
   "source": [
    "#train_df['X0'].isin(test_df['X0']).value_counts()\n",
    "#train_df = train_df[train_df['X0'].isin(test_df['X0']) == True]\n",
    "#test_df = test_df[test_df['X0'].isin(train_df['X0']) == True]\n",
    "obj_dtype = train_df.dtypes[train_df.dtypes=='object'].index\n",
    "for column in obj_dtype:\n",
    "    train_df = train_df[train_df[column].isin(test_df[column]) == True]\n",
    "    test_df = test_df[test_df[column].isin(train_df[column]) == True]"
   ]
  },
  {
   "cell_type": "markdown",
   "metadata": {},
   "source": [
    "<h4>How Target variable wide spread"
   ]
  },
  {
   "cell_type": "code",
   "execution_count": 17,
   "metadata": {},
   "outputs": [
    {
     "data": {
      "image/png": "[encoded data removed]",
      "text/plain": [
       "<Figure size 576x432 with 1 Axes>"
      ]
     },
     "metadata": {
      "needs_background": "light"
     },
     "output_type": "display_data"
    }
   ],
   "source": [
    "#Target Variable:\"y\" is the variable we need to predict.\n",
    "plt.figure(figsize=(8,6))\n",
    "plt.scatter(range(train_df.shape[0]), np.sort(train_df.y.values))\n",
    "plt.xlabel('index', fontsize=12)\n",
    "plt.ylabel('y', fontsize=12)\n",
    "plt.show()"
   ]
  },
  {
   "cell_type": "markdown",
   "metadata": {},
   "source": [
    "<h4>Check and Remove Columns not present in either Test or Train"
   ]
  },
  {
   "cell_type": "code",
   "execution_count": 18,
   "metadata": {},
   "outputs": [
    {
     "name": "stdout",
     "output_type": "stream",
     "text": [
      "Columns in train_df not in test_df =  Index(['X257', 'X258', 'X295', 'X296', 'X369', 'y'], dtype='object')\n",
      "Columns in test_df not in train_df =  Index(['X107', 'X11', 'X233', 'X235', 'X268', 'X289', 'X290', 'X293', 'X297',\n",
      "       'X330', 'X347', 'X93'],\n",
      "      dtype='object')\n"
     ]
    }
   ],
   "source": [
    "print('Columns in train_df not in test_df = ', train_df.columns.difference(test_df.columns))\n",
    "print('Columns in test_df not in train_df = ', test_df.columns.difference(train_df.columns))"
   ]
  },
  {
   "cell_type": "code",
   "execution_count": 19,
   "metadata": {},
   "outputs": [
    {
     "name": "stdout",
     "output_type": "stream",
     "text": [
      "Columns in train_df not in test_df =  Index([], dtype='object')\n",
      "Columns in test_df not in train_df =  Index([], dtype='object')\n"
     ]
    }
   ],
   "source": [
    "#Fetching Y\n",
    "train_data_target = train_df['y']\n",
    "for col in train_df.columns.difference(test_df.columns):\n",
    "    del train_df[col]\n",
    "for col in test_df.columns.difference(train_df.columns):\n",
    "    del test_df[col]\n",
    "print('Columns in train_df not in test_df = ', train_df.columns.difference(test_df.columns))\n",
    "print('Columns in test_df not in train_df = ', test_df.columns.difference(train_df.columns))"
   ]
  },
  {
   "cell_type": "code",
   "execution_count": 20,
   "metadata": {
    "tags": []
   },
   "outputs": [
    {
     "name": "stdout",
     "output_type": "stream",
     "text": [
      "Train shape :  (4196, 360)\n",
      "\n",
      "\n",
      "Test shape :  (4184, 360)\n"
     ]
    }
   ],
   "source": [
    "print(\"Train shape : \", train_df.shape)\n",
    "#print(\"\\n\\nTrain Head\\n\", train_df.head())\n",
    "print(\"\\n\\nTest shape : \", test_df.shape)\n",
    "#print(\"\\n\\nTest Head\\n\", test_df.head())"
   ]
  },
  {
   "cell_type": "markdown",
   "metadata": {},
   "source": [
    "<h4>Removing ID for later use"
   ]
  },
  {
   "cell_type": "code",
   "execution_count": 21,
   "metadata": {},
   "outputs": [
    {
     "name": "stdout",
     "output_type": "stream",
     "text": [
      "Train features shape =  (4196, 359)\n",
      "Train target shape =  (4196,)\n",
      "Train features shape =  (4184, 359)\n"
     ]
    }
   ],
   "source": [
    "train_data_id_source = train_df['ID']\n",
    "train_data_features = train_df.drop(['ID'],axis = 1)\n",
    "print('Train features shape = ', train_data_features.shape)\n",
    "print('Train target shape = ', train_data_target.shape)\n",
    "test_data_id_source = test_df['ID']\n",
    "test_data_features = test_df.drop(['ID'],axis = 1)\n",
    "print('Train features shape = ', test_data_features.shape)"
   ]
  },
  {
   "cell_type": "markdown",
   "metadata": {},
   "source": [
    "<h4>Apply Label Encoding in both Train and Test"
   ]
  },
  {
   "cell_type": "code",
   "execution_count": 22,
   "metadata": {},
   "outputs": [],
   "source": [
    "#Type2 Apply Label encoding on all DF \n",
    "from collections import defaultdict\n",
    "d = defaultdict(LabelEncoder)\n",
    "\n",
    "train_data_features = train_data_features.apply(lambda x: d[x.name].fit_transform(x))\n",
    "test_data_features = test_data_features.apply(lambda x: d[x.name].transform(x))"
   ]
  },
  {
   "cell_type": "code",
   "execution_count": 23,
   "metadata": {},
   "outputs": [
    {
     "name": "stdout",
     "output_type": "stream",
     "text": [
      "Train shape :  (4196, 359)\n",
      "\n",
      "\n",
      "Train Head\n",
      "    X0  X1  X2  X3  X4  X5  X6  X8  X10  X12  ...  X375  X376  X377  X378  \\\n",
      "2  17  24  29   2   3  26   9  23    0    0  ...     0     0     0     0   \n",
      "3  17  21  29   5   3  26  11   4    0    0  ...     0     0     0     0   \n",
      "4  17  23  29   5   3  12   3  13    0    0  ...     0     0     0     0   \n",
      "5  36   3  21   2   3  11   7  18    0    0  ...     0     0     1     0   \n",
      "6   6  19  21   5   3  10   7  18    0    0  ...     0     0     0     0   \n",
      "\n",
      "   X379  X380  X382  X383  X384  X385  \n",
      "2     0     0     1     0     0     0  \n",
      "3     0     0     0     0     0     0  \n",
      "4     0     0     0     0     0     0  \n",
      "5     0     0     0     0     0     0  \n",
      "6     0     0     0     0     0     0  \n",
      "\n",
      "[5 rows x 359 columns]\n",
      "\n",
      "\n",
      "Test shape :  (4184, 359)\n",
      "\n",
      "\n",
      "Test Head\n",
      "    X0  X1  X2  X3  X4  X5  X6  X8  X10  X12  ...  X375  X376  X377  X378  \\\n",
      "5  41   1   6   4   3  26   6  18    0    0  ...     1     0     0     0   \n",
      "6  40   3   2   3   3  26   3  24    0    0  ...     0     0     0     0   \n",
      "7  24  20   2   2   3  12   3   0    0    0  ...     0     0     1     0   \n",
      "8   9  13  33   2   3  12   9  13    0    0  ...     0     0     0     0   \n",
      "9  33  23  14   5   3  11   5  21    0    0  ...     0     0     0     0   \n",
      "\n",
      "   X379  X380  X382  X383  X384  X385  \n",
      "5     0     0     0     0     0     0  \n",
      "6     0     1     0     0     0     0  \n",
      "7     0     0     0     0     0     0  \n",
      "8     0     0     0     0     0     0  \n",
      "9     0     0     0     0     0     0  \n",
      "\n",
      "[5 rows x 359 columns]\n"
     ]
    }
   ],
   "source": [
    "print(\"Train shape : \", train_data_features.shape)\n",
    "print(\"\\n\\nTrain Head\\n\", train_data_features.head())\n",
    "print(\"\\n\\nTest shape : \", test_data_features.shape)\n",
    "print(\"\\n\\nTest Head\\n\", test_data_features.head())"
   ]
  },
  {
   "cell_type": "markdown",
   "metadata": {},
   "source": [
    "<h4>Splitting Train Data for Modeling"
   ]
  },
  {
   "cell_type": "code",
   "execution_count": 24,
   "metadata": {},
   "outputs": [
    {
     "name": "stdout",
     "output_type": "stream",
     "text": [
      "X_train dataset shape =  (3356, 359)\n",
      "Y_train dataset shape =  (3356,)\n",
      "X_test dataset shape =  (840, 359)\n",
      "Y_test dataset shape =  (840,)\n"
     ]
    }
   ],
   "source": [
    "X_train, X_test, Y_train, Y_test = train_test_split(train_data_features, train_data_target, test_size=0.2,random_state=4242)\n",
    "print('X_train dataset shape = ', X_train.shape)\n",
    "print('Y_train dataset shape = ', Y_train.shape)\n",
    "print('X_test dataset shape = ', X_test.shape)\n",
    "print('Y_test dataset shape = ', Y_test.shape)"
   ]
  },
  {
   "cell_type": "code",
   "execution_count": 25,
   "metadata": {},
   "outputs": [],
   "source": [
    "def model_fit_transform_accuracy(model,xtrain,ytrain,xtest,ytest):\n",
    "    model.fit(xtrain,ytrain);\n",
    "    return_array = []\n",
    "    return_array.append(model)\n",
    "    model_train_predict = model.predict(xtrain)\n",
    "    return_array.append(\"{:.2f}\".format(np.sqrt(mean_squared_error(ytrain, model_train_predict))))\n",
    "    return_array.append(\"{:.2f}\".format(r2_score(ytrain, model_train_predict)))\n",
    "    model_test_predict = model.predict(xtest)\n",
    "    return_array.append(\"{:.2f}\".format(np.sqrt(mean_squared_error(ytest, model_test_predict))))\n",
    "    return_array.append(\"{:.2f}\".format(r2_score(ytest, model_test_predict)))\n",
    "    \n",
    "    #return_array.append(model_train_predict)\n",
    "    #return_array.append(model_test_predict)\n",
    "\n",
    "    return return_array"
   ]
  },
  {
   "cell_type": "markdown",
   "metadata": {},
   "source": [
    "## Additional Regression Along with XGB"
   ]
  },
  {
   "cell_type": "markdown",
   "metadata": {},
   "source": [
    "<h4>Liner Regression"
   ]
  },
  {
   "cell_type": "code",
   "execution_count": 26,
   "metadata": {},
   "outputs": [
    {
     "data": {
      "text/plain": [
       "[LinearRegression(), '8.05', '0.59', '8441095233.52', '-446186765158222656.00']"
      ]
     },
     "execution_count": 26,
     "metadata": {},
     "output_type": "execute_result"
    }
   ],
   "source": [
    "initial_lin_model = LinearRegression()\n",
    "initial_lin_model = model_fit_transform_accuracy(initial_lin_model, X_train, Y_train, X_test, Y_test)\n",
    "initial_lin_model"
   ]
  },
  {
   "cell_type": "markdown",
   "metadata": {},
   "source": [
    "----> Looks good on testing set by not good on training"
   ]
  },
  {
   "cell_type": "markdown",
   "metadata": {},
   "source": [
    "<h4>Ridge Regression"
   ]
  },
  {
   "cell_type": "code",
   "execution_count": 27,
   "metadata": {},
   "outputs": [
    {
     "data": {
      "text/plain": [
       "[Ridge(alpha=0.001, normalize=True), '8.06', '0.59', '8.70', '0.53']"
      ]
     },
     "execution_count": 27,
     "metadata": {},
     "output_type": "execute_result"
    }
   ],
   "source": [
    "initial_ridge_model = Ridge(alpha=0.001, normalize=True)\n",
    "initial_ridge_model = model_fit_transform_accuracy(initial_ridge_model, X_train, Y_train, X_test, Y_test)\n",
    "initial_ridge_model"
   ]
  },
  {
   "cell_type": "markdown",
   "metadata": {},
   "source": [
    "----> Looks optimal on both Testing and Training"
   ]
  },
  {
   "cell_type": "markdown",
   "metadata": {},
   "source": [
    "<h4>Lasso Regression"
   ]
  },
  {
   "cell_type": "code",
   "execution_count": 28,
   "metadata": {},
   "outputs": [
    {
     "data": {
      "text/plain": [
       "[Lasso(alpha=0.001, max_iter=10000, normalize=True),\n",
       " '8.17',\n",
       " '0.58',\n",
       " '8.44',\n",
       " '0.55']"
      ]
     },
     "execution_count": 28,
     "metadata": {},
     "output_type": "execute_result"
    }
   ],
   "source": [
    "initial_lasso_model = Lasso(alpha=0.001, normalize=True,max_iter = 10000)\n",
    "initial_lasso_model = model_fit_transform_accuracy(initial_lasso_model, X_train, Y_train, X_test, Y_test)\n",
    "initial_lasso_model"
   ]
  },
  {
   "cell_type": "markdown",
   "metadata": {},
   "source": [
    "----> Looks optimal on both Testing and Training"
   ]
  },
  {
   "cell_type": "markdown",
   "metadata": {},
   "source": [
    "<h1>XGB Model"
   ]
  },
  {
   "cell_type": "markdown",
   "metadata": {},
   "source": [
    "<h4> XGB Regressor"
   ]
  },
  {
   "cell_type": "code",
   "execution_count": 29,
   "metadata": {},
   "outputs": [
    {
     "data": {
      "text/plain": [
       "[XGBRegressor(base_score=0.5, booster='gbtree', colsample_bylevel=1,\n",
       "              colsample_bynode=1, colsample_bytree=1, gamma=0, gpu_id=-1,\n",
       "              importance_type='gain', interaction_constraints='',\n",
       "              learning_rate=0.1, max_delta_step=0, max_depth=2,\n",
       "              min_child_weight=3, missing=nan, monotone_constraints='()',\n",
       "              n_estimators=500, n_jobs=4, num_parallel_tree=1, random_state=2,\n",
       "              reg_alpha=0, reg_lambda=10, scale_pos_weight=1, seed=2,\n",
       "              subsample=1, tree_method='exact', validate_parameters=1,\n",
       "              verbosity=None),\n",
       " '7.76',\n",
       " '0.62',\n",
       " '8.30',\n",
       " '0.57']"
      ]
     },
     "execution_count": 29,
     "metadata": {},
     "output_type": "execute_result"
    }
   ],
   "source": [
    "initial_xgb_reg_model = XGBRegressor(n_estimators=500,booster='gbtree',learning_rate=0.1,importance_type='gain',max_delta_step=0, max_depth=2,min_child_weight=3,objective='reg:squarederror',reg_lambda=10,seed=2)\n",
    "initial_xgb_reg_model = model_fit_transform_accuracy(initial_xgb_reg_model, X_train, Y_train, X_test, Y_test)\n",
    "initial_xgb_reg_model"
   ]
  },
  {
   "cell_type": "markdown",
   "metadata": {},
   "source": [
    "----> Good Comparing to Linear / Ridge / Lasso"
   ]
  },
  {
   "cell_type": "markdown",
   "metadata": {},
   "source": [
    "<h4>Find best XGBoost Parameters using RandomizedSearchCV"
   ]
  },
  {
   "cell_type": "code",
   "execution_count": 30,
   "metadata": {},
   "outputs": [
    {
     "name": "stdout",
     "output_type": "stream",
     "text": [
      "Fitting 10 folds for each of 10 candidates, totalling 100 fits\n"
     ]
    },
    {
     "data": {
      "text/plain": [
       "RandomizedSearchCV(cv=10,\n",
       "                   estimator=XGBRegressor(base_score=0.5, booster='gbtree',\n",
       "                                          colsample_bylevel=1,\n",
       "                                          colsample_bynode=1,\n",
       "                                          colsample_bytree=1, gamma=0,\n",
       "                                          gpu_id=-1, importance_type='gain',\n",
       "                                          interaction_constraints='',\n",
       "                                          learning_rate=0.1, max_delta_step=0,\n",
       "                                          max_depth=2, min_child_weight=3,\n",
       "                                          missing=nan,\n",
       "                                          monotone_constraints='()',\n",
       "                                          n_estimators=500, n_jobs=4,\n",
       "                                          num_parallel_t...\n",
       "                   n_jobs=-1,\n",
       "                   param_distributions={'colsample_bytree': [0.1, 0.5, 0.7, 1],\n",
       "                                        'gamma': [0.01, 0.001, 0, 0.1, 0.01,\n",
       "                                                  0.5, 1],\n",
       "                                        'learning_rate': [0.01, 0.05, 0.1, 1],\n",
       "                                        'max_depth': [2, 3, 5, 10],\n",
       "                                        'min_child_weight': [0, 1, 3],\n",
       "                                        'n_estimators': [100, 150, 200, 500],\n",
       "                                        'reg_alpha': [1e-05, 0.001, 0.1, 1,\n",
       "                                                      10.0],\n",
       "                                        'reg_lambda': [0, 1, 10],\n",
       "                                        'subsample': [0.2, 0.3, 0.5, 1]},\n",
       "                   return_train_score=True, scoring='r2', verbose=1)"
      ]
     },
     "execution_count": 30,
     "metadata": {},
     "output_type": "execute_result"
    }
   ],
   "source": [
    "#To find best XGBoost Parameters\n",
    "params={ 'learning_rate'   : [0.01,0.05,0.1,1] ,\n",
    "         'max_depth'       : [2,3,5,10],\n",
    "         'min_child_weight': [ 0, 1, 3],\n",
    "         'n_estimators'    : [100,150,200,500],\n",
    "         'gamma'           : [1e-2,1e-3,0,0.1,0.01,0.5,1],\n",
    "         'colsample_bytree': [0.1,0.5,0.7,1],\n",
    "         'subsample'       : [0.2,0.3,0.5,1],\n",
    "         'reg_lambda'      : [0,1,10],\n",
    "         'reg_alpha'       : [1e-5,1e-3,1e-1,1,1e1] \n",
    "        }\n",
    "\n",
    "# Optimize the Hyperparameter using RandomizedSearchCV\n",
    "# Using Random search of parameters with 10 fold cross validation\n",
    "# Improve the predictions using cross validation to optimize the parameters\n",
    "# cv=10 - Number of folds in a `(Stratified)KFold`\n",
    "from sklearn.model_selection import RandomizedSearchCV\n",
    "Random_Search=RandomizedSearchCV (initial_xgb_reg_model[0],params,cv=10, scoring='r2', return_train_score=True, n_jobs=-1,verbose=1) \n",
    "\n",
    "#Fit the training set to the Randon_Search to obtain the best estimators and parameters.\n",
    "Random_Search.fit(X_train,Y_train)"
   ]
  },
  {
   "cell_type": "code",
   "execution_count": 31,
   "metadata": {},
   "outputs": [
    {
     "data": {
      "text/plain": [
       "XGBRegressor(base_score=0.5, booster='gbtree', colsample_bylevel=1,\n",
       "             colsample_bynode=1, colsample_bytree=0.1, gamma=0.01, gpu_id=-1,\n",
       "             importance_type='gain', interaction_constraints='',\n",
       "             learning_rate=0.1, max_delta_step=0, max_depth=3,\n",
       "             min_child_weight=3, missing=nan, monotone_constraints='()',\n",
       "             n_estimators=100, n_jobs=4, num_parallel_tree=1, random_state=2,\n",
       "             reg_alpha=10.0, reg_lambda=1, scale_pos_weight=1, seed=2,\n",
       "             subsample=0.5, tree_method='exact', validate_parameters=1,\n",
       "             verbosity=None)"
      ]
     },
     "execution_count": 31,
     "metadata": {},
     "output_type": "execute_result"
    }
   ],
   "source": [
    "# Print the best estimator\n",
    "Random_Search.best_estimator_"
   ]
  },
  {
   "cell_type": "markdown",
   "metadata": {},
   "source": [
    "<h4>Apply Best Parameters and Retry XGB"
   ]
  },
  {
   "cell_type": "code",
   "execution_count": 32,
   "metadata": {},
   "outputs": [
    {
     "data": {
      "text/plain": [
       "[XGBRegressor(base_score=0.5, booster='gbtree', colsample_bylevel=1,\n",
       "              colsample_bynode=1, colsample_bytree=0.5, gamma=0.01, gpu_id=-1,\n",
       "              importance_type='gain', interaction_constraints='',\n",
       "              learning_rate=0.1, max_delta_step=0, max_depth=2,\n",
       "              min_child_weight=1, missing=1, monotone_constraints='()',\n",
       "              n_estimators=200, n_jobs=4, num_parallel_tree=1, random_state=2,\n",
       "              reg_alpha=1e-05, reg_lambda=10, scale_pos_weight=1, seed=2,\n",
       "              subsample=0.2, tree_method='exact', validate_parameters=1,\n",
       "              verbosity=None),\n",
       " '7.99',\n",
       " '0.60',\n",
       " '8.22',\n",
       " '0.58']"
      ]
     },
     "execution_count": 32,
     "metadata": {},
     "output_type": "execute_result"
    }
   ],
   "source": [
    "initial_xgb_reg_best_param = XGBRegressor(base_score=0.5, booster='gbtree', colsample_bylevel=1,\n",
    "             colsample_bynode=1, colsample_bytree=0.5, gamma=0.01, gpu_id=-1,\n",
    "             importance_type='gain', interaction_constraints='',\n",
    "             learning_rate=0.1, max_delta_step=0, max_depth=2,\n",
    "             min_child_weight=1, missing=1, monotone_constraints='()',\n",
    "             n_estimators=200, n_jobs=4, num_parallel_tree=1, random_state=2,\n",
    "             reg_alpha=1e-05, reg_lambda=10, scale_pos_weight=1, seed=2,\n",
    "             subsample=0.2, tree_method='exact', validate_parameters=1,\n",
    "             verbosity=None)\n",
    "\n",
    "initial_xgb_reg_best_param = model_fit_transform_accuracy(initial_xgb_reg_best_param, X_train, Y_train, X_test, Y_test)\n",
    "initial_xgb_reg_best_param"
   ]
  },
  {
   "cell_type": "markdown",
   "metadata": {},
   "source": [
    "# Appling PCA on All Data set"
   ]
  },
  {
   "cell_type": "markdown",
   "metadata": {},
   "source": [
    "<h4>Perform Dimensionality Reduction on the entire dataset"
   ]
  },
  {
   "cell_type": "code",
   "execution_count": 33,
   "metadata": {},
   "outputs": [
    {
     "name": "stdout",
     "output_type": "stream",
     "text": [
      "PCA Train shape :  (3356, 150)\n",
      "PCA Test (Train) shape :  (840, 150)\n",
      "PCA Actual Test shape :  (4184, 150)\n"
     ]
    }
   ],
   "source": [
    "n_comp = 150\n",
    "pca = PCA(n_components=n_comp, random_state=420)\n",
    "pca_train_train = pca.fit_transform(X_train)\n",
    "pca_train_test = pca.transform(X_test)\n",
    "pca_test_test = pca.transform(test_data_features)\n",
    "print(\"PCA Train shape : \", pca_train_train.shape)\n",
    "print(\"PCA Test (Train) shape : \", pca_train_test.shape)\n",
    "print(\"PCA Actual Test shape : \", pca_test_test.shape)\n",
    "#print(\"PCA explained_variance_ratio_ : \", pca.explained_variance_ratio_)\n",
    "#print(\"PCA explained_variance_ratio_ : \", pca.explained_variance_)\n",
    "#print(\"PCA explained_variance_ratio_ : \", pca.components_)"
   ]
  },
  {
   "cell_type": "markdown",
   "metadata": {},
   "source": [
    "<h4>LinearRegression after perfroming PCA"
   ]
  },
  {
   "cell_type": "code",
   "execution_count": 34,
   "metadata": {},
   "outputs": [
    {
     "data": {
      "text/plain": [
       "[LinearRegression(), '8.16', '0.58', '8.54', '0.54']"
      ]
     },
     "execution_count": 34,
     "metadata": {},
     "output_type": "execute_result"
    }
   ],
   "source": [
    "pca_lin_model = LinearRegression()\n",
    "pca_lin_model = model_fit_transform_accuracy(pca_lin_model, pca_train_train, Y_train, pca_train_test, Y_test)\n",
    "pca_lin_model"
   ]
  },
  {
   "cell_type": "markdown",
   "metadata": {},
   "source": [
    "<h4>Ridge Regression on PCA Data"
   ]
  },
  {
   "cell_type": "code",
   "execution_count": 35,
   "metadata": {},
   "outputs": [
    {
     "data": {
      "text/plain": [
       "[Ridge(alpha=0.001, normalize=True), '8.16', '0.58', '8.54', '0.54']"
      ]
     },
     "execution_count": 35,
     "metadata": {},
     "output_type": "execute_result"
    }
   ],
   "source": [
    "pca_ridge_model = Ridge(alpha=0.001, normalize=True)\n",
    "pca_ridge_model = model_fit_transform_accuracy(pca_ridge_model, pca_train_train, Y_train, pca_train_test, Y_test)\n",
    "pca_ridge_model"
   ]
  },
  {
   "cell_type": "markdown",
   "metadata": {},
   "source": [
    "<h4>Lasso Regression on PCA Data"
   ]
  },
  {
   "cell_type": "code",
   "execution_count": 36,
   "metadata": {},
   "outputs": [
    {
     "data": {
      "text/plain": [
       "[Lasso(alpha=0.001, normalize=True), '8.18', '0.58', '8.49', '0.55']"
      ]
     },
     "execution_count": 36,
     "metadata": {},
     "output_type": "execute_result"
    }
   ],
   "source": [
    "pca_lasso_model = Lasso(alpha=0.001, normalize=True)\n",
    "pca_lasso_model = model_fit_transform_accuracy(pca_lasso_model, pca_train_train, Y_train, pca_train_test, Y_test)\n",
    "pca_lasso_model"
   ]
  },
  {
   "cell_type": "markdown",
   "metadata": {},
   "source": [
    "<h1>XGB"
   ]
  },
  {
   "cell_type": "markdown",
   "metadata": {},
   "source": [
    "<h4>XGBRegressor on PCA Data"
   ]
  },
  {
   "cell_type": "code",
   "execution_count": 37,
   "metadata": {},
   "outputs": [
    {
     "data": {
      "text/plain": [
       "[XGBRegressor(base_score=0.5, booster='gbtree', colsample_bylevel=1,\n",
       "              colsample_bynode=1, colsample_bytree=1, gamma=0, gpu_id=-1,\n",
       "              importance_type='gain', interaction_constraints='',\n",
       "              learning_rate=0.1, max_delta_step=0, max_depth=2,\n",
       "              min_child_weight=3, missing=nan, monotone_constraints='()',\n",
       "              n_estimators=500, n_jobs=4, num_parallel_tree=1, random_state=2,\n",
       "              reg_alpha=0, reg_lambda=10, scale_pos_weight=1, seed=2,\n",
       "              subsample=1, tree_method='exact', validate_parameters=1,\n",
       "              verbosity=None),\n",
       " '6.59',\n",
       " '0.73',\n",
       " '8.63',\n",
       " '0.53']"
      ]
     },
     "execution_count": 37,
     "metadata": {},
     "output_type": "execute_result"
    }
   ],
   "source": [
    "pca_xgb_reg_model = XGBRegressor(n_estimators=500,booster='gbtree',learning_rate=0.1,importance_type='gain',max_delta_step=0, max_depth=2,min_child_weight=3,objective='reg:squarederror',reg_lambda=10,seed=2)\n",
    "pca_xgb_reg_model = model_fit_transform_accuracy(pca_xgb_reg_model, pca_train_train, Y_train, pca_train_test, Y_test)\n",
    "pca_xgb_reg_model"
   ]
  },
  {
   "cell_type": "markdown",
   "metadata": {},
   "source": [
    "<h4>Find best XGBoost Parameters using RandomizedSearchCV"
   ]
  },
  {
   "cell_type": "code",
   "execution_count": 38,
   "metadata": {},
   "outputs": [
    {
     "name": "stdout",
     "output_type": "stream",
     "text": [
      "Fitting 10 folds for each of 10 candidates, totalling 100 fits\n"
     ]
    },
    {
     "data": {
      "text/plain": [
       "RandomizedSearchCV(cv=10,\n",
       "                   estimator=XGBRegressor(base_score=0.5, booster='gbtree',\n",
       "                                          colsample_bylevel=1,\n",
       "                                          colsample_bynode=1,\n",
       "                                          colsample_bytree=1, gamma=0,\n",
       "                                          gpu_id=-1, importance_type='gain',\n",
       "                                          interaction_constraints='',\n",
       "                                          learning_rate=0.1, max_delta_step=0,\n",
       "                                          max_depth=2, min_child_weight=3,\n",
       "                                          missing=nan,\n",
       "                                          monotone_constraints='()',\n",
       "                                          n_estimators=500, n_jobs=4,\n",
       "                                          num_parallel_t...\n",
       "                   n_jobs=-1,\n",
       "                   param_distributions={'colsample_bytree': [0.1, 0.5, 0.7, 1],\n",
       "                                        'gamma': [0.01, 0.001, 0, 0.1, 0.01,\n",
       "                                                  0.5, 1],\n",
       "                                        'learning_rate': [0.01, 0.05, 0.1, 1],\n",
       "                                        'max_depth': [2, 3, 5, 10],\n",
       "                                        'min_child_weight': [0, 1, 3],\n",
       "                                        'n_estimators': [100, 150, 200, 500],\n",
       "                                        'reg_alpha': [1e-05, 0.001, 0.1, 1,\n",
       "                                                      10.0],\n",
       "                                        'reg_lambda': [0, 1, 10],\n",
       "                                        'subsample': [0.2, 0.3, 0.5, 1]},\n",
       "                   return_train_score=True, scoring='r2', verbose=1)"
      ]
     },
     "execution_count": 38,
     "metadata": {},
     "output_type": "execute_result"
    }
   ],
   "source": [
    "#To find best XGBoost Parameters\n",
    "params={ 'learning_rate'   : [0.01,0.05,0.1,1] ,\n",
    "         'max_depth'       : [2,3,5,10],\n",
    "         'min_child_weight': [ 0, 1, 3],\n",
    "         'n_estimators'    : [100,150,200,500],\n",
    "         'gamma'           : [1e-2,1e-3,0,0.1,0.01,0.5,1],\n",
    "         'colsample_bytree': [0.1,0.5,0.7,1],\n",
    "         'subsample'       : [0.2,0.3,0.5,1],\n",
    "         'reg_lambda'      : [0,1,10],\n",
    "         'reg_alpha'       : [1e-5,1e-3,1e-1,1,1e1] \n",
    "        }\n",
    "\n",
    "# Optimize the Hyperparameter using RandomizedSearchCV\n",
    "# Using Random search of parameters with 10 fold cross validation\n",
    "# Improve the predictions using cross validation to optimize the parameters\n",
    "# cv=10 - Number of folds in a `(Stratified)KFold`\n",
    "from sklearn.model_selection import RandomizedSearchCV\n",
    "Random_Search=RandomizedSearchCV (pca_xgb_reg_model[0],params,cv=10, scoring='r2', return_train_score=True, n_jobs=-1,verbose=1) \n",
    "\n",
    "#Fit the training set to the Randon_Search to obtain the best estimators and parameters.\n",
    "Random_Search.fit(pca_train_train,Y_train)"
   ]
  },
  {
   "cell_type": "code",
   "execution_count": 39,
   "metadata": {},
   "outputs": [
    {
     "data": {
      "text/plain": [
       "XGBRegressor(base_score=0.5, booster='gbtree', colsample_bylevel=1,\n",
       "             colsample_bynode=1, colsample_bytree=0.5, gamma=0.01, gpu_id=-1,\n",
       "             importance_type='gain', interaction_constraints='',\n",
       "             learning_rate=0.05, max_delta_step=0, max_depth=3,\n",
       "             min_child_weight=3, missing=nan, monotone_constraints='()',\n",
       "             n_estimators=200, n_jobs=4, num_parallel_tree=1, random_state=2,\n",
       "             reg_alpha=10.0, reg_lambda=1, scale_pos_weight=1, seed=2,\n",
       "             subsample=0.3, tree_method='exact', validate_parameters=1,\n",
       "             verbosity=None)"
      ]
     },
     "execution_count": 39,
     "metadata": {},
     "output_type": "execute_result"
    }
   ],
   "source": [
    "# Print the best estimator\n",
    "Random_Search.best_estimator_"
   ]
  },
  {
   "cell_type": "markdown",
   "metadata": {},
   "source": [
    "<h4>Apply Best Parameters and Retry XGB"
   ]
  },
  {
   "cell_type": "code",
   "execution_count": 40,
   "metadata": {},
   "outputs": [
    {
     "data": {
      "text/plain": [
       "[XGBRegressor(base_score=0.5, booster='gbtree', colsample_bylevel=1,\n",
       "              colsample_bynode=1, colsample_bytree=1, gamma=0, gpu_id=-1,\n",
       "              importance_type='gain', interaction_constraints='',\n",
       "              learning_rate=0.05, max_delta_step=0, max_depth=5,\n",
       "              min_child_weight=1, missing=1, monotone_constraints='()',\n",
       "              n_estimators=100, n_jobs=4, num_parallel_tree=1, random_state=2,\n",
       "              reg_alpha=1e-05, reg_lambda=10, scale_pos_weight=1, seed=2,\n",
       "              subsample=1, tree_method='exact', validate_parameters=1,\n",
       "              verbosity=None),\n",
       " '7.22',\n",
       " '0.67',\n",
       " '8.88',\n",
       " '0.51']"
      ]
     },
     "execution_count": 40,
     "metadata": {},
     "output_type": "execute_result"
    }
   ],
   "source": [
    "pca_xgb_reg_best_param = XGBRegressor(base_score=0.5, booster='gbtree', colsample_bylevel=1,\n",
    "             colsample_bynode=1, colsample_bytree=1, gamma=0, gpu_id=-1,\n",
    "             importance_type='gain', interaction_constraints='',\n",
    "             learning_rate=0.05, max_delta_step=0, max_depth=5,\n",
    "             min_child_weight=1, missing=1, monotone_constraints='()',\n",
    "             n_estimators=100, n_jobs=4, num_parallel_tree=1, random_state=2,\n",
    "             reg_alpha=1e-05, reg_lambda=10, scale_pos_weight=1, seed=2,\n",
    "             subsample=1, tree_method='exact', validate_parameters=1,\n",
    "             verbosity=None)\n",
    "pca_xgb_reg_best_param = model_fit_transform_accuracy(pca_xgb_reg_best_param, pca_train_train, Y_train, pca_train_test, Y_test)\n",
    "pca_xgb_reg_best_param"
   ]
  },
  {
   "cell_type": "markdown",
   "metadata": {},
   "source": [
    "# Applying PCA only on Binary features and merging with Categorical features"
   ]
  },
  {
   "cell_type": "markdown",
   "metadata": {},
   "source": [
    "### Splitting Categorical values from Train/Validation and Final prediction data"
   ]
  },
  {
   "cell_type": "code",
   "execution_count": 41,
   "metadata": {},
   "outputs": [],
   "source": [
    "#X_train, X_test, Y_train, Y_test\n",
    "X_train_categ_features = X_train[categorical_objects]\n",
    "X_test_categ_features = X_test[categorical_objects]\n",
    "final_test_categ_features = test_data_features[categorical_objects]\n",
    "\n",
    "X_train_binary = X_train.drop(categorical_objects, axis=1)\n",
    "X_test_binary = X_test.drop(categorical_objects, axis=1)\n",
    "final_test_binary = test_data_features.drop(categorical_objects, axis=1)"
   ]
  },
  {
   "cell_type": "code",
   "execution_count": 42,
   "metadata": {},
   "outputs": [],
   "source": [
    "X_train_categ_features = X_train_categ_features.reset_index(drop=True)\n",
    "X_test_categ_features = X_test_categ_features.reset_index(drop=True)\n",
    "final_test_categ_features = final_test_categ_features.reset_index(drop=True)\n",
    "X_train_binary = X_train_binary.reset_index(drop=True)\n",
    "X_test_binary = X_test_binary.reset_index(drop=True)\n",
    "final_test_binary = final_test_binary.reset_index(drop=True)"
   ]
  },
  {
   "cell_type": "code",
   "execution_count": 43,
   "metadata": {},
   "outputs": [
    {
     "name": "stdout",
     "output_type": "stream",
     "text": [
      "X_train_categ_features dataset shape =  (3356, 8)\n",
      "X_test_categ_features dataset shape =  (840, 8)\n",
      "final_test_categ_features dataset shape =  (4184, 8)\n",
      "X_train_binary dataset shape =  (3356, 351)\n",
      "X_test_binary dataset shape =  (840, 351)\n",
      "final_test_binary dataset shape =  (4184, 351)\n"
     ]
    }
   ],
   "source": [
    "print('X_train_categ_features dataset shape = ', X_train_categ_features.shape)\n",
    "print('X_test_categ_features dataset shape = ', X_test_categ_features.shape)\n",
    "print('final_test_categ_features dataset shape = ', final_test_categ_features.shape)\n",
    "print('X_train_binary dataset shape = ', X_train_binary.shape)\n",
    "print('X_test_binary dataset shape = ', X_test_binary.shape)\n",
    "print('final_test_binary dataset shape = ', final_test_binary.shape)"
   ]
  },
  {
   "cell_type": "code",
   "execution_count": 44,
   "metadata": {},
   "outputs": [
    {
     "name": "stdout",
     "output_type": "stream",
     "text": [
      "PCA Binary Train shape :  (3356, 71) DType :  <class 'numpy.ndarray'>\n",
      "PCA Binary Test (Train) shape :  (840, 71) DType :  <class 'numpy.ndarray'>\n",
      "PCA Binary Actual Test shape :  (4184, 71) DType :  <class 'numpy.ndarray'>\n"
     ]
    }
   ],
   "source": [
    "#%_bin => Binary\n",
    "#%_cat => Categorical\n",
    "#%_bin_cat => (PCA)Binary + Categorical\n",
    "\n",
    "n_comp_bin = .95\n",
    "pca = PCA(n_components=n_comp_bin, random_state=420)\n",
    "pca_train_train_bin = pca.fit_transform(X_train_binary)\n",
    "pca_train_test_bin = pca.transform(X_test_binary)\n",
    "pca_test_test_bin = pca.transform(final_test_binary)\n",
    "print(\"PCA Binary Train shape : \", pca_train_train_bin.shape, \"DType : \", type(pca_train_train_bin))\n",
    "print(\"PCA Binary Test (Train) shape : \", pca_train_test_bin.shape, \"DType : \", type(pca_train_test_bin))\n",
    "print(\"PCA Binary Actual Test shape : \", pca_test_test_bin.shape, \"DType : \", type(pca_test_test_bin))"
   ]
  },
  {
   "cell_type": "markdown",
   "metadata": {},
   "source": [
    "### Converting Array to DataFrame for merging Binary to Categorical"
   ]
  },
  {
   "cell_type": "code",
   "execution_count": 45,
   "metadata": {},
   "outputs": [],
   "source": [
    "pca_train_train_bin = pd.DataFrame(pca_train_train_bin)\n",
    "pca_train_test_bin = pd.DataFrame(pca_train_test_bin)\n",
    "pca_test_test_bin = pd.DataFrame(pca_test_test_bin)"
   ]
  },
  {
   "cell_type": "code",
   "execution_count": 46,
   "metadata": {},
   "outputs": [
    {
     "name": "stdout",
     "output_type": "stream",
     "text": [
      "PCA Binary Train shape :  (3356, 71) DType :  <class 'pandas.core.frame.DataFrame'>\n",
      "PCA Binary Test (Train) shape :  (840, 71) DType :  <class 'pandas.core.frame.DataFrame'>\n",
      "PCA Binary Actual Test shape :  (4184, 71) DType :  <class 'pandas.core.frame.DataFrame'>\n"
     ]
    }
   ],
   "source": [
    "print(\"PCA Binary Train shape : \", pca_train_train_bin.shape, \"DType : \", type(pca_train_train_bin))\n",
    "print(\"PCA Binary Test (Train) shape : \", pca_train_test_bin.shape, \"DType : \", type(pca_train_test_bin))\n",
    "print(\"PCA Binary Actual Test shape : \", pca_test_test_bin.shape, \"DType : \", type(pca_test_test_bin))"
   ]
  },
  {
   "cell_type": "markdown",
   "metadata": {},
   "source": [
    "### Concat Binary and Categorical features"
   ]
  },
  {
   "cell_type": "code",
   "execution_count": 47,
   "metadata": {},
   "outputs": [
    {
     "name": "stdout",
     "output_type": "stream",
     "text": [
      "PCA Binary & Categorical Train shape :  (3356, 79) DType :  <class 'pandas.core.frame.DataFrame'>\n",
      "PCA Binary & Categorical Test (Train) shape :  (840, 79) DType :  <class 'pandas.core.frame.DataFrame'>\n",
      "PCA Binary & Categorical Actual Test shape :  (4184, 79) DType :  <class 'pandas.core.frame.DataFrame'>\n"
     ]
    }
   ],
   "source": [
    "X_train_pca_bin_cat = pd.concat([X_train_categ_features, pca_train_train_bin],axis=1)\n",
    "X_test_pca_bin_cat =  pd.concat([X_test_categ_features, pca_train_test_bin],axis=1)\n",
    "final_test_pca_bin_cat = pd.concat([final_test_categ_features, pca_test_test_bin],axis=1)\n",
    "print(\"PCA Binary & Categorical Train shape : \", X_train_pca_bin_cat.shape, \"DType : \", type(X_train_pca_bin_cat))\n",
    "print(\"PCA Binary & Categorical Test (Train) shape : \", X_test_pca_bin_cat.shape, \"DType : \", type(X_test_pca_bin_cat))\n",
    "print(\"PCA Binary & Categorical Actual Test shape : \", final_test_pca_bin_cat.shape, \"DType : \", type(final_test_pca_bin_cat))"
   ]
  },
  {
   "cell_type": "markdown",
   "metadata": {},
   "source": [
    "<h4>Linear Regression"
   ]
  },
  {
   "cell_type": "code",
   "execution_count": 48,
   "metadata": {},
   "outputs": [
    {
     "data": {
      "text/plain": [
       "[LinearRegression(), '8.38', '0.56', '8.59', '0.54']"
      ]
     },
     "execution_count": 48,
     "metadata": {},
     "output_type": "execute_result"
    }
   ],
   "source": [
    "lin_model_pca_bin_cat = LinearRegression()\n",
    "lin_model_pca_bin_cat = model_fit_transform_accuracy(lin_model_pca_bin_cat, X_train_pca_bin_cat, Y_train, X_test_pca_bin_cat, Y_test)\n",
    "lin_model_pca_bin_cat"
   ]
  },
  {
   "cell_type": "markdown",
   "metadata": {},
   "source": [
    "<h4>Ridge Regression"
   ]
  },
  {
   "cell_type": "code",
   "execution_count": 49,
   "metadata": {},
   "outputs": [
    {
     "data": {
      "text/plain": [
       "[Ridge(alpha=0.001, normalize=True), '8.38', '0.56', '8.59', '0.54']"
      ]
     },
     "execution_count": 49,
     "metadata": {},
     "output_type": "execute_result"
    }
   ],
   "source": [
    "ridge_model_pca_bin_cat = Ridge(alpha=0.001, normalize=True)\n",
    "ridge_model_pca_bin_cat = model_fit_transform_accuracy(ridge_model_pca_bin_cat, X_train_pca_bin_cat, Y_train, X_test_pca_bin_cat, Y_test)\n",
    "ridge_model_pca_bin_cat"
   ]
  },
  {
   "cell_type": "markdown",
   "metadata": {},
   "source": [
    "<h4>Lasso Regression"
   ]
  },
  {
   "cell_type": "code",
   "execution_count": 50,
   "metadata": {},
   "outputs": [
    {
     "data": {
      "text/plain": [
       "[Lasso(alpha=0.001, max_iter=10000, normalize=True),\n",
       " '8.40',\n",
       " '0.55',\n",
       " '8.61',\n",
       " '0.54']"
      ]
     },
     "execution_count": 50,
     "metadata": {},
     "output_type": "execute_result"
    }
   ],
   "source": [
    "lasso_model_pca_bin_cat = Lasso(alpha=0.001, normalize=True,max_iter = 10000)\n",
    "lasso_model_pca_bin_cat = model_fit_transform_accuracy(lasso_model_pca_bin_cat, X_train_pca_bin_cat, Y_train, X_test_pca_bin_cat, Y_test)\n",
    "lasso_model_pca_bin_cat"
   ]
  },
  {
   "cell_type": "markdown",
   "metadata": {},
   "source": [
    "<h4>XGBRegressor"
   ]
  },
  {
   "cell_type": "code",
   "execution_count": 51,
   "metadata": {},
   "outputs": [
    {
     "data": {
      "text/plain": [
       "[XGBRegressor(base_score=0.5, booster='gbtree', colsample_bylevel=1,\n",
       "              colsample_bynode=1, colsample_bytree=1, gamma=0, gpu_id=-1,\n",
       "              importance_type='gain', interaction_constraints='',\n",
       "              learning_rate=0.1, max_delta_step=0, max_depth=2,\n",
       "              min_child_weight=3, missing=nan, monotone_constraints='()',\n",
       "              n_estimators=500, n_jobs=4, num_parallel_tree=1, random_state=2,\n",
       "              reg_alpha=0, reg_lambda=10, scale_pos_weight=1, seed=2,\n",
       "              subsample=1, tree_method='exact', validate_parameters=1,\n",
       "              verbosity=None),\n",
       " '6.86',\n",
       " '0.70',\n",
       " '8.58',\n",
       " '0.54']"
      ]
     },
     "execution_count": 51,
     "metadata": {},
     "output_type": "execute_result"
    }
   ],
   "source": [
    "xgb_reg_model_pca_bin_cat = XGBRegressor(n_estimators=500,booster='gbtree',learning_rate=0.1,importance_type='gain',max_delta_step=0, max_depth=2,min_child_weight=3,objective='reg:squarederror',reg_lambda=10,seed=2)\n",
    "xgb_reg_model_pca_bin_cat = model_fit_transform_accuracy(xgb_reg_model_pca_bin_cat, X_train_pca_bin_cat, Y_train, X_test_pca_bin_cat, Y_test)\n",
    "xgb_reg_model_pca_bin_cat"
   ]
  },
  {
   "cell_type": "markdown",
   "metadata": {},
   "source": [
    "<h4>XGBRegressor with Bes Params"
   ]
  },
  {
   "cell_type": "code",
   "execution_count": 52,
   "metadata": {},
   "outputs": [
    {
     "name": "stdout",
     "output_type": "stream",
     "text": [
      "Fitting 10 folds for each of 10 candidates, totalling 100 fits\n"
     ]
    },
    {
     "data": {
      "text/plain": [
       "XGBRegressor(base_score=0.5, booster='gbtree', colsample_bylevel=1,\n",
       "             colsample_bynode=1, colsample_bytree=1, gamma=0.1, gpu_id=-1,\n",
       "             importance_type='gain', interaction_constraints='',\n",
       "             learning_rate=0.01, max_delta_step=0, max_depth=3,\n",
       "             min_child_weight=0, missing=nan, monotone_constraints='()',\n",
       "             n_estimators=500, n_jobs=4, num_parallel_tree=1, random_state=2,\n",
       "             reg_alpha=1, reg_lambda=10, scale_pos_weight=1, seed=2,\n",
       "             subsample=0.3, tree_method='exact', validate_parameters=1,\n",
       "             verbosity=None)"
      ]
     },
     "execution_count": 52,
     "metadata": {},
     "output_type": "execute_result"
    }
   ],
   "source": [
    "#To find best XGBoost Parameters\n",
    "params={ 'learning_rate'   : [0.01,0.05,0.1,1] ,\n",
    "         'max_depth'       : [2,3,5,10],\n",
    "         'min_child_weight': [ 0, 1, 3],\n",
    "         'n_estimators'    : [100,150,200,500],\n",
    "         'gamma'           : [1e-2,1e-3,0,0.1,0.01,0.5,1],\n",
    "         'colsample_bytree': [0.1,0.5,0.7,1],\n",
    "         'subsample'       : [0.2,0.3,0.5,1],\n",
    "         'reg_lambda'      : [0,1,10],\n",
    "         'reg_alpha'       : [1e-5,1e-3,1e-1,1,1e1] \n",
    "        }\n",
    "\n",
    "# Optimize the Hyperparameter using RandomizedSearchCV\n",
    "from sklearn.model_selection import RandomizedSearchCV\n",
    "# Using Random search of parameters with 10 fold cross validation\n",
    "# Improve the predictions using cross validation to optimize the parameters\n",
    "Random_Search=RandomizedSearchCV (xgb_reg_model_pca_bin_cat[0],params,cv=10, scoring='r2', return_train_score=True, n_jobs=-1,verbose=1) \n",
    "# cv=10 - Number of folds in a `(Stratified)KFold`\n",
    "#Fit the training set to the Randon_Search to obtain the best estimators and parameters.\n",
    "Random_Search.fit(X_train_pca_bin_cat,Y_train)\n",
    "# Print the best estimator\n",
    "Random_Search.best_estimator_"
   ]
  },
  {
   "cell_type": "code",
   "execution_count": 53,
   "metadata": {},
   "outputs": [
    {
     "data": {
      "text/plain": [
       "[XGBRegressor(base_score=0.5, booster='gbtree', colsample_bylevel=1,\n",
       "              colsample_bynode=1, colsample_bytree=0.7, gamma=0.01, gpu_id=-1,\n",
       "              importance_type='gain', interaction_constraints='',\n",
       "              learning_rate=0.05, max_delta_step=0, max_depth=3,\n",
       "              min_child_weight=0, missing=1, monotone_constraints='()',\n",
       "              n_estimators=100, n_jobs=4, num_parallel_tree=1, random_state=2,\n",
       "              reg_alpha=0.001, reg_lambda=1, scale_pos_weight=1, seed=2,\n",
       "              subsample=1, tree_method='exact', validate_parameters=1,\n",
       "              verbosity=None),\n",
       " '8.02',\n",
       " '0.59',\n",
       " '8.80',\n",
       " '0.52']"
      ]
     },
     "execution_count": 53,
     "metadata": {},
     "output_type": "execute_result"
    }
   ],
   "source": [
    "xgb_reg_pca_bin_cat_best_param = XGBRegressor(base_score=0.5, booster='gbtree', colsample_bylevel=1,\n",
    "             colsample_bynode=1, colsample_bytree=0.7, gamma=0.01, gpu_id=-1,\n",
    "             importance_type='gain', interaction_constraints='',\n",
    "             learning_rate=0.05, max_delta_step=0, max_depth=3,\n",
    "             min_child_weight=0, missing=1, monotone_constraints='()',\n",
    "             n_estimators=100, n_jobs=4, num_parallel_tree=1, random_state=2,\n",
    "             reg_alpha=0.001, reg_lambda=1, scale_pos_weight=1, seed=2,\n",
    "             subsample=1, tree_method='exact', validate_parameters=1,\n",
    "             verbosity=None)\n",
    "\n",
    "xgb_reg_pca_bin_cat_best_param = model_fit_transform_accuracy(xgb_reg_pca_bin_cat_best_param, X_train_pca_bin_cat, Y_train, X_test_pca_bin_cat, Y_test)\n",
    "xgb_reg_pca_bin_cat_best_param"
   ]
  },
  {
   "cell_type": "markdown",
   "metadata": {},
   "source": [
    "## Overall Summary"
   ]
  },
  {
   "cell_type": "code",
   "execution_count": 59,
   "metadata": {},
   "outputs": [
    {
     "data": {
      "text/html": [
       "<html><STYLE TYPE='text/css'> <!-- TD{font-family: Courier New; font-size: 10pt;} TH{font-family: Courier New; font-size: 10pt; color: white; background-color: #1E90FF;} ---> </STYLE></head><body><font face='courier new' size='2'><br><br></body></html> <table border='2' BORDERCOLOR='#495531'> <tr><th rowspan=2>Dimensionality Reduction</th><th rowspan=2>Model</th><th colspan=2>Train</th><th colspan=2>Validation</th></tr> <tr><th>RMSE</th><th>R2 Score</th><th>RMSE</th><th>R2 Score</th></tr> <tr align='center'><th rowspan=5>Regression without PCA</td><th>Linear Regression</th><td>8.05</td><td>0.59</td><td>8441095233.52</td><td>-446186765158222656.00</td></tr> <tr align='center'><th>Ridge Regression</td><td>8.06</td><td>0.59</td><td>8.70</td><td>0.53</td></tr> <tr align='center'><th>Lasso Regression</td><td>8.17</td><td>0.58</td><td>8.44</td><td>0.55</td></tr> <tr align='center'><th>XGB Regressor</td><td>7.76</td><td>0.62</td><td>8.30</td><td>0.57</td></tr> <tr align='center'><th>XGBRegressor <br> with best param</td><td>7.99</td><td>0.60</td><td>8.22</td><td>0.58</td></tr> <tr align='center'><th rowspan=5>PCA with 150 Components</th><th>Linear Regression</td><td>8.16</td><td>0.58</td><td>8.54</td><td>0.54</td></tr> <tr align='center'><th>Ridge Regression</th><td>8.16</td><td>0.58</td><td>8.54</td><td>0.54</td></tr> <tr align='center'><th>Lasso Regression</th><td>8.18</td><td>0.58</td><td>8.49</td><td>0.55</td></tr> <tr align='center'><th>XGB Regressor</th><td>6.59</td><td>0.73</td><td>8.63</td><td>0.53</td></tr> <tr align='center'><th>XGBRegressor <br> with best param</th><td>7.22</td><td>0.67</td><td>8.88</td><td>0.51</td></tr> <tr align='center'><th rowspan=5>PCA only on Binary features<br> and merging with <br>Categorical features</th><th>Linear Regression</th><td>8.38</td><td>0.56</td><td>8.59</td><td>0.54</td></tr> <tr align='center'><th>Ridge Regression</th><td>8.38</td><td>0.56</td><td>8.59</td><td>0.54</td></tr> <tr align='center'><th>Lasso Regression</th><td>8.40</td><td>0.55</td><td>8.61</td><td>0.54</td></tr> <tr align='center'><th>XGB Regressor</th><td>6.86</td><td>0.70</td><td>8.58</td><td>0.54</td></tr> <tr align='center'><th>XGBRegressor Best Param</th><td>8.02</td><td>0.59</td><td>8.80</td><td>0.52</td></tr> <table></body></html>"
      ],
      "text/plain": [
       "<IPython.core.display.HTML object>"
      ]
     },
     "metadata": {},
     "output_type": "display_data"
    }
   ],
   "source": [
    "from IPython.display import HTML, display\n",
    "summary=\"<html><STYLE TYPE='text/css'> <!-- TD{font-family: Courier New; font-size: 10pt;} TH{font-family: Courier New; font-size: 10pt; color: white; background-color: #1E90FF;} ---> </STYLE></head><body><font face='courier new' size='2'><br><br></body></html> <table border='2' BORDERCOLOR='#495531'> \\\n",
    "<tr><th rowspan=2>Dimensionality Reduction</th><th rowspan=2>Model</th><th colspan=2>Train</th><th colspan=2>Validation</th></tr> \\\n",
    "<tr><th>RMSE</th><th>R2 Score</th><th>RMSE</th><th>R2 Score</th></tr> \\\n",
    "<tr align='center'><th rowspan=5>Regression without PCA</td><th>Linear Regression</th><td>\"+ initial_lin_model[1] +\"</td><td>\"+ initial_lin_model[2] +\"</td><td>\"+ initial_lin_model[3] +\"</td><td>\"+ initial_lin_model[4] +\"</td></tr> \\\n",
    "<tr align='center'><th>Ridge Regression</td><td>\"+ initial_ridge_model[1] +\"</td><td>\"+ initial_ridge_model[2] +\"</td><td>\"+ initial_ridge_model[3] +\"</td><td>\"+ initial_ridge_model[4] +\"</td></tr> \\\n",
    "<tr align='center'><th>Lasso Regression</td><td>\"+ initial_lasso_model[1] +\"</td><td>\"+ initial_lasso_model[2] +\"</td><td>\"+ initial_lasso_model[3] +\"</td><td>\"+ initial_lasso_model[4] +\"</td></tr> \\\n",
    "<tr align='center'><th>XGB Regressor</td><td>\"+ initial_xgb_reg_model[1] +\"</td><td>\"+ initial_xgb_reg_model[2] +\"</td><td>\"+ initial_xgb_reg_model[3] +\"</td><td>\"+ initial_xgb_reg_model[4] +\"</td></tr> \\\n",
    "<tr align='center'><th>XGBRegressor <br> with best param</td><td>\"+ initial_xgb_reg_best_param[1] +\"</td><td>\"+ initial_xgb_reg_best_param[2] +\"</td><td>\"+ initial_xgb_reg_best_param[3] +\"</td><td>\"+ initial_xgb_reg_best_param[4] +\"</td></tr> \\\n",
    "<tr align='center'><th rowspan=5>PCA with \"+ str(round(n_comp, 2)) + \" Components</th><th>Linear Regression</td><td>\"+ pca_lin_model[1] +\"</td><td>\"+ pca_lin_model[2] +\"</td><td>\"+ pca_lin_model[3] +\"</td><td>\"+ pca_lin_model[4] +\"</td></tr> \\\n",
    "<tr align='center'><th>Ridge Regression</th><td>\"+ pca_ridge_model[1] +\"</td><td>\"+ pca_ridge_model[2] +\"</td><td>\"+ pca_ridge_model[3] +\"</td><td>\"+ pca_ridge_model[4] +\"</td></tr> \\\n",
    "<tr align='center'><th>Lasso Regression</th><td>\"+ pca_lasso_model[1] +\"</td><td>\"+ pca_lasso_model[2] +\"</td><td>\"+ pca_lasso_model[3] +\"</td><td>\"+ pca_lasso_model[4] +\"</td></tr> \\\n",
    "<tr align='center'><th>XGB Regressor</th><td>\"+ pca_xgb_reg_model[1] +\"</td><td>\"+ pca_xgb_reg_model[2] +\"</td><td>\"+ pca_xgb_reg_model[3] +\"</td><td>\"+ pca_xgb_reg_model[4] +\"</td></tr> \\\n",
    "<tr align='center'><th>XGBRegressor <br> with best param</th><td>\"+ pca_xgb_reg_best_param[1] +\"</td><td>\"+ pca_xgb_reg_best_param[2] +\"</td><td>\"+ pca_xgb_reg_best_param[3] +\"</td><td>\"+ pca_xgb_reg_best_param[4] +\"</td></tr> \\\n",
    "<tr align='center'><th rowspan=5>PCA only on Binary features<br> and merging with <br>Categorical features</th><th>Linear Regression</th><td>\"+ lin_model_pca_bin_cat[1] +\"</td><td>\"+ lin_model_pca_bin_cat[2] +\"</td><td>\"+ lin_model_pca_bin_cat[3] +\"</td><td>\"+ lin_model_pca_bin_cat[4] +\"</td></tr> \\\n",
    "<tr align='center'><th>Ridge Regression</th><td>\"+ ridge_model_pca_bin_cat[1] +\"</td><td>\"+ ridge_model_pca_bin_cat[2] +\"</td><td>\"+ ridge_model_pca_bin_cat[3] +\"</td><td>\"+ ridge_model_pca_bin_cat[4] +\"</td></tr> \\\n",
    "<tr align='center'><th>Lasso Regression</th><td>\"+ lasso_model_pca_bin_cat[1] +\"</td><td>\"+ lasso_model_pca_bin_cat[2] +\"</td><td>\"+ lasso_model_pca_bin_cat[3] +\"</td><td>\"+ lasso_model_pca_bin_cat[4] +\"</td></tr> \\\n",
    "<tr align='center'><th>XGB Regressor</th><td>\"+ xgb_reg_model_pca_bin_cat[1] +\"</td><td>\"+ xgb_reg_model_pca_bin_cat[2] +\"</td><td>\"+ xgb_reg_model_pca_bin_cat[3] +\"</td><td>\"+ xgb_reg_model_pca_bin_cat[4] +\"</td></tr> \\\n",
    "<tr align='center'><th>XGBRegressor Best Param</th><td>\"+ xgb_reg_pca_bin_cat_best_param[1] +\"</td><td>\"+ xgb_reg_pca_bin_cat_best_param[2] +\"</td><td>\"+ xgb_reg_pca_bin_cat_best_param[3] +\"</td><td>\"+ xgb_reg_pca_bin_cat_best_param[4] +\"</td></tr> \\\n",
    "<table></body></html>\"\n",
    "display(HTML(summary))"
   ]
  },
  {
   "cell_type": "markdown",
   "metadata": {},
   "source": [
    "# Predict Y using all above models"
   ]
  },
  {
   "cell_type": "code",
   "execution_count": 55,
   "metadata": {},
   "outputs": [],
   "source": [
    "initial_lin_model_y = initial_lin_model[0].predict(test_data_features)\n",
    "initial_ridge_model_y = initial_ridge_model[0].predict(test_data_features)\n",
    "initial_lasso_model_y = initial_lasso_model[0].predict(test_data_features)\n",
    "initial_xgb_reg_model_y = initial_xgb_reg_model[0].predict(test_data_features)\n",
    "initial_xgb_reg_bestparam_y = initial_xgb_reg_best_param[0].predict(test_data_features)\n",
    "pca_lin_model_y = pca_lin_model[0].predict(pca_test_test)\n",
    "pca_ridge_model_y = pca_ridge_model[0].predict(pca_test_test)\n",
    "pca_lasso_model_y = pca_lasso_model[0].predict(pca_test_test)\n",
    "pca_xgb_reg_model_y = pca_xgb_reg_model[0].predict(pca_test_test)\n",
    "pca_xgb_reg_bestparam_y = pca_xgb_reg_best_param[0].predict(pca_test_test)\n",
    "pca_bin_cat_lin_model_y = lin_model_pca_bin_cat[0].predict(final_test_pca_bin_cat)\n",
    "pca_bin_cat_ridge_model_y = ridge_model_pca_bin_cat[0].predict(final_test_pca_bin_cat)\n",
    "pca_bin_cat_lasso_model_y = lasso_model_pca_bin_cat[0].predict(final_test_pca_bin_cat)\n",
    "pca_bin_cat_xgb_reg_model_y = xgb_reg_model_pca_bin_cat[0].predict(final_test_pca_bin_cat)\n",
    "pca_bin_cat_xgb_reg_bestparam_y = xgb_reg_pca_bin_cat_best_param[0].predict(final_test_pca_bin_cat)"
   ]
  },
  {
   "cell_type": "code",
   "execution_count": 56,
   "metadata": {},
   "outputs": [
    {
     "data": {
      "image/png": "[encoded data removed]",
      "text/plain": [
       "<Figure size 2160x1080 with 15 Axes>"
      ]
     },
     "metadata": {
      "needs_background": "light"
     },
     "output_type": "display_data"
    }
   ],
   "source": [
    "fig, ((ax1,ax2,ax3,ax4,ax5),(ax6,ax7,ax8,ax9,ax10),(ax11,ax12,ax13,ax14,ax15)) = plt.subplots(nrows=3, ncols=5, figsize=(30, 15))\n",
    "fig.tight_layout()\n",
    "ax1.scatter(range(initial_lin_model_y.shape[0]), np.sort(initial_lin_model_y))\n",
    "ax1.set_title(\"Linear Regression-All Dataset\")\n",
    "\n",
    "ax2.scatter(range(initial_ridge_model_y.shape[0]), np.sort(initial_ridge_model_y))\n",
    "ax2.set_title(\"Ridge Regression-All Dataset\")\n",
    "\n",
    "ax3.scatter(range(initial_lasso_model_y.shape[0]), np.sort(initial_lasso_model_y))\n",
    "ax3.set_title(\"Lasso Regression-All Dataset\")\n",
    "\n",
    "ax4.scatter(range(initial_xgb_reg_model_y.shape[0]), np.sort(initial_xgb_reg_model_y))\n",
    "ax4.set_title(\"XGB Regression-All Dataset\")\n",
    "\n",
    "ax5.scatter(range(initial_xgb_reg_bestparam_y.shape[0]), np.sort(initial_xgb_reg_bestparam_y))\n",
    "ax5.set_title(\"XGB Reg Best Param -All Dataset\")\n",
    "\n",
    "ax6.scatter(range(pca_lin_model_y.shape[0]), np.sort(pca_lin_model_y))\n",
    "ax6.set_title(\"Linear Regression-PCA on all Dataset\")\n",
    "\n",
    "ax7.scatter(range(pca_ridge_model_y.shape[0]), np.sort(pca_ridge_model_y))\n",
    "ax7.set_title(\"Ridge Regression-PCA on all Dataset\")\n",
    "\n",
    "ax8.scatter(range(pca_lasso_model_y.shape[0]), np.sort(pca_lasso_model_y))\n",
    "ax8.set_title(\"Lasso Regression-PCA on all Dataset\")\n",
    "\n",
    "ax9.scatter(range(pca_xgb_reg_model_y.shape[0]), np.sort(pca_xgb_reg_model_y))\n",
    "ax9.set_title(\"XGB Regression-PCA on all Dataset\")\n",
    "\n",
    "ax10.scatter(range(pca_xgb_reg_bestparam_y.shape[0]), np.sort(pca_xgb_reg_bestparam_y))\n",
    "ax10.set_title(\"XGB Reg Best Param-PCA on all Dataset)\")\n",
    "\n",
    "ax11.scatter(range(pca_bin_cat_lin_model_y.shape[0]), np.sort(pca_bin_cat_lin_model_y))\n",
    "ax11.set_title(\"Linear Regression-Categorical + PCA on Binary\")\n",
    "\n",
    "ax12.scatter(range(pca_bin_cat_ridge_model_y.shape[0]), np.sort(pca_bin_cat_ridge_model_y))\n",
    "ax12.set_title(\"Ridge Regression-Categorical + PCA on Binary\")\n",
    "\n",
    "ax13.scatter(range(pca_bin_cat_lasso_model_y.shape[0]), np.sort(pca_bin_cat_lasso_model_y))\n",
    "ax13.set_title(\"Lasso Regression-Categorical + PCA on Binary\")\n",
    "\n",
    "ax14.scatter(range(pca_bin_cat_xgb_reg_model_y.shape[0]), np.sort(pca_bin_cat_xgb_reg_model_y))\n",
    "ax14.set_title(\"XGB Regression-Categorical + PCA on Binary\")\n",
    "\n",
    "ax15.scatter(range(pca_bin_cat_xgb_reg_bestparam_y.shape[0]), np.sort(pca_bin_cat_xgb_reg_bestparam_y))\n",
    "ax15.set_title(\"XGB Best Param Reg-Categorical + PCA on Binary\")\n",
    "\n",
    "\n",
    "\n",
    "fig.subplots_adjust(wspace=0.10,hspace=0.2)\n",
    "\n",
    "plt.show()"
   ]
  },
  {
   "cell_type": "markdown",
   "metadata": {},
   "source": [
    "### Based on above regression models XGB Regression with PCA on all dataset looks best possible  (Row : 2, Column : 4)"
   ]
  },
  {
   "cell_type": "markdown",
   "metadata": {},
   "source": [
    "<h1>Applying Model on Test Data"
   ]
  },
  {
   "cell_type": "code",
   "execution_count": 57,
   "metadata": {},
   "outputs": [
    {
     "data": {
      "text/html": [
       "<div>\n",
       "<style scoped>\n",
       "    .dataframe tbody tr th:only-of-type {\n",
       "        vertical-align: middle;\n",
       "    }\n",
       "\n",
       "    .dataframe tbody tr th {\n",
       "        vertical-align: top;\n",
       "    }\n",
       "\n",
       "    .dataframe thead th {\n",
       "        text-align: right;\n",
       "    }\n",
       "</style>\n",
       "<table border=\"1\" class=\"dataframe\">\n",
       "  <thead>\n",
       "    <tr style=\"text-align: right;\">\n",
       "      <th></th>\n",
       "      <th>ID</th>\n",
       "      <th>X0</th>\n",
       "      <th>X1</th>\n",
       "      <th>X2</th>\n",
       "      <th>X3</th>\n",
       "      <th>X4</th>\n",
       "      <th>X5</th>\n",
       "      <th>X6</th>\n",
       "      <th>X8</th>\n",
       "      <th>X10</th>\n",
       "      <th>...</th>\n",
       "      <th>X376</th>\n",
       "      <th>X377</th>\n",
       "      <th>X378</th>\n",
       "      <th>X379</th>\n",
       "      <th>X380</th>\n",
       "      <th>X382</th>\n",
       "      <th>X383</th>\n",
       "      <th>X384</th>\n",
       "      <th>X385</th>\n",
       "      <th>y</th>\n",
       "    </tr>\n",
       "  </thead>\n",
       "  <tbody>\n",
       "    <tr>\n",
       "      <th>0</th>\n",
       "      <td>8</td>\n",
       "      <td>y</td>\n",
       "      <td>aa</td>\n",
       "      <td>ai</td>\n",
       "      <td>e</td>\n",
       "      <td>d</td>\n",
       "      <td>x</td>\n",
       "      <td>g</td>\n",
       "      <td>s</td>\n",
       "      <td>0</td>\n",
       "      <td>...</td>\n",
       "      <td>0</td>\n",
       "      <td>0</td>\n",
       "      <td>0</td>\n",
       "      <td>0</td>\n",
       "      <td>0</td>\n",
       "      <td>0</td>\n",
       "      <td>0</td>\n",
       "      <td>0</td>\n",
       "      <td>0</td>\n",
       "      <td>92.75</td>\n",
       "    </tr>\n",
       "    <tr>\n",
       "      <th>1</th>\n",
       "      <td>10</td>\n",
       "      <td>x</td>\n",
       "      <td>b</td>\n",
       "      <td>ae</td>\n",
       "      <td>d</td>\n",
       "      <td>d</td>\n",
       "      <td>x</td>\n",
       "      <td>d</td>\n",
       "      <td>y</td>\n",
       "      <td>0</td>\n",
       "      <td>...</td>\n",
       "      <td>0</td>\n",
       "      <td>0</td>\n",
       "      <td>0</td>\n",
       "      <td>0</td>\n",
       "      <td>1</td>\n",
       "      <td>0</td>\n",
       "      <td>0</td>\n",
       "      <td>0</td>\n",
       "      <td>0</td>\n",
       "      <td>114.42</td>\n",
       "    </tr>\n",
       "    <tr>\n",
       "      <th>2</th>\n",
       "      <td>11</td>\n",
       "      <td>f</td>\n",
       "      <td>s</td>\n",
       "      <td>ae</td>\n",
       "      <td>c</td>\n",
       "      <td>d</td>\n",
       "      <td>h</td>\n",
       "      <td>d</td>\n",
       "      <td>a</td>\n",
       "      <td>0</td>\n",
       "      <td>...</td>\n",
       "      <td>0</td>\n",
       "      <td>1</td>\n",
       "      <td>0</td>\n",
       "      <td>0</td>\n",
       "      <td>0</td>\n",
       "      <td>0</td>\n",
       "      <td>0</td>\n",
       "      <td>0</td>\n",
       "      <td>0</td>\n",
       "      <td>93.82</td>\n",
       "    </tr>\n",
       "    <tr>\n",
       "      <th>3</th>\n",
       "      <td>12</td>\n",
       "      <td>ap</td>\n",
       "      <td>l</td>\n",
       "      <td>s</td>\n",
       "      <td>c</td>\n",
       "      <td>d</td>\n",
       "      <td>h</td>\n",
       "      <td>j</td>\n",
       "      <td>n</td>\n",
       "      <td>0</td>\n",
       "      <td>...</td>\n",
       "      <td>0</td>\n",
       "      <td>0</td>\n",
       "      <td>0</td>\n",
       "      <td>0</td>\n",
       "      <td>0</td>\n",
       "      <td>0</td>\n",
       "      <td>0</td>\n",
       "      <td>0</td>\n",
       "      <td>0</td>\n",
       "      <td>117.27</td>\n",
       "    </tr>\n",
       "    <tr>\n",
       "      <th>4</th>\n",
       "      <td>14</td>\n",
       "      <td>o</td>\n",
       "      <td>v</td>\n",
       "      <td>as</td>\n",
       "      <td>f</td>\n",
       "      <td>d</td>\n",
       "      <td>g</td>\n",
       "      <td>f</td>\n",
       "      <td>v</td>\n",
       "      <td>0</td>\n",
       "      <td>...</td>\n",
       "      <td>0</td>\n",
       "      <td>0</td>\n",
       "      <td>0</td>\n",
       "      <td>0</td>\n",
       "      <td>0</td>\n",
       "      <td>0</td>\n",
       "      <td>0</td>\n",
       "      <td>0</td>\n",
       "      <td>0</td>\n",
       "      <td>97.57</td>\n",
       "    </tr>\n",
       "  </tbody>\n",
       "</table>\n",
       "<p>5 rows × 361 columns</p>\n",
       "</div>"
      ],
      "text/plain": [
       "   ID  X0  X1  X2 X3 X4 X5 X6 X8  X10  ...  X376  X377  X378  X379  X380  \\\n",
       "0   8   y  aa  ai  e  d  x  g  s    0  ...     0     0     0     0     0   \n",
       "1  10   x   b  ae  d  d  x  d  y    0  ...     0     0     0     0     1   \n",
       "2  11   f   s  ae  c  d  h  d  a    0  ...     0     1     0     0     0   \n",
       "3  12  ap   l   s  c  d  h  j  n    0  ...     0     0     0     0     0   \n",
       "4  14   o   v  as  f  d  g  f  v    0  ...     0     0     0     0     0   \n",
       "\n",
       "   X382  X383  X384  X385       y  \n",
       "0     0     0     0     0   92.75  \n",
       "1     0     0     0     0  114.42  \n",
       "2     0     0     0     0   93.82  \n",
       "3     0     0     0     0  117.27  \n",
       "4     0     0     0     0   97.57  \n",
       "\n",
       "[5 rows x 361 columns]"
      ]
     },
     "execution_count": 57,
     "metadata": {},
     "output_type": "execute_result"
    }
   ],
   "source": [
    "test_df['y'] = pca_xgb_reg_model_y\n",
    "test_df['y']  = test_df['y'].apply(lambda x: round(x, 2))\n",
    "test_df = test_df.reset_index(drop=True)\n",
    "test_df.head()"
   ]
  },
  {
   "cell_type": "code",
   "execution_count": 58,
   "metadata": {},
   "outputs": [
    {
     "data": {
      "image/png": "[encoded data removed]",
      "text/plain": [
       "<Figure size 720x360 with 2 Axes>"
      ]
     },
     "metadata": {
      "needs_background": "light"
     },
     "output_type": "display_data"
    }
   ],
   "source": [
    "fig, (ax1,ax2) = plt.subplots(nrows=1, ncols=2, figsize=(10, 5))\n",
    "fig.tight_layout()\n",
    "ax1.scatter(range(train_data_target.shape[0]), np.sort(train_data_target))\n",
    "ax1.set_title(\"Y - Train Dataset\")\n",
    "\n",
    "ax2.scatter(range(test_df.shape[0]), np.sort(test_df.y.values))\n",
    "ax2.set_title(\"Y-Test Dataset\")\n",
    "fig.subplots_adjust(wspace=0.10,hspace=0.2)\n",
    "\n",
    "plt.show()"
   ]
  },
  {
   "cell_type": "markdown",
   "metadata": {},
   "source": [
    "<h1>End of Project"
   ]
  }
 ],
 "metadata": {
  "kernelspec": {
   "display_name": "Python 3",
   "language": "python",
   "name": "python3"
  },
  "language_info": {
   "codemirror_mode": {
    "name": "ipython",
    "version": 3
   },
   "file_extension": ".py",
   "mimetype": "text/x-python",
   "name": "python",
   "nbconvert_exporter": "python",
   "pygments_lexer": "ipython3",
   "version": "3.8.10"
  }
 },
 "nbformat": 4,
 "nbformat_minor": 4
}
